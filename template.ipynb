{
 "cells": [
  {
   "cell_type": "markdown",
   "id": "header",
   "metadata": {},
   "source": [
    "# Day XX: [Problem Title]\n",
    "\n",
    "## Problem Description\n",
    "\n",
    "Brief description of the problem will appear here after running the setup cell."
   ]
  },
  {
   "cell_type": "code",
   "execution_count": null,
   "id": "setup",
   "metadata": {},
   "outputs": [],
   "source": [
    "from common.inputreader import InputReader, PuzzleWrapper\n",
    "\n",
    "puzzle = PuzzleWrapper(year=int(\"YYYY\"), day=int(\"DD\"))\n",
    "\n",
    "puzzle.header()"
   ]
  },
  {
   "cell_type": "markdown",
   "id": "input-processing-header",
   "metadata": {},
   "source": [
    "## Input Processing\n",
    "\n",
    "Parse and transform the input data into a usable format."
   ]
  },
  {
   "cell_type": "code",
   "execution_count": null,
   "id": "input-processing",
   "metadata": {},
   "outputs": [],
   "source": [
    "# Helper functions for input processing\n",
    "def parse_input(input_reader: InputReader) -> list:\n",
    "    \"\"\"Parse the input and return the data structure needed for solving.\"\"\"\n",
    "    lines = input_reader.lines_as_strs()\n",
    "    # TODO: Implement parsing logic\n",
    "    return lines\n",
    "\n",
    "\n",
    "# Test the input parsing with example data\n",
    "test_data = parse_input(puzzle.example(0))\n",
    "print(f\"Parsed {len(test_data)} items from example input\")\n",
    "print(f\"First item: {test_data[0] if test_data else 'No data'}\")"
   ]
  },
  {
   "cell_type": "markdown",
   "id": "part1-header",
   "metadata": {},
   "source": [
    "## Part 1\n",
    "\n",
    "Description of Part 1 requirements."
   ]
  },
  {
   "cell_type": "code",
   "execution_count": null,
   "id": "part1-solution",
   "metadata": {},
   "outputs": [],
   "source": [
    "def part_1(input_reader: InputReader, debug: bool = False) -> int:\n",
    "    \"\"\"Solve Part 1 of the puzzle.\"\"\"\n",
    "    data = parse_input(input_reader)\n",
    "    \n",
    "    # TODO: Implement solution\n",
    "    result = 0\n",
    "    \n",
    "    if debug:\n",
    "        print(f\"Debug: Result = {result}\")\n",
    "    \n",
    "    return result"
   ]
  },
  {
   "cell_type": "markdown",
   "id": "part1-test-header",
   "metadata": {},
   "source": [
    "### Part 1 - Test Case"
   ]
  },
  {
   "cell_type": "code",
   "execution_count": null,
   "id": "part1-test",
   "metadata": {},
   "outputs": [],
   "source": [
    "result = part_1(puzzle.example(0), debug=True)\n",
    "print(f\"Test result: {result}\")\n",
    "# assert result == EXPECTED_VALUE"
   ]
  },
  {
   "cell_type": "markdown",
   "id": "part1-real-header",
   "metadata": {},
   "source": [
    "### Part 1 - Real Input"
   ]
  },
  {
   "cell_type": "code",
   "execution_count": null,
   "id": "part1-real",
   "metadata": {},
   "outputs": [],
   "source": [
    "result = part_1(puzzle.input(), debug=False)\n",
    "print(f\"Part 1 result: {result}\")\n",
    "# assert result == EXPECTED_VALUE"
   ]
  },
  {
   "cell_type": "markdown",
   "id": "part2-header",
   "metadata": {},
   "source": [
    "## Part 2\n",
    "\n",
    "Description of Part 2 requirements."
   ]
  },
  {
   "cell_type": "code",
   "execution_count": null,
   "id": "part2-solution",
   "metadata": {},
   "outputs": [],
   "source": [
    "def part_2(input_reader: InputReader, debug: bool = False) -> int:\n",
    "    \"\"\"Solve Part 2 of the puzzle.\"\"\"\n",
    "    data = parse_input(input_reader)\n",
    "    \n",
    "    # TODO: Implement solution\n",
    "    result = 0\n",
    "    \n",
    "    if debug:\n",
    "        print(f\"Debug: Result = {result}\")\n",
    "    \n",
    "    return result"
   ]
  },
  {
   "cell_type": "markdown",
   "id": "part2-test-header",
   "metadata": {},
   "source": [
    "### Part 2 - Test Case"
   ]
  },
  {
   "cell_type": "code",
   "execution_count": null,
   "id": "part2-test",
   "metadata": {},
   "outputs": [],
   "source": [
    "result = part_2(puzzle.example(0), debug=True)\n",
    "print(f\"Test result: {result}\")\n",
    "# assert result == EXPECTED_VALUE"
   ]
  },
  {
   "cell_type": "markdown",
   "id": "part2-real-header",
   "metadata": {},
   "source": [
    "### Part 2 - Real Input"
   ]
  },
  {
   "cell_type": "code",
   "execution_count": null,
   "id": "part2-real",
   "metadata": {},
   "outputs": [],
   "source": [
    "result = part_2(puzzle.input(), debug=False)\n",
    "print(f\"Part 2 result: {result}\")\n",
    "# assert result == EXPECTED_VALUE"
   ]
  },
  {
   "cell_type": "markdown",
   "id": "easter-eggs-header",
   "metadata": {},
   "source": [
    "## Easter Eggs\n",
    "\n",
    "Some Advent of Code puzzles contain hidden messages or Easter eggs."
   ]
  },
  {
   "cell_type": "code",
   "execution_count": null,
   "id": "easter-eggs",
   "metadata": {},
   "outputs": [],
   "source": [
    "puzzle.print_easter_eggs()"
   ]
  }
 ],
 "metadata": {
  "kernelspec": {
   "display_name": "Python 3",
   "language": "python",
   "name": "python3"
  },
  "language_info": {
   "codemirror_mode": {
    "name": "ipython",
    "version": 3
   },
   "file_extension": ".py",
   "mimetype": "text/x-python",
   "name": "python",
   "nbconvert_exporter": "python",
   "pygments_lexer": "ipython3",
   "version": "3.13.0"
  }
 },
 "nbformat": 4,
 "nbformat_minor": 5
}
