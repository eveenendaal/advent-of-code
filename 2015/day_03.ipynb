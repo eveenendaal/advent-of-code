{
 "cells": [
  {
   "cell_type": "code",
   "execution_count": 19,
   "id": "dec75b3898d7314f",
   "metadata": {},
   "outputs": [
    {
     "data": {
      "text/markdown": [
       "# Perfectly Spherical Houses in a Vacuum"
      ],
      "text/plain": [
       "<IPython.core.display.Markdown object>"
      ]
     },
     "metadata": {},
     "output_type": "display_data"
    },
    {
     "data": {
      "text/markdown": [
       "[Open Website](https://adventofcode.com/2015/day/3)"
      ],
      "text/plain": [
       "<IPython.core.display.Markdown object>"
      ]
     },
     "metadata": {},
     "output_type": "display_data"
    }
   ],
   "source": [
    "\n",
    "from common.inputreader import InputReader, PuzzleWrapper\n",
    "\n",
    "puzzle = PuzzleWrapper(year=int(\"2015\"), day=int(\"03\"))\n",
    "\n",
    "puzzle.header()"
   ]
  },
  {
   "cell_type": "code",
   "execution_count": 20,
   "id": "34dd2d43c40af29b",
   "metadata": {},
   "outputs": [
    {
     "name": "stdout",
     "output_type": "stream",
     "text": [
      "['^']\n"
     ]
    }
   ],
   "source": [
    "# helper functions\n",
    "def domain_from_input(input: InputReader) -> list:\n",
    "    lines = input.as_chrs()\n",
    "\n",
    "    return lines\n",
    "\n",
    "\n",
    "test_input = domain_from_input(puzzle.get_code_block(0, 0))\n",
    "print(test_input)"
   ]
  },
  {
   "cell_type": "code",
   "execution_count": 21,
   "id": "6d23892a17117fed",
   "metadata": {},
   "outputs": [
    {
     "name": "stdout",
     "output_type": "stream",
     "text": [
      "2\n",
      "4\n",
      "2\n"
     ]
    }
   ],
   "source": [
    "# test case (part 1)\n",
    "def part_1(reader: InputReader, debug: bool) -> int:\n",
    "    houses = set()\n",
    "    x, y = 0, 0\n",
    "\n",
    "    for next in domain_from_input(reader):\n",
    "        houses.add((x, y))\n",
    "\n",
    "        if next == \"^\":\n",
    "            y += 1\n",
    "        elif next == \"v\":\n",
    "            y -= 1\n",
    "        elif next == \"<\":\n",
    "            x -= 1\n",
    "        elif next == \">\":\n",
    "            x += 1\n",
    "\n",
    "        houses.add((x, y))\n",
    "\n",
    "    return len(houses)\n",
    "\n",
    "\n",
    "result = part_1(puzzle.get_code_block(0, 0), True)\n",
    "print(result)\n",
    "assert result == 2\n",
    "\n",
    "result = part_1(puzzle.get_code_block(6, 0), True)\n",
    "print(result)\n",
    "assert result == 4\n",
    "\n",
    "result = part_1(puzzle.get_code_block(8, 0), True)\n",
    "print(result)\n",
    "assert result == 2"
   ]
  },
  {
   "cell_type": "code",
   "execution_count": 22,
   "id": "66cab898e4711d42",
   "metadata": {},
   "outputs": [
    {
     "name": "stdout",
     "output_type": "stream",
     "text": [
      "2081\n"
     ]
    }
   ],
   "source": [
    "# real case (part 1)\n",
    "result = part_1(puzzle.input(), False)\n",
    "print(result)\n",
    "assert result == 2081"
   ]
  },
  {
   "cell_type": "code",
   "execution_count": 23,
   "id": "d2277c7db8ea0a5e",
   "metadata": {},
   "outputs": [
    {
     "name": "stdout",
     "output_type": "stream",
     "text": [
      "3\n",
      "3\n",
      "11\n"
     ]
    }
   ],
   "source": [
    "# test case (part 2)\n",
    "def move(position, direction):\n",
    "    x, y = position\n",
    "    if direction == '^':\n",
    "        return (x, y + 1)\n",
    "    elif direction == 'v':\n",
    "        return (x, y - 1)\n",
    "    elif direction == '>':\n",
    "        return (x + 1, y)\n",
    "    elif direction == '<':\n",
    "        return (x - 1, y)\n",
    "    else:\n",
    "        raise ValueError(f\"Invalid direction: {direction}\")\n",
    "\n",
    "\n",
    "def part_2(reader: InputReader, debug: bool) -> int:\n",
    "    instructions = domain_from_input(reader)\n",
    "\n",
    "    santa_position = (0, 0)\n",
    "    robo_santa_position = (0, 0)\n",
    "    visited_houses = {santa_position}\n",
    "\n",
    "    for i, direction in enumerate(instructions):\n",
    "        if i % 2 == 0:\n",
    "            # Santa's turn\n",
    "            santa_position = move(santa_position, direction)\n",
    "            visited_houses.add(santa_position)\n",
    "        else:\n",
    "            # Robo-Santa's turn\n",
    "            robo_santa_position = move(robo_santa_position, direction)\n",
    "            visited_houses.add(robo_santa_position)\n",
    "\n",
    "    return len(visited_houses)\n",
    "\n",
    "\n",
    "result = part_2(InputReader(\"^v\"), True)\n",
    "print(result)\n",
    "assert result == 3\n",
    "\n",
    "result = part_2(InputReader(\"^>v<\"), True)\n",
    "print(result)\n",
    "assert result == 3\n",
    "\n",
    "result = part_2(InputReader(\"^v^v^v^v^v\"), True)\n",
    "print(result)\n",
    "assert result == 11"
   ]
  },
  {
   "cell_type": "code",
   "execution_count": 24,
   "id": "57c071f7c6d2914",
   "metadata": {},
   "outputs": [
    {
     "name": "stdout",
     "output_type": "stream",
     "text": [
      "2341\n"
     ]
    }
   ],
   "source": [
    "# real case (part 2)\n",
    "result = part_2(puzzle.input(), False)\n",
    "print(result)\n",
    "assert result == 2341"
   ]
  },
  {
   "cell_type": "code",
   "execution_count": 25,
   "id": "44e329cbb6ad2400",
   "metadata": {},
   "outputs": [
    {
     "data": {
      "text/markdown": [
       "## Easter Eggs"
      ],
      "text/plain": [
       "<IPython.core.display.Markdown object>"
      ]
     },
     "metadata": {},
     "output_type": "display_data"
    }
   ],
   "source": [
    "# print easters eggs\n",
    "puzzle.print_easter_eggs()"
   ]
  }
 ],
 "metadata": {
  "kernelspec": {
   "display_name": ".venv",
   "language": "python",
   "name": "python3"
  },
  "language_info": {
   "codemirror_mode": {
    "name": "ipython",
    "version": 3
   },
   "file_extension": ".py",
   "mimetype": "text/x-python",
   "name": "python",
   "nbconvert_exporter": "python",
   "pygments_lexer": "ipython3",
   "version": "3.12.1"
  }
 },
 "nbformat": 4,
 "nbformat_minor": 5
}
