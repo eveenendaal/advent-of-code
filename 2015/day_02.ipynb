{
 "cells": [
  {
   "metadata": {
    "ExecuteTime": {
     "end_time": "2024-12-26T10:40:41.430716Z",
     "start_time": "2024-12-26T10:40:41.416053Z"
    }
   },
   "cell_type": "code",
   "source": [
    "from common.inputreader import InputReader, PuzzleWrapper\n",
    "\n",
    "puzzle = PuzzleWrapper(year=int(\"2015\"), day=int(\"02\"))\n",
    "\n",
    "puzzle.header()"
   ],
   "id": "dec75b3898d7314f",
   "outputs": [
    {
     "data": {
      "text/plain": [
       "<IPython.core.display.Markdown object>"
      ],
      "text/markdown": "# I Was Told There Would Be No Math"
     },
     "metadata": {},
     "output_type": "display_data"
    },
    {
     "data": {
      "text/plain": [
       "<IPython.core.display.Markdown object>"
      ],
      "text/markdown": "[Open Website](https://adventofcode.com/2015/day/2)"
     },
     "metadata": {},
     "output_type": "display_data"
    }
   ],
   "execution_count": 22
  },
  {
   "metadata": {
    "ExecuteTime": {
     "end_time": "2024-12-26T10:40:41.476684Z",
     "start_time": "2024-12-26T10:40:41.468955Z"
    }
   },
   "cell_type": "code",
   "source": [
    "# helper functions\n",
    "def domain_from_input(input: InputReader) -> list:\n",
    "    lines = input.lines_as_ints(\"x\")\n",
    "\n",
    "    return lines\n",
    "\n",
    "\n",
    "test_input = domain_from_input(puzzle.example(0))\n",
    "print(test_input)"
   ],
   "id": "34dd2d43c40af29b",
   "outputs": [
    {
     "name": "stdout",
     "output_type": "stream",
     "text": [
      "[[2, 3, 4]]\n"
     ]
    }
   ],
   "execution_count": 23
  },
  {
   "metadata": {
    "ExecuteTime": {
     "end_time": "2024-12-26T10:40:41.517561Z",
     "start_time": "2024-12-26T10:40:41.512825Z"
    }
   },
   "cell_type": "code",
   "source": [
    "# test case (part 1)\n",
    "def part_1(reader: InputReader, debug: bool) -> int:\n",
    "    lines = domain_from_input(reader)\n",
    "    total_paper = 0\n",
    "\n",
    "    for l, w, h in lines:\n",
    "        sides = [l * w, w * h, h * l]\n",
    "        smallest_side = min(sides)\n",
    "        sides = [2 * x for x in sides]\n",
    "        total_paper += sum(sides) + smallest_side\n",
    "\n",
    "    return total_paper\n",
    "\n",
    "\n",
    "result = part_1(InputReader(\"2x3x4\"), True)\n",
    "print(result)\n",
    "assert result == 58\n",
    "\n",
    "result = part_1(InputReader(\"1x1x10\"), True)\n",
    "print(result)\n",
    "assert result == 43"
   ],
   "id": "6d23892a17117fed",
   "outputs": [
    {
     "name": "stdout",
     "output_type": "stream",
     "text": [
      "58\n",
      "43\n"
     ]
    }
   ],
   "execution_count": 24
  },
  {
   "metadata": {
    "ExecuteTime": {
     "end_time": "2024-12-26T10:40:41.528633Z",
     "start_time": "2024-12-26T10:40:41.524906Z"
    }
   },
   "cell_type": "code",
   "source": [
    "# real case (part 1)\n",
    "result = part_1(puzzle.input(), True)\n",
    "print(result)\n",
    "assert result == 1606483"
   ],
   "id": "66cab898e4711d42",
   "outputs": [
    {
     "name": "stdout",
     "output_type": "stream",
     "text": [
      "1606483\n"
     ]
    }
   ],
   "execution_count": 25
  },
  {
   "metadata": {
    "ExecuteTime": {
     "end_time": "2024-12-26T10:40:41.547126Z",
     "start_time": "2024-12-26T10:40:41.544377Z"
    }
   },
   "cell_type": "code",
   "source": [
    "# test case (part 2)\n",
    "def part_2(reader: InputReader, debug: bool) -> int:\n",
    "    lines = domain_from_input(reader)\n",
    "    total_ribbon = 0\n",
    "\n",
    "    for l, w, h in lines:\n",
    "        perimeters = [2 * (l + w), 2 * (w + h), 2 * (h + l)]\n",
    "        smallest_perimeter = min(perimeters)\n",
    "        volume = l * w * h\n",
    "        total_ribbon += smallest_perimeter + volume\n",
    "\n",
    "        if debug:\n",
    "            print(\n",
    "                f'Dimensions: {l}x{w}x{h}, Smallest Perimeter: {smallest_perimeter}, Volume: {volume}, Total Ribbon: {total_ribbon}')\n",
    "\n",
    "    return total_ribbon\n",
    "\n",
    "\n",
    "result = part_2(InputReader(\"2x3x4\"), True)\n",
    "print(result)\n",
    "assert result == 34\n",
    "\n",
    "result = part_2(InputReader(\"1x1x10\"), True)\n",
    "print(result)\n",
    "assert result == 14"
   ],
   "id": "d2277c7db8ea0a5e",
   "outputs": [
    {
     "name": "stdout",
     "output_type": "stream",
     "text": [
      "Dimensions: 2x3x4, Smallest Perimeter: 10, Volume: 24, Total Ribbon: 34\n",
      "34\n",
      "Dimensions: 1x1x10, Smallest Perimeter: 4, Volume: 10, Total Ribbon: 14\n",
      "14\n"
     ]
    }
   ],
   "execution_count": 26
  },
  {
   "metadata": {
    "ExecuteTime": {
     "end_time": "2024-12-26T10:40:41.631542Z",
     "start_time": "2024-12-26T10:40:41.628313Z"
    }
   },
   "cell_type": "code",
   "source": [
    "# real case (part 2)\n",
    "result = part_2(puzzle.input(), False)\n",
    "print(result)\n",
    "assert result == 3842356"
   ],
   "id": "57c071f7c6d2914",
   "outputs": [
    {
     "name": "stdout",
     "output_type": "stream",
     "text": [
      "3842356\n"
     ]
    }
   ],
   "execution_count": 27
  },
  {
   "metadata": {
    "ExecuteTime": {
     "end_time": "2024-12-26T10:40:41.728896Z",
     "start_time": "2024-12-26T10:40:41.722775Z"
    }
   },
   "cell_type": "code",
   "source": [
    "# print easters eggs\n",
    "puzzle.print_easter_eggs()"
   ],
   "id": "44e329cbb6ad2400",
   "outputs": [
    {
     "data": {
      "text/plain": [
       "<IPython.core.display.Markdown object>"
      ],
      "text/markdown": "## Easter Eggs"
     },
     "metadata": {},
     "output_type": "display_data"
    },
    {
     "data": {
      "text/plain": [
       "<IPython.core.display.Markdown object>"
      ],
      "text/markdown": "<span title=\"Yes, I realize most of these presents are luxury yachts.\">feet</span> (Yes, I realize most of these presents are luxury yachts.)"
     },
     "metadata": {},
     "output_type": "display_data"
    }
   ],
   "execution_count": 28
  }
 ],
 "metadata": {
  "kernelspec": {
   "display_name": "Python 3",
   "language": "python",
   "name": "python3"
  },
  "language_info": {
   "codemirror_mode": {
    "name": "ipython",
    "version": 2
   },
   "file_extension": ".py",
   "mimetype": "text/x-python",
   "name": "python",
   "nbconvert_exporter": "python",
   "pygments_lexer": "ipython2",
   "version": "2.7.6"
  }
 },
 "nbformat": 4,
 "nbformat_minor": 5
}
