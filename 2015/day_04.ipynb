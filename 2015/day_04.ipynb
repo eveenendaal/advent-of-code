{
 "cells": [
  {
   "cell_type": "code",
   "execution_count": 27,
   "id": "dec75b3898d7314f",
   "metadata": {},
   "outputs": [
    {
     "data": {
      "text/markdown": [
       "# The Ideal Stocking Stuffer"
      ],
      "text/plain": [
       "<IPython.core.display.Markdown object>"
      ]
     },
     "metadata": {},
     "output_type": "display_data"
    },
    {
     "data": {
      "text/markdown": [
       "[Open Website](https://adventofcode.com/2015/day/4)"
      ],
      "text/plain": [
       "<IPython.core.display.Markdown object>"
      ]
     },
     "metadata": {},
     "output_type": "display_data"
    }
   ],
   "source": [
    "from common.inputreader import InputReader, PuzzleWrapper\n",
    "\n",
    "puzzle = PuzzleWrapper(year=int(\"2015\"), day=int(\"04\"))\n",
    "\n",
    "puzzle.header()"
   ]
  },
  {
   "cell_type": "code",
   "execution_count": 28,
   "id": "34dd2d43c40af29b",
   "metadata": {},
   "outputs": [
    {
     "name": "stdout",
     "output_type": "stream",
     "text": [
      "abcdef\n"
     ]
    }
   ],
   "source": [
    "# helper functions\n",
    "def domain_from_input(input: InputReader) -> list:\n",
    "    lines = input.as_str()\n",
    "\n",
    "    return lines\n",
    "\n",
    "test_input = domain_from_input(puzzle.example(0))\n",
    "print(test_input)"
   ]
  },
  {
   "cell_type": "code",
   "execution_count": 29,
   "id": "6d23892a17117fed",
   "metadata": {},
   "outputs": [
    {
     "name": "stdout",
     "output_type": "stream",
     "text": [
      "abcdef\n",
      "609043\n",
      "pqrstuv\n",
      "1048970\n"
     ]
    }
   ],
   "source": [
    "import hashlib\n",
    "\n",
    "# test case (part 1)\n",
    "def part_1(reader: InputReader, debug: bool, zeros=5) -> int:\n",
    "    line = domain_from_input(reader)\n",
    "    if debug:\n",
    "        print(line)\n",
    "        \n",
    "    i = 0\n",
    "    while True:\n",
    "        # perform md5 hash\n",
    "        result = hashlib.md5(f\"{line}{i}\".encode()).hexdigest()\n",
    "        # if starts with 5 zeros\n",
    "        if result.startswith(\"0\"*zeros):\n",
    "            return i\n",
    "        i += 1\n",
    "\n",
    "result = part_1(puzzle.get_code_block(0,4), True)\n",
    "print(result)\n",
    "assert result == 609043\n",
    "\n",
    "result = part_1(puzzle.get_code_block(4,4), True)\n",
    "print(result)\n",
    "assert result == 1048970"
   ]
  },
  {
   "cell_type": "code",
   "execution_count": 30,
   "id": "66cab898e4711d42",
   "metadata": {},
   "outputs": [
    {
     "name": "stdout",
     "output_type": "stream",
     "text": [
      "254575\n"
     ]
    }
   ],
   "source": [
    "# real case (part 1)\n",
    "result = part_1(puzzle.input(), False)\n",
    "print(result)\n",
    "assert result == 254575"
   ]
  },
  {
   "cell_type": "code",
   "execution_count": 31,
   "id": "57c071f7c6d2914",
   "metadata": {},
   "outputs": [
    {
     "name": "stdout",
     "output_type": "stream",
     "text": [
      "1038736\n"
     ]
    }
   ],
   "source": [
    "# real case (part 2)\n",
    "result = part_1(puzzle.input(), False, 6)\n",
    "print(result)\n",
    "assert result == 1038736"
   ]
  },
  {
   "cell_type": "code",
   "execution_count": 32,
   "id": "44e329cbb6ad2400",
   "metadata": {},
   "outputs": [
    {
     "data": {
      "text/markdown": [
       "## Easter Eggs"
      ],
      "text/plain": [
       "<IPython.core.display.Markdown object>"
      ]
     },
     "metadata": {},
     "output_type": "display_data"
    },
    {
     "data": {
      "text/markdown": [
       "<span title=\"Hey, mined your own business!\">AdventCoins</span> (Hey, mined your own business!)"
      ],
      "text/plain": [
       "<IPython.core.display.Markdown object>"
      ]
     },
     "metadata": {},
     "output_type": "display_data"
    }
   ],
   "source": [
    "# print easters eggs\n",
    "puzzle.print_easter_eggs()"
   ]
  }
 ],
 "metadata": {
  "kernelspec": {
   "display_name": ".venv",
   "language": "python",
   "name": "python3"
  },
  "language_info": {
   "codemirror_mode": {
    "name": "ipython",
    "version": 3
   },
   "file_extension": ".py",
   "mimetype": "text/x-python",
   "name": "python",
   "nbconvert_exporter": "python",
   "pygments_lexer": "ipython3",
   "version": "3.12.1"
  }
 },
 "nbformat": 4,
 "nbformat_minor": 5
}
