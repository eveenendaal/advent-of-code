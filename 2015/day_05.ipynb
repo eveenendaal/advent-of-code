{
 "cells": [
  {
   "cell_type": "code",
   "execution_count": 19,
   "id": "dec75b3898d7314f",
   "metadata": {},
   "outputs": [
    {
     "data": {
      "text/markdown": [
       "# Doesn't He Have Intern-Elves For This?"
      ],
      "text/plain": [
       "<IPython.core.display.Markdown object>"
      ]
     },
     "metadata": {},
     "output_type": "display_data"
    },
    {
     "data": {
      "text/markdown": [
       "[Open Website](https://adventofcode.com/2015/day/5)"
      ],
      "text/plain": [
       "<IPython.core.display.Markdown object>"
      ]
     },
     "metadata": {},
     "output_type": "display_data"
    }
   ],
   "source": [
    "from common.inputreader import InputReader, PuzzleWrapper\n",
    "\n",
    "puzzle = PuzzleWrapper(year=int(\"2015\"), day=int(\"05\"))\n",
    "\n",
    "puzzle.header()"
   ]
  },
  {
   "cell_type": "code",
   "execution_count": 20,
   "id": "34dd2d43c40af29b",
   "metadata": {},
   "outputs": [
    {
     "name": "stdout",
     "output_type": "stream",
     "text": [
      "['ugknbfddgicrmopn']\n"
     ]
    }
   ],
   "source": [
    "# helper functions\n",
    "def domain_from_input(input: InputReader) -> list:\n",
    "    return input.lines_as_str()\n",
    "\n",
    "\n",
    "test_input = domain_from_input(puzzle.example(0))\n",
    "print(test_input)"
   ]
  },
  {
   "cell_type": "code",
   "execution_count": 21,
   "id": "6d23892a17117fed",
   "metadata": {},
   "outputs": [
    {
     "name": "stdout",
     "output_type": "stream",
     "text": [
      "['ugknbfddgicrmopn']\n",
      "1\n",
      "['aaa']\n",
      "1\n",
      "['jchzalrnumimnmhp']\n",
      "0\n"
     ]
    }
   ],
   "source": [
    "# test case (part 1)\n",
    "def is_nice_string(s: str) -> bool:\n",
    "    # Check for at least three vowels\n",
    "    vowels = set('aeiou')\n",
    "    vowel_count = sum(1 for char in s if char in vowels)\n",
    "    if vowel_count < 3:\n",
    "        return False\n",
    "\n",
    "    # Check for at least one letter that appears twice in a row\n",
    "    has_double_letter = any(s[i] == s[i + 1] for i in range(len(s) - 1))\n",
    "    if not has_double_letter:\n",
    "        return False\n",
    "\n",
    "    # Check for forbidden substrings\n",
    "    forbidden_substrings = ['ab', 'cd', 'pq', 'xy']\n",
    "    if any(substring in s for substring in forbidden_substrings):\n",
    "        return False\n",
    "\n",
    "    return True\n",
    "\n",
    "\n",
    "def part_1(reader: InputReader, debug: bool) -> int:\n",
    "    nice_strings = 0\n",
    "\n",
    "    lines = domain_from_input(reader)\n",
    "    for line in lines:\n",
    "        if is_nice_string(line):\n",
    "            nice_strings += 1\n",
    "\n",
    "    if debug:\n",
    "        print(lines)\n",
    "\n",
    "    return nice_strings\n",
    "\n",
    "\n",
    "result = part_1(InputReader(\"ugknbfddgicrmopn\"), True)\n",
    "print(result)\n",
    "assert result == 1\n",
    "\n",
    "result = part_1(InputReader(\"aaa\"), True)\n",
    "print(result)\n",
    "assert result == 1\n",
    "\n",
    "result = part_1(InputReader(\"jchzalrnumimnmhp\"), True)\n",
    "print(result)\n",
    "assert result == 0"
   ]
  },
  {
   "cell_type": "code",
   "execution_count": 22,
   "id": "66cab898e4711d42",
   "metadata": {},
   "outputs": [
    {
     "name": "stdout",
     "output_type": "stream",
     "text": [
      "236\n"
     ]
    }
   ],
   "source": [
    "# real case (part 1)\n",
    "result = part_1(puzzle.input(), False)\n",
    "print(result)\n",
    "assert result == 236"
   ]
  },
  {
   "cell_type": "code",
   "execution_count": 23,
   "id": "d2277c7db8ea0a5e",
   "metadata": {},
   "outputs": [
    {
     "name": "stdout",
     "output_type": "stream",
     "text": [
      "['qjhvhtzxzqqjkmpb']\n",
      "1\n",
      "['xxyxx']\n",
      "1\n",
      "['uurcxstgmygtbstg']\n",
      "0\n",
      "['ieodomkazucvgmuy']\n",
      "0\n"
     ]
    }
   ],
   "source": [
    "# test case (part 2)\n",
    "def is_nice_new(s: str) -> bool:\n",
    "    # Check for a pair of any two letters that appears at least twice without overlapping\n",
    "    has_pair = False\n",
    "    for i in range(len(s) - 1):\n",
    "        pair = s[i:i + 2]\n",
    "        if pair in s[i + 2:]:\n",
    "            has_pair = True\n",
    "            break\n",
    "    if not has_pair:\n",
    "        return False\n",
    "\n",
    "    # Check for at least one letter which repeats with exactly one letter between them\n",
    "    has_repeat_with_one_between = any(s[i] == s[i + 2] for i in range(len(s) - 2))\n",
    "    if not has_repeat_with_one_between:\n",
    "        return False\n",
    "\n",
    "    return True\n",
    "\n",
    "\n",
    "def part_2(reader: InputReader, debug: bool) -> int:\n",
    "    nice_strings = 0\n",
    "\n",
    "    lines = domain_from_input(reader)\n",
    "    for line in lines:\n",
    "        if is_nice_new(line):\n",
    "            nice_strings += 1\n",
    "\n",
    "    if debug:\n",
    "        print(lines)\n",
    "\n",
    "    return nice_strings\n",
    "\n",
    "\n",
    "result = part_2(InputReader(\"qjhvhtzxzqqjkmpb\"), True)\n",
    "print(result)\n",
    "assert result == 1\n",
    "\n",
    "result = part_2(InputReader(\"xxyxx\"), True)\n",
    "print(result)\n",
    "assert result == 1\n",
    "\n",
    "result = part_2(InputReader(\"uurcxstgmygtbstg\"), True)\n",
    "print(result)\n",
    "assert result == 0\n",
    "\n",
    "result = part_2(InputReader(\"ieodomkazucvgmuy\"), True)\n",
    "print(result)\n",
    "assert result == 0"
   ]
  },
  {
   "cell_type": "code",
   "execution_count": 24,
   "id": "57c071f7c6d2914",
   "metadata": {},
   "outputs": [
    {
     "name": "stdout",
     "output_type": "stream",
     "text": [
      "51\n"
     ]
    }
   ],
   "source": [
    "# real case (part 2)\n",
    "result = part_2(puzzle.input(), False)\n",
    "print(result)\n",
    "assert result == 51"
   ]
  },
  {
   "cell_type": "code",
   "execution_count": 25,
   "id": "44e329cbb6ad2400",
   "metadata": {},
   "outputs": [
    {
     "data": {
      "text/markdown": [
       "## Easter Eggs"
      ],
      "text/plain": [
       "<IPython.core.display.Markdown object>"
      ]
     },
     "metadata": {},
     "output_type": "display_data"
    },
    {
     "data": {
      "text/markdown": [
       "<code title=\"John Madden John Madden John Madden\">aeiouaeiouaeiou</code> (John Madden John Madden John Madden)"
      ],
      "text/plain": [
       "<IPython.core.display.Markdown object>"
      ]
     },
     "metadata": {},
     "output_type": "display_data"
    }
   ],
   "source": [
    "# print easters eggs\n",
    "puzzle.print_easter_eggs()"
   ]
  }
 ],
 "metadata": {
  "kernelspec": {
   "display_name": ".venv",
   "language": "python",
   "name": "python3"
  },
  "language_info": {
   "codemirror_mode": {
    "name": "ipython",
    "version": 3
   },
   "file_extension": ".py",
   "mimetype": "text/x-python",
   "name": "python",
   "nbconvert_exporter": "python",
   "pygments_lexer": "ipython3",
   "version": "3.12.1"
  }
 },
 "nbformat": 4,
 "nbformat_minor": 5
}
