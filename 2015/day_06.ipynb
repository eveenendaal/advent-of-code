{
 "cells": [
  {
   "cell_type": "code",
   "id": "dec75b3898d7314f",
   "metadata": {
    "ExecuteTime": {
     "end_time": "2025-09-30T14:28:20.273219Z",
     "start_time": "2025-09-30T14:28:19.747353Z"
    }
   },
   "source": [
    "from common.inputreader import InputReader, PuzzleWrapper\n",
    "\n",
    "puzzle = PuzzleWrapper(year=int(\"2015\"), day=int(\"06\"))\n",
    "\n",
    "puzzle.header()"
   ],
   "outputs": [
    {
     "data": {
      "text/plain": [
       "<IPython.core.display.Markdown object>"
      ],
      "text/markdown": "# Probably a Fire Hazard"
     },
     "metadata": {},
     "output_type": "display_data",
     "jetTransient": {
      "display_id": null
     }
    },
    {
     "data": {
      "text/plain": [
       "<IPython.core.display.Markdown object>"
      ],
      "text/markdown": "[Open Website](https://adventofcode.com/2015/day/6)"
     },
     "metadata": {},
     "output_type": "display_data",
     "jetTransient": {
      "display_id": null
     }
    }
   ],
   "execution_count": 1
  },
  {
   "cell_type": "code",
   "id": "34dd2d43c40af29b",
   "metadata": {
    "ExecuteTime": {
     "end_time": "2025-09-30T14:30:54.414236Z",
     "start_time": "2025-09-30T14:30:54.302688Z"
    }
   },
   "source": [
    "import re\n",
    "\n",
    "\n",
    "# helper functions\n",
    "def domain_from_input(input: InputReader) -> list:\n",
    "    pattern = re.compile(r\"^(turn on|turn off|toggle) (\\d+),(\\d+) through (\\d+),(\\d+)$\")\n",
    "    parsed = []\n",
    "    for line in input.lines_as_str():\n",
    "        line = line.strip()\n",
    "        if not line:\n",
    "            continue\n",
    "        m = pattern.match(line)\n",
    "        if not m:\n",
    "            # if a line doesn't match, keep the raw line to avoid losing data\n",
    "            parsed.append(line)\n",
    "            continue\n",
    "        action = m.group(1)\n",
    "        x1, y1, x2, y2 = map(int, m.group(2, 3, 4, 5))\n",
    "        parsed.append((action, (x1, y1), (x2, y2)))\n",
    "\n",
    "    return parsed\n",
    "\n",
    "\n",
    "test_input = domain_from_input(puzzle.example(0))\n",
    "print(test_input)"
   ],
   "outputs": [
    {
     "name": "stdout",
     "output_type": "stream",
     "text": [
      "[('turn on', (0, 0), (999, 999))]\n"
     ]
    }
   ],
   "execution_count": 4
  },
  {
   "cell_type": "code",
   "id": "f1954dbae22e1041",
   "metadata": {
    "ExecuteTime": {
     "end_time": "2025-09-30T14:36:58.421209Z",
     "start_time": "2025-09-30T14:36:58.318784Z"
    }
   },
   "source": [
    "# test case (part 1)\n",
    "def part_1(reader: InputReader, debug: bool) -> int:\n",
    "    grid = [[0 for _ in range(1000)] for _ in range(1000)]\n",
    "\n",
    "    lines = domain_from_input(reader)\n",
    "    for line in lines:\n",
    "        action, (x1, y1), (x2, y2) = line\n",
    "        for x in range(x1, x2 + 1):\n",
    "            for y in range(y1, y2 + 1):\n",
    "                if action == \"turn on\":\n",
    "                    grid[x][y] = 1\n",
    "                elif action == \"turn off\":\n",
    "                    grid[x][y] = 0\n",
    "                elif action == \"toggle\":\n",
    "                    grid[x][y] = 1 - grid[x][y]\n",
    "\n",
    "    total = 0\n",
    "    for row in grid:\n",
    "        total += sum(row)\n",
    "\n",
    "    return total\n",
    "\n",
    "\n",
    "result = part_1(puzzle.example(0), True)\n",
    "print(result)\n",
    "assert result == 1000 * 1000"
   ],
   "outputs": [
    {
     "name": "stdout",
     "output_type": "stream",
     "text": [
      "1000000\n"
     ]
    }
   ],
   "execution_count": 15
  },
  {
   "cell_type": "code",
   "id": "66cab898e4711d42",
   "metadata": {
    "ExecuteTime": {
     "end_time": "2025-09-30T14:36:59.841743Z",
     "start_time": "2025-09-30T14:36:58.590986Z"
    }
   },
   "source": [
    "# real case (part 1)\n",
    "result = part_1(puzzle.input(), False)\n",
    "print(result)\n",
    "assert result == 377891"
   ],
   "outputs": [
    {
     "name": "stdout",
     "output_type": "stream",
     "text": [
      "851665\n"
     ]
    },
    {
     "ename": "AssertionError",
     "evalue": "",
     "output_type": "error",
     "traceback": [
      "\u001B[31m---------------------------------------------------------------------------\u001B[39m",
      "\u001B[31mAssertionError\u001B[39m                            Traceback (most recent call last)",
      "\u001B[36mCell\u001B[39m\u001B[36m \u001B[39m\u001B[32mIn[16]\u001B[39m\u001B[32m, line 4\u001B[39m\n\u001B[32m      2\u001B[39m result = part_1(puzzle.input(), \u001B[38;5;28;01mFalse\u001B[39;00m)\n\u001B[32m      3\u001B[39m \u001B[38;5;28mprint\u001B[39m(result)\n\u001B[32m----> \u001B[39m\u001B[32m4\u001B[39m \u001B[38;5;28;01massert\u001B[39;00m result == \u001B[32m377891\u001B[39m\n",
      "\u001B[31mAssertionError\u001B[39m: "
     ]
    }
   ],
   "execution_count": 16
  },
  {
   "cell_type": "code",
   "id": "a04250555585bcd7",
   "metadata": {
    "ExecuteTime": {
     "end_time": "2025-09-30T14:41:16.226447Z",
     "start_time": "2025-09-30T14:41:16.060087Z"
    }
   },
   "source": [
    "# test case (part 2)\n",
    "def part_2(reader: InputReader, debug: bool) -> int:\n",
    "    grid = [[0 for _ in range(1000)] for _ in range(1000)]\n",
    "\n",
    "    lines = domain_from_input(reader)\n",
    "    for line in lines:\n",
    "        action, (x1, y1), (x2, y2) = line\n",
    "        for x in range(x1, x2 + 1):\n",
    "            for y in range(y1, y2 + 1):\n",
    "                if action == \"turn on\":\n",
    "                    grid[x][y] = grid[x][y] + 1\n",
    "                elif action == \"turn off\":\n",
    "                    grid[x][y] = max(grid[x][y] - 1, 0)\n",
    "                elif action == \"toggle\":\n",
    "                    grid[x][y] = 2 + grid[x][y]\n",
    "\n",
    "    total = 0\n",
    "    for row in grid:\n",
    "        total += sum(row)\n",
    "\n",
    "    return total\n",
    "\n",
    "\n",
    "result = part_2(puzzle.example(3), True)\n",
    "print(result)\n",
    "assert result == 1\n",
    "result = part_2(puzzle.example(4), True)\n",
    "print(result)\n",
    "assert result == 2000000"
   ],
   "outputs": [
    {
     "name": "stdout",
     "output_type": "stream",
     "text": [
      "1\n",
      "2000000\n"
     ]
    }
   ],
   "execution_count": 27
  },
  {
   "cell_type": "code",
   "id": "b6f4e7d8c9a1b2c3",
   "metadata": {
    "ExecuteTime": {
     "end_time": "2025-09-30T14:41:18.767243Z",
     "start_time": "2025-09-30T14:41:17.141404Z"
    }
   },
   "source": [
    "# real case (part 2)\n",
    "result = part_2(puzzle.input(), False)\n",
    "print(result)\n",
    "assert result == 14110788"
   ],
   "outputs": [
    {
     "name": "stdout",
     "output_type": "stream",
     "text": [
      "14110788\n"
     ]
    },
    {
     "ename": "AssertionError",
     "evalue": "",
     "output_type": "error",
     "traceback": [
      "\u001B[31m---------------------------------------------------------------------------\u001B[39m",
      "\u001B[31mAssertionError\u001B[39m                            Traceback (most recent call last)",
      "\u001B[36mCell\u001B[39m\u001B[36m \u001B[39m\u001B[32mIn[28]\u001B[39m\u001B[32m, line 4\u001B[39m\n\u001B[32m      2\u001B[39m result = part_2(puzzle.input(), \u001B[38;5;28;01mFalse\u001B[39;00m)\n\u001B[32m      3\u001B[39m \u001B[38;5;28mprint\u001B[39m(result)\n\u001B[32m----> \u001B[39m\u001B[32m4\u001B[39m \u001B[38;5;28;01massert\u001B[39;00m result == \u001B[32m1262027\u001B[39m\n",
      "\u001B[31mAssertionError\u001B[39m: "
     ]
    }
   ],
   "execution_count": 28
  },
  {
   "metadata": {},
   "cell_type": "code",
   "outputs": [],
   "execution_count": null,
   "source": "",
   "id": "4ac57b5ce980a5f8"
  }
 ],
 "metadata": {
  "kernelspec": {
   "display_name": "Python 3",
   "language": "python",
   "name": "python3"
  },
  "language_info": {
   "codemirror_mode": {
    "name": "ipython",
    "version": 3
   },
   "file_extension": ".py",
   "mimetype": "text/x-python",
   "name": "python",
   "nbconvert_exporter": "python",
   "pygments_lexer": "ipython3",
   "version": "3.13.0"
  }
 },
 "nbformat": 4,
 "nbformat_minor": 5
}
