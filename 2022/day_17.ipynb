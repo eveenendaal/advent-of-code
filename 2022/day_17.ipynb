{
 "cells": [
  {
   "metadata": {
    "ExecuteTime": {
     "end_time": "2024-12-27T08:01:56.339815Z",
     "start_time": "2024-12-27T08:01:55.904656Z"
    }
   },
   "cell_type": "code",
   "source": [
    "from common.inputreader import InputReader, PuzzleWrapper\n",
    "\n",
    "puzzle = PuzzleWrapper(year=int(\"2022\"), day=int(\"17\"))\n",
    "\n",
    "puzzle.header()"
   ],
   "id": "dec75b3898d7314f",
   "outputs": [
    {
     "data": {
      "text/plain": [
       "<IPython.core.display.Markdown object>"
      ],
      "text/markdown": "# Pyroclastic Flow"
     },
     "metadata": {},
     "output_type": "display_data"
    },
    {
     "data": {
      "text/plain": [
       "<IPython.core.display.Markdown object>"
      ],
      "text/markdown": "[Open Website](https://adventofcode.com/2022/day/17)"
     },
     "metadata": {},
     "output_type": "display_data"
    }
   ],
   "execution_count": 1
  },
  {
   "metadata": {
    "ExecuteTime": {
     "end_time": "2024-12-27T08:01:56.468402Z",
     "start_time": "2024-12-27T08:01:56.346159Z"
    }
   },
   "cell_type": "code",
   "source": [
    "from common.matrix import Direction\n",
    "\n",
    "\n",
    "# helper functions\n",
    "class Shape:\n",
    "    def __init__(self, shape: list):\n",
    "        self.shape = shape\n",
    "        self.width = len(shape[0])\n",
    "        self.height = len(shape)\n",
    "        self.points = []\n",
    "        for y, row in enumerate(shape):\n",
    "            for x, cell in enumerate(row):\n",
    "                if cell == \"#\":\n",
    "                    self.points.append([x, y])\n",
    "\n",
    "    def __str__(self):\n",
    "        return \"\\n\".join(self.shape)\n",
    "\n",
    "    def __iter__(self):\n",
    "        return iter(self.points)\n",
    "\n",
    "    def copy(self):\n",
    "        return Shape(self.shape)\n",
    "\n",
    "    def collides(self, shapes: list) -> bool:\n",
    "        for shape in shapes:\n",
    "            for point in self.points:\n",
    "                if point in shape.points:\n",
    "                    return True\n",
    "        return False\n",
    "\n",
    "    def set_floor(self, floor: int):\n",
    "        # move up to floor\n",
    "        for point in self.points:\n",
    "            point[1] += floor\n",
    "\n",
    "    def move(self, direction: Direction, shapes: list, max_x: int) -> bool:\n",
    "        # revert function\n",
    "        def revert():\n",
    "            for point in self.points:\n",
    "                if direction == Direction.DOWN:\n",
    "                    point[1] += 1\n",
    "                elif direction == Direction.UP:\n",
    "                    point[1] -= 1\n",
    "                elif direction == Direction.LEFT:\n",
    "                    point[0] += 1\n",
    "                elif direction == Direction.RIGHT:\n",
    "                    point[0] -= 1\n",
    "\n",
    "        # move\n",
    "        for point in self.points:\n",
    "            if direction == Direction.DOWN:\n",
    "                point[1] -= 1\n",
    "            elif direction == Direction.UP:\n",
    "                point[1] += 1\n",
    "            elif direction == Direction.LEFT:\n",
    "                point[0] -= 1\n",
    "            elif direction == Direction.RIGHT:\n",
    "                point[0] += 1\n",
    "\n",
    "        # check if out of bounds\n",
    "        for point in self.points:\n",
    "            if point[0] < 0 or point[0] >= max_x:\n",
    "                revert()\n",
    "                return False\n",
    "\n",
    "        # check if y is out of bounds\n",
    "        if direction == Direction.DOWN:\n",
    "            for point in self.points:\n",
    "                if point[1] < 0:\n",
    "                    revert()\n",
    "                    return False\n",
    "\n",
    "        # if collides, revert\n",
    "        if self.collides(shapes):\n",
    "            revert()\n",
    "            return False\n",
    "\n",
    "        return True\n",
    "\n",
    "\n",
    "def domain_from_input(input: InputReader) -> (list, list):\n",
    "    shapes = [[\n",
    "        list(\"####\")\n",
    "    ], [\n",
    "        list(\".#.\"),\n",
    "        list(\"###\"),\n",
    "        list(\".#.\"),\n",
    "    ], [\n",
    "        list(\"###\"),\n",
    "        list(\"..#\"),\n",
    "        list(\"..#\"),\n",
    "    ], [\n",
    "        list(\"#\"),\n",
    "        list(\"#\"),\n",
    "        list(\"#\"),\n",
    "        list(\"#\")\n",
    "    ], [\n",
    "        list(\"##\"),\n",
    "        list(\"##\")\n",
    "    ]]\n",
    "    directions = list(input.as_str())\n",
    "    return directions, shapes\n",
    "\n",
    "\n",
    "test_input, test_shapes = domain_from_input(puzzle.example(0))\n",
    "print(test_input)\n",
    "for shape in test_shapes:\n",
    "    print(shape)"
   ],
   "id": "34dd2d43c40af29b",
   "outputs": [
    {
     "name": "stdout",
     "output_type": "stream",
     "text": [
      "['>', '>', '>', '<', '<', '>', '<', '>', '>', '<', '<', '<', '>', '>', '<', '>', '>', '>', '<', '<', '<', '>', '>', '>', '<', '<', '<', '>', '<', '<', '<', '>', '>', '<', '>', '>', '<', '<', '>', '>']\n",
      "[['#', '#', '#', '#']]\n",
      "[['.', '#', '.'], ['#', '#', '#'], ['.', '#', '.']]\n",
      "[['#', '#', '#'], ['.', '.', '#'], ['.', '.', '#']]\n",
      "[['#'], ['#'], ['#'], ['#']]\n",
      "[['#', '#'], ['#', '#']]\n"
     ]
    }
   ],
   "execution_count": 2
  },
  {
   "metadata": {
    "ExecuteTime": {
     "end_time": "2024-12-27T08:18:52.671692Z",
     "start_time": "2024-12-27T08:18:42.054726Z"
    }
   },
   "cell_type": "code",
   "source": [
    "from functools import cache\n",
    "\n",
    "\n",
    "# test case (part 1)\n",
    "def part_1(reader: InputReader, max_shapes: int, debug: bool) -> (int, list):\n",
    "    directions, shapes = domain_from_input(reader)\n",
    "    if debug:\n",
    "        print(directions)\n",
    "\n",
    "    max_x = 7\n",
    "\n",
    "    def next_shape():\n",
    "        shape = shapes[len(history) % len(shapes)]\n",
    "        shape = Shape(shape)\n",
    "        max_y = find_max_y()\n",
    "        shape.set_floor(max_y + 3)\n",
    "        shape.move(Direction.RIGHT, [], max_x)\n",
    "        shape.move(Direction.RIGHT, [], max_x)\n",
    "        return shape\n",
    "\n",
    "    def find_max_y():\n",
    "        max_y = 0\n",
    "        for shape in history:\n",
    "            for point in shape:\n",
    "                max_y = max(max_y, point[1] + 1)\n",
    "        return max_y\n",
    "\n",
    "    def print_shapes():\n",
    "        max_y = find_max_y()\n",
    "        for point in current_shape:\n",
    "            max_y = max(max_y, point[1])\n",
    "\n",
    "        for y in reversed(range(max_y + 2)):\n",
    "            row = []\n",
    "            for x in range(max_x):\n",
    "                row.append(\".\")\n",
    "            for shape in history:\n",
    "                for point in shape:\n",
    "                    if point[1] == y:\n",
    "                        row[point[0]] = \"#\"\n",
    "\n",
    "            for point in current_shape:\n",
    "                if point[1] == y:\n",
    "                    row[point[0]] = \"@\"\n",
    "\n",
    "            print(\"\".join(row))\n",
    "        print()\n",
    "\n",
    "    history = []\n",
    "    height_history = [0]\n",
    "    current_shape = next_shape()\n",
    "    direction_counter = 0\n",
    "\n",
    "    while len(history) < max_shapes:\n",
    "        next_direction = directions[direction_counter % len(directions)]\n",
    "        direction_counter += 1\n",
    "\n",
    "        if debug:\n",
    "            print(f\"Direction: {next_direction}\")\n",
    "            print_shapes()\n",
    "\n",
    "        # Move direction\n",
    "        if next_direction == \">\":\n",
    "            current_shape.move(Direction.RIGHT, history, max_x)\n",
    "        elif next_direction == \"<\":\n",
    "            current_shape.move(Direction.LEFT, history, max_x)\n",
    "\n",
    "        if debug:\n",
    "            print(f\"Direction: v\")\n",
    "            print_shapes()\n",
    "\n",
    "        # Move down\n",
    "        ok = current_shape.move(Direction.DOWN, history, max_x)\n",
    "\n",
    "        if not ok:\n",
    "            history.append(current_shape)\n",
    "            height_history.append(find_max_y())\n",
    "            current_shape = next_shape()\n",
    "\n",
    "    if debug:\n",
    "        print(\"Final\")\n",
    "        print_shapes()\n",
    "\n",
    "    height_changes = [height_history[i] - height_history[i - 1] for i in range(1, len(height_history))]\n",
    "    return find_max_y(), height_changes\n",
    "\n",
    "\n",
    "result, _ = part_1(puzzle.example(0), 2022, False)\n",
    "print(result)\n",
    "assert result == 3068"
   ],
   "id": "6d23892a17117fed",
   "outputs": [
    {
     "name": "stdout",
     "output_type": "stream",
     "text": [
      "3068\n"
     ]
    }
   ],
   "execution_count": 25
  },
  {
   "metadata": {
    "ExecuteTime": {
     "end_time": "2024-12-27T08:19:03.394655Z",
     "start_time": "2024-12-27T08:18:52.682870Z"
    }
   },
   "cell_type": "code",
   "source": [
    "# real case (part 1)\n",
    "result, _ = part_1(puzzle.input(), 2022, False)\n",
    "print(result)\n",
    "assert result == 3083"
   ],
   "id": "66cab898e4711d42",
   "outputs": [
    {
     "name": "stdout",
     "output_type": "stream",
     "text": [
      "3083\n"
     ]
    }
   ],
   "execution_count": 26
  },
  {
   "metadata": {
    "ExecuteTime": {
     "end_time": "2024-12-27T08:20:45.412067Z",
     "start_time": "2024-12-27T08:20:42.755717Z"
    }
   },
   "cell_type": "code",
   "source": [
    "# test case (part 2)\n",
    "def find_repeating_pattern(height_changes: list) -> (list, int):\n",
    "    n = len(height_changes)\n",
    "    for length in range(2, n // 2 + 1):  # Start from length 2\n",
    "        for start in range(n - 2 * length + 1):\n",
    "            pattern = height_changes[start:start + length]\n",
    "            repetitions = 0\n",
    "            for i in range(start, n - length + 1, length):\n",
    "                if height_changes[i:i + length] == pattern:\n",
    "                    repetitions += 1\n",
    "                else:\n",
    "                    break\n",
    "            if repetitions > 5:  # Ensure the pattern repeats\n",
    "                return pattern, start\n",
    "    return None, -1\n",
    "\n",
    "\n",
    "def part_2(reader: InputReader, test_cycles: int, max_shapes: int, debug: bool) -> int:\n",
    "    _, height_changes = part_1(reader, test_cycles, debug)\n",
    "    pattern, index = find_repeating_pattern(height_changes)\n",
    "    print(f\"Pattern: {pattern}, Starting Index: {index}\")\n",
    "\n",
    "    if pattern is None:\n",
    "        raise ValueError(\"No repeating pattern found\")\n",
    "\n",
    "    pattern_length = len(pattern)\n",
    "    pattern_height = sum(pattern)\n",
    "\n",
    "    # Calculate the number of full patterns and the remaining rocks\n",
    "    full_patterns = (max_shapes - index) // pattern_length\n",
    "    remaining_rocks = (max_shapes - index) % pattern_length\n",
    "\n",
    "    # Calculate the total height\n",
    "    initial_height = sum(height_changes[:index])\n",
    "    total_height = initial_height + full_patterns * pattern_height + sum(pattern[:remaining_rocks])\n",
    "\n",
    "    return total_height\n",
    "\n",
    "\n",
    "result = part_2(puzzle.example(0), 1000, 1000000000000, False)\n",
    "print(result)\n",
    "assert result == 1514285714288"
   ],
   "id": "d2277c7db8ea0a5e",
   "outputs": [
    {
     "name": "stdout",
     "output_type": "stream",
     "text": [
      "Pattern: [1, 3, 3, 4, 0, 1, 2, 3, 0, 1, 1, 3, 2, 2, 0, 0, 2, 3, 4, 0, 1, 2, 1, 2, 0, 1, 2, 1, 2, 0, 1, 3, 2, 0, 0], Starting Index: 15\n",
      "1514285714288\n"
     ]
    }
   ],
   "execution_count": 31
  },
  {
   "metadata": {
    "jupyter": {
     "is_executing": true
    },
    "ExecuteTime": {
     "start_time": "2024-12-27T08:21:17.204712Z"
    }
   },
   "cell_type": "code",
   "source": [
    "# real case (part 2)\n",
    "result = part_2(puzzle.input(), 10000, 1000000000000, False)\n",
    "print(result)"
   ],
   "id": "57c071f7c6d2914",
   "outputs": [],
   "execution_count": null
  },
  {
   "metadata": {
    "ExecuteTime": {
     "end_time": "2024-12-27T08:08:10.815568Z",
     "start_time": "2024-12-27T07:59:04.205641Z"
    }
   },
   "cell_type": "code",
   "source": [
    "# print easters eggs\n",
    "puzzle.print_easter_eggs()"
   ],
   "id": "44e329cbb6ad2400",
   "outputs": [
    {
     "data": {
      "text/plain": [
       "<IPython.core.display.Markdown object>"
      ],
      "text/markdown": "## Easter Eggs"
     },
     "metadata": {},
     "output_type": "display_data"
    },
    {
     "data": {
      "text/plain": [
       "<IPython.core.display.Markdown object>"
      ],
      "text/markdown": "<span title=\"I am the man who arranges the blocks / that descend upon me from up above!\">crushed</span> (I am the man who arranges the blocks / that descend upon me from up above!)"
     },
     "metadata": {},
     "output_type": "display_data"
    }
   ],
   "execution_count": 24
  },
  {
   "metadata": {},
   "cell_type": "code",
   "outputs": [],
   "execution_count": null,
   "source": "",
   "id": "a04250555585bcd7"
  }
 ],
 "metadata": {
  "kernelspec": {
   "display_name": "Python 3",
   "language": "python",
   "name": "python3"
  },
  "language_info": {
   "codemirror_mode": {
    "name": "ipython",
    "version": 2
   },
   "file_extension": ".py",
   "mimetype": "text/x-python",
   "name": "python",
   "nbconvert_exporter": "python",
   "pygments_lexer": "ipython2",
   "version": "2.7.6"
  }
 },
 "nbformat": 4,
 "nbformat_minor": 5
}
