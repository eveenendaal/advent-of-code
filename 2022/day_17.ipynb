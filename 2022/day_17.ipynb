{
 "cells": [
  {
   "metadata": {
    "ExecuteTime": {
     "end_time": "2024-12-26T20:25:58.897110Z",
     "start_time": "2024-12-26T20:25:58.765629Z"
    }
   },
   "cell_type": "code",
   "source": [
    "from common.inputreader import InputReader, PuzzleWrapper\n",
    "\n",
    "puzzle = PuzzleWrapper(year=int(\"2022\"), day=int(\"17\"))\n",
    "\n",
    "puzzle.header()"
   ],
   "id": "dec75b3898d7314f",
   "outputs": [
    {
     "data": {
      "text/plain": [
       "<IPython.core.display.Markdown object>"
      ],
      "text/markdown": "# Pyroclastic Flow"
     },
     "metadata": {},
     "output_type": "display_data"
    },
    {
     "data": {
      "text/plain": [
       "<IPython.core.display.Markdown object>"
      ],
      "text/markdown": "[Open Website](https://adventofcode.com/2022/day/17)"
     },
     "metadata": {},
     "output_type": "display_data"
    }
   ],
   "execution_count": 3
  },
  {
   "metadata": {
    "ExecuteTime": {
     "end_time": "2024-12-26T20:40:00.736637Z",
     "start_time": "2024-12-26T20:40:00.722879Z"
    }
   },
   "cell_type": "code",
   "source": [
    "from common.matrix import Direction\n",
    "\n",
    "\n",
    "# helper functions\n",
    "class Shape:\n",
    "    def __init__(self, shape: list):\n",
    "        self.shape = shape\n",
    "        self.width = len(shape[0])\n",
    "        self.height = len(shape)\n",
    "        self.points = []\n",
    "        for y, row in enumerate(shape):\n",
    "            for x, cell in enumerate(row):\n",
    "                if cell == \"#\":\n",
    "                    self.points.append([x, y])\n",
    "\n",
    "    def __str__(self):\n",
    "        return \"\\n\".join(self.shape)\n",
    "\n",
    "    def __iter__(self):\n",
    "        return iter(self.points)\n",
    "\n",
    "    def copy(self):\n",
    "        return Shape(self.shape)\n",
    "\n",
    "    def collides(self, shapes: list) -> bool:\n",
    "        for shape in shapes:\n",
    "            for point in self.points:\n",
    "                if point in shape.points:\n",
    "                    return True\n",
    "        return False\n",
    "\n",
    "    def set_floor(self, floor: int):\n",
    "        # move up to floor\n",
    "        for point in self.points:\n",
    "            point[1] += floor\n",
    "\n",
    "    def move(self, direction: Direction, shapes: list, max_x: int) -> bool:\n",
    "        # revert function\n",
    "        def revert():\n",
    "            for point in self.points:\n",
    "                if direction == Direction.DOWN:\n",
    "                    point[1] += 1\n",
    "                elif direction == Direction.UP:\n",
    "                    point[1] -= 1\n",
    "                elif direction == Direction.LEFT:\n",
    "                    point[0] += 1\n",
    "                elif direction == Direction.RIGHT:\n",
    "                    point[0] -= 1\n",
    "\n",
    "        # move\n",
    "        for point in self.points:\n",
    "            if direction == Direction.DOWN:\n",
    "                point[1] -= 1\n",
    "            elif direction == Direction.UP:\n",
    "                point[1] += 1\n",
    "            elif direction == Direction.LEFT:\n",
    "                point[0] -= 1\n",
    "            elif direction == Direction.RIGHT:\n",
    "                point[0] += 1\n",
    "\n",
    "        # check if out of bounds\n",
    "        for point in self.points:\n",
    "            if point[0] < 0 or point[0] >= max_x:\n",
    "                revert()\n",
    "                return False\n",
    "\n",
    "        # check if y is out of bounds\n",
    "        if direction == Direction.DOWN:\n",
    "            for point in self.points:\n",
    "                if point[1] < 0:\n",
    "                    revert()\n",
    "                    return False\n",
    "\n",
    "        # if collides, revert\n",
    "        if self.collides(shapes):\n",
    "            revert()\n",
    "            return False\n",
    "\n",
    "        return True\n",
    "\n",
    "\n",
    "def domain_from_input(input: InputReader) -> (list, list):\n",
    "    shapes = [[\n",
    "        list(\"####\")\n",
    "    ], [\n",
    "        list(\".#.\"),\n",
    "        list(\"###\"),\n",
    "        list(\".#.\"),\n",
    "    ], [\n",
    "        list(\"###\"),\n",
    "        list(\"..#\"),\n",
    "        list(\"..#\"),\n",
    "    ], [\n",
    "        list(\"#\"),\n",
    "        list(\"#\"),\n",
    "        list(\"#\"),\n",
    "        list(\"#\")\n",
    "    ], [\n",
    "        list(\"##\"),\n",
    "        list(\"##\")\n",
    "    ]]\n",
    "    directions = list(input.as_str())\n",
    "    return directions, shapes\n",
    "\n",
    "\n",
    "test_input, test_shapes = domain_from_input(puzzle.example(0))\n",
    "print(test_input)\n",
    "for shape in test_shapes:\n",
    "    print(shape)"
   ],
   "id": "34dd2d43c40af29b",
   "outputs": [
    {
     "name": "stdout",
     "output_type": "stream",
     "text": [
      "['>', '>', '>', '<', '<', '>', '<', '>', '>', '<', '<', '<', '>', '>', '<', '>', '>', '>', '<', '<', '<', '>', '>', '>', '<', '<', '<', '>', '<', '<', '<', '>', '>', '<', '>', '>', '<', '<', '>', '>']\n",
      "[['#', '#', '#', '#']]\n",
      "[['.', '#', '.'], ['#', '#', '#'], ['.', '#', '.']]\n",
      "[['#', '#', '#'], ['.', '.', '#'], ['.', '.', '#']]\n",
      "[['#'], ['#'], ['#'], ['#']]\n",
      "[['#', '#'], ['#', '#']]\n"
     ]
    }
   ],
   "execution_count": 34
  },
  {
   "metadata": {
    "ExecuteTime": {
     "end_time": "2024-12-26T20:40:29.343876Z",
     "start_time": "2024-12-26T20:40:19.262411Z"
    }
   },
   "cell_type": "code",
   "source": [
    "# test case (part 1)\n",
    "def part_1(reader: InputReader, max_shapes: int, debug: bool) -> int:\n",
    "    directions, shapes = domain_from_input(reader)\n",
    "    if debug:\n",
    "        print(directions)\n",
    "\n",
    "    max_x = 7\n",
    "\n",
    "    def next_shape():\n",
    "        shape = shapes[len(history) % len(shapes)]\n",
    "        shape = Shape(shape)\n",
    "        max_y = find_max_y()\n",
    "        shape.set_floor(max_y + 3)\n",
    "        shape.move(Direction.RIGHT, [], max_x)\n",
    "        shape.move(Direction.RIGHT, [], max_x)\n",
    "        return shape\n",
    "\n",
    "    def find_max_y():\n",
    "        max_y = 0\n",
    "        for shape in history:\n",
    "            for point in shape:\n",
    "                max_y = max(max_y, point[1] + 1)\n",
    "        return max_y\n",
    "\n",
    "    def print_shapes():\n",
    "        max_y = find_max_y()\n",
    "        for point in current_shape:\n",
    "            max_y = max(max_y, point[1])\n",
    "\n",
    "        for y in reversed(range(max_y + 2)):\n",
    "            row = []\n",
    "            for x in range(max_x):\n",
    "                row.append(\".\")\n",
    "            for shape in history:\n",
    "                for point in shape:\n",
    "                    if point[1] == y:\n",
    "                        row[point[0]] = \"#\"\n",
    "\n",
    "            for point in current_shape:\n",
    "                if point[1] == y:\n",
    "                    row[point[0]] = \"@\"\n",
    "\n",
    "            print(\"\".join(row))\n",
    "        print()\n",
    "\n",
    "    history = []\n",
    "    current_shape = next_shape()\n",
    "    direction_counter = 0\n",
    "\n",
    "    while len(history) < max_shapes:\n",
    "        next_direction = directions[direction_counter % len(directions)]\n",
    "        direction_counter += 1\n",
    "\n",
    "        if debug:\n",
    "            print(f\"Direction: {next_direction}\")\n",
    "            print_shapes()\n",
    "\n",
    "        # Move direction\n",
    "        if next_direction == \">\":\n",
    "            current_shape.move(Direction.RIGHT, history, max_x)\n",
    "        elif next_direction == \"<\":\n",
    "            current_shape.move(Direction.LEFT, history, max_x)\n",
    "\n",
    "        if debug:\n",
    "            print(f\"Direction: v\")\n",
    "            print_shapes()\n",
    "\n",
    "        # Move down\n",
    "        ok = current_shape.move(Direction.DOWN, history, max_x)\n",
    "\n",
    "        if not ok:\n",
    "            history.append(current_shape)\n",
    "            current_shape = next_shape()\n",
    "\n",
    "    if debug:\n",
    "        print(\"Final\")\n",
    "        print_shapes()\n",
    "\n",
    "    return find_max_y()\n",
    "\n",
    "\n",
    "result = part_1(puzzle.example(0), 2022, False)\n",
    "print(result)\n",
    "assert result == 3068"
   ],
   "id": "6d23892a17117fed",
   "outputs": [
    {
     "name": "stdout",
     "output_type": "stream",
     "text": [
      "3068\n"
     ]
    }
   ],
   "execution_count": 36
  },
  {
   "metadata": {
    "ExecuteTime": {
     "end_time": "2024-12-26T20:40:40.642719Z",
     "start_time": "2024-12-26T20:40:30.462667Z"
    }
   },
   "cell_type": "code",
   "source": [
    "# real case (part 1)\n",
    "result = part_1(puzzle.input(), 2022, False)\n",
    "print(result)"
   ],
   "id": "66cab898e4711d42",
   "outputs": [
    {
     "name": "stdout",
     "output_type": "stream",
     "text": [
      "3083\n"
     ]
    }
   ],
   "execution_count": 37
  },
  {
   "metadata": {},
   "cell_type": "code",
   "source": [
    "# test case (part 2)\n",
    "def part_2(reader: InputReader, debug: bool) -> int:\n",
    "    lines = domain_from_input(reader)\n",
    "    if debug:\n",
    "        print(lines)\n",
    "    return 0\n",
    "\n",
    "\n",
    "result = part_2(puzzle.example(0), True)\n",
    "print(result)\n",
    "assert result == 0"
   ],
   "id": "d2277c7db8ea0a5e",
   "outputs": [],
   "execution_count": null
  },
  {
   "metadata": {},
   "cell_type": "code",
   "source": [
    "# real case (part 2)\n",
    "result = part_2(puzzle.input(), False)\n",
    "print(result)"
   ],
   "id": "57c071f7c6d2914",
   "outputs": [],
   "execution_count": null
  },
  {
   "metadata": {},
   "cell_type": "code",
   "source": [
    "# print easters eggs\n",
    "puzzle.print_easter_eggs()"
   ],
   "id": "44e329cbb6ad2400",
   "outputs": [],
   "execution_count": null
  }
 ],
 "metadata": {
  "kernelspec": {
   "display_name": "Python 3",
   "language": "python",
   "name": "python3"
  },
  "language_info": {
   "codemirror_mode": {
    "name": "ipython",
    "version": 2
   },
   "file_extension": ".py",
   "mimetype": "text/x-python",
   "name": "python",
   "nbconvert_exporter": "python",
   "pygments_lexer": "ipython2",
   "version": "2.7.6"
  }
 },
 "nbformat": 4,
 "nbformat_minor": 5
}
