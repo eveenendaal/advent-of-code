{
 "cells": [
  {
   "metadata": {
    "ExecuteTime": {
     "end_time": "2024-12-27T12:10:33.779096Z",
     "start_time": "2024-12-27T12:10:33.296210Z"
    }
   },
   "cell_type": "code",
   "source": [
    "from common.inputreader import InputReader, PuzzleWrapper\n",
    "\n",
    "puzzle = PuzzleWrapper(year=int(\"2022\"), day=int(\"19\"))\n",
    "\n",
    "puzzle.header()"
   ],
   "id": "dec75b3898d7314f",
   "outputs": [
    {
     "data": {
      "text/plain": [
       "<IPython.core.display.Markdown object>"
      ],
      "text/markdown": "# Not Enough Minerals"
     },
     "metadata": {},
     "output_type": "display_data"
    },
    {
     "data": {
      "text/plain": [
       "<IPython.core.display.Markdown object>"
      ],
      "text/markdown": "[Open Website](https://adventofcode.com/2022/day/19)"
     },
     "metadata": {},
     "output_type": "display_data"
    }
   ],
   "execution_count": 2
  },
  {
   "metadata": {
    "ExecuteTime": {
     "end_time": "2024-12-27T12:44:29.447358Z",
     "start_time": "2024-12-27T12:44:29.433775Z"
    }
   },
   "cell_type": "code",
   "source": [
    "\n",
    "class Cost:\n",
    "    def __init__(self, robot: str, costs: dict):\n",
    "        self.robot = robot\n",
    "        self.costs = costs\n",
    "\n",
    "    def can_produce(self, state: dict) -> bool:\n",
    "        for type in self.costs:\n",
    "            if state[type] < self.costs[type]:\n",
    "                return False\n",
    "        return True\n",
    "\n",
    "    def __repr__(self):\n",
    "        return (f\"Cost(robot={self.robot}, \"\n",
    "                f\"costs={self.costs})\")\n",
    "\n",
    "\n",
    "# helper functions\n",
    "class Blueprint:\n",
    "    def __init__(self, costs: dict):\n",
    "        self.costs = costs\n",
    "\n",
    "    def __repr__(self):\n",
    "        return (f\"Blueprint(costs={self.costs})\")\n",
    "\n",
    "\n",
    "def domain_from_input(input: InputReader) -> set:\n",
    "    lines = input.lines_as_str()\n",
    "    # remove empty lines\n",
    "    lines = [line for line in lines if line]\n",
    "    blueprints = set()\n",
    "\n",
    "    for i in range(0, len(lines), 5):\n",
    "        costs = {}\n",
    "        # parse ore robot using pattern\n",
    "        line = lines[i + 1].strip(\".\").split()\n",
    "        costs[line[1]] = {\n",
    "            line[-1]: int(line[-2]),\n",
    "        }\n",
    "\n",
    "        # parse clay robot using pattern\n",
    "        line = lines[i + 2].strip(\".\").split()\n",
    "        costs[line[1]] = {\n",
    "            line[-1]: int(line[-2]),\n",
    "        }\n",
    "\n",
    "        # parse obsidian robot using pattern\n",
    "        line = lines[i + 3].strip(\".\").split()\n",
    "        costs[line[1]] = {\n",
    "            line[-1]: int(line[-2]),\n",
    "            line[-4]: int(line[-5]),\n",
    "        }\n",
    "\n",
    "        # parse geode robot using pattern\n",
    "        line = lines[i + 4].strip(\".\").split()\n",
    "        costs[line[1]] = {\n",
    "            line[-1]: int(line[-2]),\n",
    "            line[-4]: int(line[-5]),\n",
    "        }\n",
    "\n",
    "        for type in costs.keys():\n",
    "            costs[type] = Cost(type, costs[type])\n",
    "\n",
    "        blueprint = Blueprint(costs)\n",
    "        blueprints.add(blueprint)\n",
    "\n",
    "    return blueprints\n",
    "\n",
    "\n",
    "test_input = domain_from_input(puzzle.get_code_block(0))\n",
    "print(test_input)"
   ],
   "id": "34dd2d43c40af29b",
   "outputs": [
    {
     "name": "stdout",
     "output_type": "stream",
     "text": [
      "{Blueprint(costs={'ore': Cost(robot=ore, costs={'ore': 2}), 'clay': Cost(robot=clay, costs={'ore': 3}), 'obsidian': Cost(robot=obsidian, costs={'clay': 8, 'ore': 3}), 'geode': Cost(robot=geode, costs={'obsidian': 12, 'ore': 3})}), Blueprint(costs={'ore': Cost(robot=ore, costs={'ore': 4}), 'clay': Cost(robot=clay, costs={'ore': 2}), 'obsidian': Cost(robot=obsidian, costs={'clay': 14, 'ore': 3}), 'geode': Cost(robot=geode, costs={'obsidian': 7, 'ore': 2})})}\n"
     ]
    }
   ],
   "execution_count": 36
  },
  {
   "metadata": {
    "ExecuteTime": {
     "end_time": "2024-12-27T12:49:46.352353Z",
     "start_time": "2024-12-27T12:49:46.338530Z"
    }
   },
   "cell_type": "code",
   "source": [
    "# test case (part 1)\n",
    "def part_1(reader: InputReader, debug: bool) -> int:\n",
    "    blueprints = domain_from_input(reader)\n",
    "    total_geodes = 0\n",
    "    for blueprint in blueprints:\n",
    "        if debug:\n",
    "            print(blueprint)\n",
    "\n",
    "        build_order = [\n",
    "            \"geode\",\n",
    "            \"obsidian\",\n",
    "            \"clay\",\n",
    "            \"ore\"\n",
    "        ]\n",
    "\n",
    "        state = {\n",
    "            \"robots\": {\n",
    "                \"ore\": 1,\n",
    "                \"clay\": 0,\n",
    "                \"obsidian\": 0,\n",
    "                \"geode\": 0,\n",
    "            },\n",
    "            \"supplies\": {\n",
    "                \"ore\": 0,\n",
    "                \"clay\": 0,\n",
    "                \"obsidian\": 0,\n",
    "                \"geode\": 0\n",
    "            }\n",
    "        }\n",
    "        for i in range(24):\n",
    "            # produce ore\n",
    "            for type in state[\"robots\"]:\n",
    "                state[\"supplies\"][type] += state[\"robots\"][type]\n",
    "\n",
    "            # product robots if possible\n",
    "            for type in build_order:\n",
    "                if blueprint.costs[type].can_produce(state[\"supplies\"]):\n",
    "                    for cost_type in blueprint.costs[type].costs:\n",
    "                        state[\"supplies\"][cost_type] -= blueprint.costs[type].costs[cost_type]\n",
    "                    state[\"robots\"][type] += 1\n",
    "\n",
    "            if debug:\n",
    "                print(f\"state after round {i + 1}\")\n",
    "                print(state)\n",
    "\n",
    "        total_geodes += state[\"supplies\"][\"geode\"]\n",
    "        break\n",
    "\n",
    "    return total_geodes\n",
    "\n",
    "\n",
    "result = part_1(puzzle.example(0), True)\n",
    "print(result)\n",
    "assert result == 33"
   ],
   "id": "6d23892a17117fed",
   "outputs": [
    {
     "name": "stdout",
     "output_type": "stream",
     "text": [
      "Blueprint(costs={'ore': Cost(robot=ore, costs={'ore': 4}), 'clay': Cost(robot=clay, costs={'ore': 2}), 'obsidian': Cost(robot=obsidian, costs={'clay': 14, 'ore': 3}), 'geode': Cost(robot=geode, costs={'obsidian': 7, 'ore': 2})})\n",
      "state after round 1\n",
      "{'robots': {'ore': 1, 'clay': 0, 'obsidian': 0, 'geode': 0}, 'supplies': {'ore': 1, 'clay': 0, 'obsidian': 0, 'geode': 0}}\n",
      "state after round 2\n",
      "{'robots': {'ore': 1, 'clay': 1, 'obsidian': 0, 'geode': 0}, 'supplies': {'ore': 0, 'clay': 0, 'obsidian': 0, 'geode': 0}}\n",
      "state after round 3\n",
      "{'robots': {'ore': 1, 'clay': 1, 'obsidian': 0, 'geode': 0}, 'supplies': {'ore': 1, 'clay': 1, 'obsidian': 0, 'geode': 0}}\n",
      "state after round 4\n",
      "{'robots': {'ore': 1, 'clay': 2, 'obsidian': 0, 'geode': 0}, 'supplies': {'ore': 0, 'clay': 2, 'obsidian': 0, 'geode': 0}}\n",
      "state after round 5\n",
      "{'robots': {'ore': 1, 'clay': 2, 'obsidian': 0, 'geode': 0}, 'supplies': {'ore': 1, 'clay': 4, 'obsidian': 0, 'geode': 0}}\n",
      "state after round 6\n",
      "{'robots': {'ore': 1, 'clay': 3, 'obsidian': 0, 'geode': 0}, 'supplies': {'ore': 0, 'clay': 6, 'obsidian': 0, 'geode': 0}}\n",
      "state after round 7\n",
      "{'robots': {'ore': 1, 'clay': 3, 'obsidian': 0, 'geode': 0}, 'supplies': {'ore': 1, 'clay': 9, 'obsidian': 0, 'geode': 0}}\n",
      "state after round 8\n",
      "{'robots': {'ore': 1, 'clay': 4, 'obsidian': 0, 'geode': 0}, 'supplies': {'ore': 0, 'clay': 12, 'obsidian': 0, 'geode': 0}}\n",
      "state after round 9\n",
      "{'robots': {'ore': 1, 'clay': 4, 'obsidian': 0, 'geode': 0}, 'supplies': {'ore': 1, 'clay': 16, 'obsidian': 0, 'geode': 0}}\n",
      "state after round 10\n",
      "{'robots': {'ore': 1, 'clay': 5, 'obsidian': 0, 'geode': 0}, 'supplies': {'ore': 0, 'clay': 20, 'obsidian': 0, 'geode': 0}}\n",
      "state after round 11\n",
      "{'robots': {'ore': 1, 'clay': 5, 'obsidian': 0, 'geode': 0}, 'supplies': {'ore': 1, 'clay': 25, 'obsidian': 0, 'geode': 0}}\n",
      "state after round 12\n",
      "{'robots': {'ore': 1, 'clay': 6, 'obsidian': 0, 'geode': 0}, 'supplies': {'ore': 0, 'clay': 30, 'obsidian': 0, 'geode': 0}}\n",
      "state after round 13\n",
      "{'robots': {'ore': 1, 'clay': 6, 'obsidian': 0, 'geode': 0}, 'supplies': {'ore': 1, 'clay': 36, 'obsidian': 0, 'geode': 0}}\n",
      "state after round 14\n",
      "{'robots': {'ore': 1, 'clay': 7, 'obsidian': 0, 'geode': 0}, 'supplies': {'ore': 0, 'clay': 42, 'obsidian': 0, 'geode': 0}}\n",
      "state after round 15\n",
      "{'robots': {'ore': 1, 'clay': 7, 'obsidian': 0, 'geode': 0}, 'supplies': {'ore': 1, 'clay': 49, 'obsidian': 0, 'geode': 0}}\n",
      "state after round 16\n",
      "{'robots': {'ore': 1, 'clay': 8, 'obsidian': 0, 'geode': 0}, 'supplies': {'ore': 0, 'clay': 56, 'obsidian': 0, 'geode': 0}}\n",
      "state after round 17\n",
      "{'robots': {'ore': 1, 'clay': 8, 'obsidian': 0, 'geode': 0}, 'supplies': {'ore': 1, 'clay': 64, 'obsidian': 0, 'geode': 0}}\n",
      "state after round 18\n",
      "{'robots': {'ore': 1, 'clay': 9, 'obsidian': 0, 'geode': 0}, 'supplies': {'ore': 0, 'clay': 72, 'obsidian': 0, 'geode': 0}}\n",
      "state after round 19\n",
      "{'robots': {'ore': 1, 'clay': 9, 'obsidian': 0, 'geode': 0}, 'supplies': {'ore': 1, 'clay': 81, 'obsidian': 0, 'geode': 0}}\n",
      "state after round 20\n",
      "{'robots': {'ore': 1, 'clay': 10, 'obsidian': 0, 'geode': 0}, 'supplies': {'ore': 0, 'clay': 90, 'obsidian': 0, 'geode': 0}}\n",
      "state after round 21\n",
      "{'robots': {'ore': 1, 'clay': 10, 'obsidian': 0, 'geode': 0}, 'supplies': {'ore': 1, 'clay': 100, 'obsidian': 0, 'geode': 0}}\n",
      "state after round 22\n",
      "{'robots': {'ore': 1, 'clay': 11, 'obsidian': 0, 'geode': 0}, 'supplies': {'ore': 0, 'clay': 110, 'obsidian': 0, 'geode': 0}}\n",
      "state after round 23\n",
      "{'robots': {'ore': 1, 'clay': 11, 'obsidian': 0, 'geode': 0}, 'supplies': {'ore': 1, 'clay': 121, 'obsidian': 0, 'geode': 0}}\n",
      "state after round 24\n",
      "{'robots': {'ore': 1, 'clay': 12, 'obsidian': 0, 'geode': 0}, 'supplies': {'ore': 0, 'clay': 132, 'obsidian': 0, 'geode': 0}}\n",
      "0\n"
     ]
    },
    {
     "ename": "AssertionError",
     "evalue": "",
     "output_type": "error",
     "traceback": [
      "\u001B[0;31m---------------------------------------------------------------------------\u001B[0m",
      "\u001B[0;31mAssertionError\u001B[0m                            Traceback (most recent call last)",
      "Cell \u001B[0;32mIn[43], line 54\u001B[0m\n\u001B[1;32m     52\u001B[0m result \u001B[38;5;241m=\u001B[39m part_1(puzzle\u001B[38;5;241m.\u001B[39mexample(\u001B[38;5;241m0\u001B[39m), \u001B[38;5;28;01mTrue\u001B[39;00m)\n\u001B[1;32m     53\u001B[0m \u001B[38;5;28mprint\u001B[39m(result)\n\u001B[0;32m---> 54\u001B[0m \u001B[38;5;28;01massert\u001B[39;00m result \u001B[38;5;241m==\u001B[39m \u001B[38;5;241m33\u001B[39m\n",
      "\u001B[0;31mAssertionError\u001B[0m: "
     ]
    }
   ],
   "execution_count": 43
  },
  {
   "metadata": {},
   "cell_type": "code",
   "source": [
    "# real case (part 1)\n",
    "result = part_1(puzzle.input(), False)\n",
    "print(result)"
   ],
   "id": "66cab898e4711d42",
   "outputs": [],
   "execution_count": null
  },
  {
   "metadata": {},
   "cell_type": "code",
   "source": [
    "# test case (part 2)\n",
    "def part_2(reader: InputReader, debug: bool) -> int:\n",
    "    lines = domain_from_input(reader)\n",
    "    if debug:\n",
    "        print(lines)\n",
    "    return 0\n",
    "\n",
    "\n",
    "result = part_2(puzzle.example(0), True)\n",
    "print(result)\n",
    "assert result == 0"
   ],
   "id": "d2277c7db8ea0a5e",
   "outputs": [],
   "execution_count": null
  },
  {
   "metadata": {},
   "cell_type": "code",
   "source": [
    "# real case (part 2)\n",
    "result = part_2(puzzle.input(), False)\n",
    "print(result)"
   ],
   "id": "57c071f7c6d2914",
   "outputs": [],
   "execution_count": null
  },
  {
   "metadata": {},
   "cell_type": "code",
   "source": [
    "# print easters eggs\n",
    "puzzle.print_easter_eggs()"
   ],
   "id": "44e329cbb6ad2400",
   "outputs": [],
   "execution_count": null
  }
 ],
 "metadata": {
  "kernelspec": {
   "display_name": "Python 3",
   "language": "python",
   "name": "python3"
  },
  "language_info": {
   "codemirror_mode": {
    "name": "ipython",
    "version": 2
   },
   "file_extension": ".py",
   "mimetype": "text/x-python",
   "name": "python",
   "nbconvert_exporter": "python",
   "pygments_lexer": "ipython2",
   "version": "2.7.6"
  }
 },
 "nbformat": 4,
 "nbformat_minor": 5
}
