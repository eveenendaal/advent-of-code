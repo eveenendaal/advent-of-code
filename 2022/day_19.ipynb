{
 "cells": [
  {
   "metadata": {
    "ExecuteTime": {
     "end_time": "2024-12-27T14:24:40.333552Z",
     "start_time": "2024-12-27T14:24:39.941766Z"
    }
   },
   "cell_type": "code",
   "source": [
    "from common.inputreader import InputReader, PuzzleWrapper\n",
    "\n",
    "puzzle = PuzzleWrapper(year=int(\"2022\"), day=int(\"19\"))\n",
    "\n",
    "puzzle.header()"
   ],
   "id": "dec75b3898d7314f",
   "outputs": [
    {
     "data": {
      "text/plain": [
       "<IPython.core.display.Markdown object>"
      ],
      "text/markdown": "# Not Enough Minerals"
     },
     "metadata": {},
     "output_type": "display_data"
    },
    {
     "data": {
      "text/plain": [
       "<IPython.core.display.Markdown object>"
      ],
      "text/markdown": "[Open Website](https://adventofcode.com/2022/day/19)"
     },
     "metadata": {},
     "output_type": "display_data"
    }
   ],
   "execution_count": 2
  },
  {
   "metadata": {
    "ExecuteTime": {
     "end_time": "2024-12-27T14:24:40.833481Z",
     "start_time": "2024-12-27T14:24:40.825928Z"
    }
   },
   "cell_type": "code",
   "source": [
    "\n",
    "class Cost:\n",
    "    def __init__(self, robot: str, costs: dict):\n",
    "        self.robot = robot\n",
    "        self.costs = costs\n",
    "\n",
    "    def can_produce(self, state: dict) -> bool:\n",
    "        for type in self.costs:\n",
    "            if state[type] < self.costs[type]:\n",
    "                return False\n",
    "        return True\n",
    "\n",
    "    def __repr__(self):\n",
    "        return (f\"Cost(robot={self.robot}, \"\n",
    "                f\"costs={self.costs})\")\n",
    "\n",
    "\n",
    "# helper functions\n",
    "class Blueprint:\n",
    "    def __init__(self, costs: dict):\n",
    "        self.costs = costs\n",
    "\n",
    "    def __repr__(self):\n",
    "        return (f\"Blueprint(costs={self.costs})\")\n",
    "\n",
    "\n",
    "def domain_from_input(input: InputReader) -> set:\n",
    "    lines = input.lines_as_str()\n",
    "    # remove empty lines\n",
    "    lines = [line for line in lines if line]\n",
    "    blueprints = set()\n",
    "\n",
    "    for i in range(0, len(lines), 5):\n",
    "        costs = {}\n",
    "        # parse ore robot using pattern\n",
    "        line = lines[i + 1].strip(\".\").split()\n",
    "        costs[line[1]] = {\n",
    "            line[-1]: int(line[-2]),\n",
    "        }\n",
    "\n",
    "        # parse clay robot using pattern\n",
    "        line = lines[i + 2].strip(\".\").split()\n",
    "        costs[line[1]] = {\n",
    "            line[-1]: int(line[-2]),\n",
    "        }\n",
    "\n",
    "        # parse obsidian robot using pattern\n",
    "        line = lines[i + 3].strip(\".\").split()\n",
    "        costs[line[1]] = {\n",
    "            line[-1]: int(line[-2]),\n",
    "            line[-4]: int(line[-5]),\n",
    "        }\n",
    "\n",
    "        # parse geode robot using pattern\n",
    "        line = lines[i + 4].strip(\".\").split()\n",
    "        costs[line[1]] = {\n",
    "            line[-1]: int(line[-2]),\n",
    "            line[-4]: int(line[-5]),\n",
    "        }\n",
    "\n",
    "        for type in costs.keys():\n",
    "            costs[type] = Cost(type, costs[type])\n",
    "\n",
    "        blueprint = Blueprint(costs)\n",
    "        blueprints.add(blueprint)\n",
    "\n",
    "    return blueprints\n",
    "\n",
    "\n",
    "test_input = domain_from_input(puzzle.get_code_block(0))\n",
    "print(test_input)"
   ],
   "id": "34dd2d43c40af29b",
   "outputs": [
    {
     "name": "stdout",
     "output_type": "stream",
     "text": [
      "{Blueprint(costs={'ore': Cost(robot=ore, costs={'ore': 4}), 'clay': Cost(robot=clay, costs={'ore': 2}), 'obsidian': Cost(robot=obsidian, costs={'clay': 14, 'ore': 3}), 'geode': Cost(robot=geode, costs={'obsidian': 7, 'ore': 2})}), Blueprint(costs={'ore': Cost(robot=ore, costs={'ore': 2}), 'clay': Cost(robot=clay, costs={'ore': 3}), 'obsidian': Cost(robot=obsidian, costs={'clay': 8, 'ore': 3}), 'geode': Cost(robot=geode, costs={'obsidian': 12, 'ore': 3})})}\n"
     ]
    }
   ],
   "execution_count": 3
  },
  {
   "metadata": {
    "ExecuteTime": {
     "end_time": "2024-12-27T14:39:24.698355Z",
     "start_time": "2024-12-27T14:39:24.664223Z"
    }
   },
   "cell_type": "code",
   "source": [
    "# test case (part 1)\n",
    "def part_1(reader: InputReader, debug: bool) -> int:\n",
    "    blueprints = domain_from_input(reader)\n",
    "    total_geodes = 0\n",
    "    max_steps = 24\n",
    "\n",
    "    def score_robots(steps: int, robots: dict) -> int:\n",
    "        step_weight = (max_steps - steps)\n",
    "        return sum([robots[type] for type in robots]) + step_weight\n",
    "\n",
    "    build_weights = {\n",
    "        \"ore\": 1,\n",
    "        \"clay\": 2,\n",
    "        \"obsidian\": 5,\n",
    "        \"geode\": 10\n",
    "    }\n",
    "\n",
    "\n",
    "    for blueprint in blueprints:\n",
    "        if debug:\n",
    "            print(blueprint)\n",
    "\n",
    "        robots = {\n",
    "            \"ore\": 1,\n",
    "            \"clay\": 0,\n",
    "            \"obsidian\": 0,\n",
    "            \"geode\": 0,\n",
    "        }\n",
    "        supplies = {\n",
    "            \"ore\": 0,\n",
    "            \"clay\": 0,\n",
    "            \"obsidian\": 0,\n",
    "            \"geode\": 0\n",
    "        }\n",
    "\n",
    "        queue = []\n",
    "        for next_robot in build_weights.keys():\n",
    "            queue.append((next_robot, 0, score_robots(0, robots), robots.copy(), supplies.copy()))\n",
    "\n",
    "        while queue:\n",
    "            # sort queue\n",
    "            queue = sorted(queue, key=lambda x: x[2], reverse=False)\n",
    "            # get next\n",
    "            next_robot, steps, score, robots, supplies = queue.pop()\n",
    "\n",
    "            if debug and steps == 0:\n",
    "                print(f\"next_robot: {next_robot}, steps: {steps}, score: {score}, robots: {robots}, supplies: {supplies}\")\n",
    "\n",
    "            if steps == max_steps:\n",
    "                if debug:\n",
    "                    print(f\"steps: {steps}, score: {score}, robots: {robots}, supplies: {supplies}\")\n",
    "                total_geodes += supplies[\"geode\"]\n",
    "                # clear queue\n",
    "                queue = []\n",
    "                continue\n",
    "\n",
    "            # produce ore\n",
    "            for type in robots:\n",
    "                supplies[type] += robots[type]\n",
    "\n",
    "            # product robots if possible\n",
    "            if blueprint.costs[next_robot].can_produce(supplies):\n",
    "                for type in blueprint.costs[next_robot].costs:\n",
    "                    supplies[type] -= blueprint.costs[next_robot].costs[type]\n",
    "\n",
    "                robots[next_robot] += 1\n",
    "                score += 1\n",
    "                for type in build_weights.keys():\n",
    "                    queue.append((type, steps + 1, score_robots(steps, robots), robots.copy(), supplies.copy()))\n",
    "            else:\n",
    "                queue.append((next_robot, steps + 1, score_robots(steps, robots), robots.copy(), supplies.copy()))\n",
    "\n",
    "    return total_geodes\n",
    "\n",
    "\n",
    "result = part_1(puzzle.example(0), True)\n",
    "print(result)\n",
    "assert result == 33"
   ],
   "id": "6d23892a17117fed",
   "outputs": [
    {
     "name": "stdout",
     "output_type": "stream",
     "text": [
      "Blueprint(costs={'ore': Cost(robot=ore, costs={'ore': 4}), 'clay': Cost(robot=clay, costs={'ore': 2}), 'obsidian': Cost(robot=obsidian, costs={'clay': 14, 'ore': 3}), 'geode': Cost(robot=geode, costs={'obsidian': 7, 'ore': 2})})\n",
      "next_robot: geode, steps: 0, score: 25, robots: {'ore': 1, 'clay': 0, 'obsidian': 0, 'geode': 0}, supplies: {'ore': 0, 'clay': 0, 'obsidian': 0, 'geode': 0}\n",
      "next_robot: obsidian, steps: 0, score: 25, robots: {'ore': 1, 'clay': 0, 'obsidian': 0, 'geode': 0}, supplies: {'ore': 0, 'clay': 0, 'obsidian': 0, 'geode': 0}\n",
      "next_robot: clay, steps: 0, score: 25, robots: {'ore': 1, 'clay': 0, 'obsidian': 0, 'geode': 0}, supplies: {'ore': 0, 'clay': 0, 'obsidian': 0, 'geode': 0}\n",
      "next_robot: ore, steps: 0, score: 25, robots: {'ore': 1, 'clay': 0, 'obsidian': 0, 'geode': 0}, supplies: {'ore': 0, 'clay': 0, 'obsidian': 0, 'geode': 0}\n",
      "steps: 24, score: 23, robots: {'ore': 2, 'clay': 20, 'obsidian': 0, 'geode': 0}, supplies: {'ore': 0, 'clay': 190, 'obsidian': 0, 'geode': 0}\n",
      "Blueprint(costs={'ore': Cost(robot=ore, costs={'ore': 2}), 'clay': Cost(robot=clay, costs={'ore': 3}), 'obsidian': Cost(robot=obsidian, costs={'clay': 8, 'ore': 3}), 'geode': Cost(robot=geode, costs={'obsidian': 12, 'ore': 3})})\n",
      "next_robot: geode, steps: 0, score: 25, robots: {'ore': 1, 'clay': 0, 'obsidian': 0, 'geode': 0}, supplies: {'ore': 0, 'clay': 0, 'obsidian': 0, 'geode': 0}\n",
      "next_robot: obsidian, steps: 0, score: 25, robots: {'ore': 1, 'clay': 0, 'obsidian': 0, 'geode': 0}, supplies: {'ore': 0, 'clay': 0, 'obsidian': 0, 'geode': 0}\n",
      "next_robot: clay, steps: 0, score: 25, robots: {'ore': 1, 'clay': 0, 'obsidian': 0, 'geode': 0}, supplies: {'ore': 0, 'clay': 0, 'obsidian': 0, 'geode': 0}\n",
      "next_robot: ore, steps: 0, score: 25, robots: {'ore': 1, 'clay': 0, 'obsidian': 0, 'geode': 0}, supplies: {'ore': 0, 'clay': 0, 'obsidian': 0, 'geode': 0}\n",
      "steps: 24, score: 25, robots: {'ore': 3, 'clay': 6, 'obsidian': 9, 'geode': 6}, supplies: {'ore': 0, 'clay': 29, 'obsidian': 8, 'geode': 29}\n",
      "29\n"
     ]
    },
    {
     "ename": "AssertionError",
     "evalue": "",
     "output_type": "error",
     "traceback": [
      "\u001B[0;31m---------------------------------------------------------------------------\u001B[0m",
      "\u001B[0;31mAssertionError\u001B[0m                            Traceback (most recent call last)",
      "Cell \u001B[0;32mIn[29], line 78\u001B[0m\n\u001B[1;32m     76\u001B[0m result \u001B[38;5;241m=\u001B[39m part_1(puzzle\u001B[38;5;241m.\u001B[39mexample(\u001B[38;5;241m0\u001B[39m), \u001B[38;5;28;01mTrue\u001B[39;00m)\n\u001B[1;32m     77\u001B[0m \u001B[38;5;28mprint\u001B[39m(result)\n\u001B[0;32m---> 78\u001B[0m \u001B[38;5;28;01massert\u001B[39;00m result \u001B[38;5;241m==\u001B[39m \u001B[38;5;241m33\u001B[39m\n",
      "\u001B[0;31mAssertionError\u001B[0m: "
     ]
    }
   ],
   "execution_count": 29
  },
  {
   "metadata": {},
   "cell_type": "code",
   "source": [
    "# real case (part 1)\n",
    "result = part_1(puzzle.input(), False)\n",
    "print(result)"
   ],
   "id": "66cab898e4711d42",
   "outputs": [],
   "execution_count": null
  },
  {
   "metadata": {},
   "cell_type": "code",
   "source": [
    "# test case (part 2)\n",
    "def part_2(reader: InputReader, debug: bool) -> int:\n",
    "    lines = domain_from_input(reader)\n",
    "    if debug:\n",
    "        print(lines)\n",
    "    return 0\n",
    "\n",
    "\n",
    "result = part_2(puzzle.example(0), True)\n",
    "print(result)\n",
    "assert result == 0"
   ],
   "id": "d2277c7db8ea0a5e",
   "outputs": [],
   "execution_count": null
  },
  {
   "metadata": {},
   "cell_type": "code",
   "source": [
    "# real case (part 2)\n",
    "result = part_2(puzzle.input(), False)\n",
    "print(result)"
   ],
   "id": "57c071f7c6d2914",
   "outputs": [],
   "execution_count": null
  },
  {
   "metadata": {},
   "cell_type": "code",
   "source": [
    "# print easters eggs\n",
    "puzzle.print_easter_eggs()"
   ],
   "id": "44e329cbb6ad2400",
   "outputs": [],
   "execution_count": null
  }
 ],
 "metadata": {
  "kernelspec": {
   "display_name": "Python 3",
   "language": "python",
   "name": "python3"
  },
  "language_info": {
   "codemirror_mode": {
    "name": "ipython",
    "version": 2
   },
   "file_extension": ".py",
   "mimetype": "text/x-python",
   "name": "python",
   "nbconvert_exporter": "python",
   "pygments_lexer": "ipython2",
   "version": "2.7.6"
  }
 },
 "nbformat": 4,
 "nbformat_minor": 5
}
