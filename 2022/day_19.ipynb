{
 "cells": [
  {
   "metadata": {
    "ExecuteTime": {
     "end_time": "2024-12-27T20:13:31.647793Z",
     "start_time": "2024-12-27T20:13:31.631359Z"
    }
   },
   "cell_type": "code",
   "source": [
    "from common.inputreader import InputReader, PuzzleWrapper\n",
    "\n",
    "puzzle = PuzzleWrapper(year=int(\"2022\"), day=int(\"19\"))\n",
    "\n",
    "puzzle.header()"
   ],
   "id": "dec75b3898d7314f",
   "outputs": [
    {
     "data": {
      "text/plain": [
       "<IPython.core.display.Markdown object>"
      ],
      "text/markdown": "# Not Enough Minerals"
     },
     "metadata": {},
     "output_type": "display_data"
    },
    {
     "data": {
      "text/plain": [
       "<IPython.core.display.Markdown object>"
      ],
      "text/markdown": "[Open Website](https://adventofcode.com/2022/day/19)"
     },
     "metadata": {},
     "output_type": "display_data"
    }
   ],
   "execution_count": 20
  },
  {
   "metadata": {
    "ExecuteTime": {
     "end_time": "2024-12-27T20:13:31.698443Z",
     "start_time": "2024-12-27T20:13:31.684765Z"
    }
   },
   "cell_type": "code",
   "source": [
    "\n",
    "# helper functions\n",
    "class Blueprint:\n",
    "    def __init__(self, id: int, costs: dict):\n",
    "        self.id = id\n",
    "        self.costs = costs\n",
    "        self.useful = {\n",
    "            \"ore\": max(self.costs[\"clay\"][\"ore\"],\n",
    "                       self.costs[\"obsidian\"][\"ore\"],\n",
    "                       self.costs[\"geode\"][\"ore\"]),\n",
    "            \"clay\": self.costs[\"obsidian\"][\"clay\"],\n",
    "            \"obsidian\": self.costs[\"geode\"][\"obsidian\"],\n",
    "            \"geode\": float(\"inf\")\n",
    "        }\n",
    "\n",
    "    def __repr__(self):\n",
    "        return (f\"Blueprint(costs={self.costs})\")\n",
    "\n",
    "\n",
    "def domain_from_input(input: InputReader) -> set:\n",
    "    lines = input.lines_as_str()\n",
    "    # remove empty lines\n",
    "    lines = [line for line in lines if line]\n",
    "    blueprints = set()\n",
    "\n",
    "    for i in range(0, len(lines), 5):\n",
    "        costs = {}\n",
    "        # parse id\n",
    "        line = lines[i].strip(\":\").split()\n",
    "        id = int(line[-1])\n",
    "\n",
    "        # parse ore robot using pattern\n",
    "        line = lines[i + 1].strip(\".\").split()\n",
    "        costs[line[1]] = {\n",
    "            line[-1]: int(line[-2]),\n",
    "        }\n",
    "\n",
    "        # parse clay robot using pattern\n",
    "        line = lines[i + 2].strip(\".\").split()\n",
    "        costs[line[1]] = {\n",
    "            line[-1]: int(line[-2]),\n",
    "        }\n",
    "\n",
    "        # parse obsidian robot using pattern\n",
    "        line = lines[i + 3].strip(\".\").split()\n",
    "        costs[line[1]] = {\n",
    "            line[-1]: int(line[-2]),\n",
    "            line[-4]: int(line[-5]),\n",
    "        }\n",
    "\n",
    "        # parse geode robot using pattern\n",
    "        line = lines[i + 4].strip(\".\").split()\n",
    "        costs[line[1]] = {\n",
    "            line[-1]: int(line[-2]),\n",
    "            line[-4]: int(line[-5]),\n",
    "        }\n",
    "\n",
    "        for type in costs.keys():\n",
    "            costs[type] = costs[type]\n",
    "\n",
    "        blueprint = Blueprint(id, costs)\n",
    "        blueprints.add(blueprint)\n",
    "\n",
    "    return blueprints\n",
    "\n",
    "\n",
    "test_input = domain_from_input(puzzle.get_code_block(0))\n",
    "print(test_input)"
   ],
   "id": "34dd2d43c40af29b",
   "outputs": [
    {
     "name": "stdout",
     "output_type": "stream",
     "text": [
      "{Blueprint(costs={'ore': {'ore': 2}, 'clay': {'ore': 3}, 'obsidian': {'clay': 8, 'ore': 3}, 'geode': {'obsidian': 12, 'ore': 3}}), Blueprint(costs={'ore': {'ore': 4}, 'clay': {'ore': 2}, 'obsidian': {'clay': 14, 'ore': 3}, 'geode': {'obsidian': 7, 'ore': 2}})}\n"
     ]
    }
   ],
   "execution_count": 21
  },
  {
   "metadata": {
    "ExecuteTime": {
     "end_time": "2024-12-27T20:13:32.063957Z",
     "start_time": "2024-12-27T20:13:31.713852Z"
    }
   },
   "cell_type": "code",
   "source": [
    "# test case (part 1)\n",
    "class State:\n",
    "    def __init__(self, robots: dict = None, resources: dict = None, ignored: list = None):\n",
    "        self.robots = robots.copy() if robots else {\n",
    "            \"ore\": 1,\n",
    "            \"clay\": 0,\n",
    "            \"obsidian\": 0,\n",
    "            \"geode\": 0,\n",
    "        }\n",
    "        self.resources = resources.copy() if resources else {\n",
    "            \"ore\": 0,\n",
    "            \"clay\": 0,\n",
    "            \"obsidian\": 0,\n",
    "            \"geode\": 0\n",
    "        }\n",
    "        self.ignored = ignored.copy() if ignored else []\n",
    "\n",
    "    def copy(self) -> \"State\":\n",
    "        return State(self.robots, self.resources, self.ignored)\n",
    "\n",
    "    def __gt__(self, other):\n",
    "        return self.resources[\"geode\"] > other.resources[\"geode\"]\n",
    "\n",
    "    def __repr__(self):\n",
    "        return f\"{{robots: {self.robots}, resources: {self.resources}}}\"\n",
    "\n",
    "\n",
    "def evaluate_options(\n",
    "        blueprint: Blueprint,\n",
    "        prior_states: list[State],\n",
    "        timelimit: int = 26\n",
    ") -> [tuple[int, list]]:\n",
    "    time_remaining = timelimit - len(prior_states)\n",
    "    curr_state = prior_states[-1]\n",
    "\n",
    "    # determine options for what to build in the next state\n",
    "    options: list[str] = []\n",
    "    if time_remaining >= 0:\n",
    "        # look for something affordable and useful and not ignored last time\n",
    "        for robot, cost in blueprint.costs.items():\n",
    "            if (curr_state.robots[robot] < blueprint.useful[robot]\n",
    "                    and all(curr_state.resources[k] >= v for k, v in cost.items())\n",
    "                    and robot not in curr_state.ignored):\n",
    "                options.append(robot)\n",
    "\n",
    "        # geodes before anything else, don't bother with other types at the end\n",
    "        if \"geode\" in options:\n",
    "            options = [\"geode\"]\n",
    "        elif time_remaining < 1:\n",
    "            options = []\n",
    "        else:\n",
    "            # cutting off plans that build resources more than 2 phases back\n",
    "            if ((curr_state.robots[\"clay\"] > 3 or curr_state.robots[\"obsidian\"]\n",
    "                 or \"obsidian\" in options) and \"ore\" in options):\n",
    "                options.remove(\"ore\")\n",
    "            if ((curr_state.robots[\"obsidian\"] > 3 or curr_state.robots[\"geode\"]\n",
    "                 or \"geode\" in options) and \"clay\" in options):\n",
    "                options.remove(\"clay\")\n",
    "\n",
    "        # add new resources\n",
    "        next_state = curr_state.copy()\n",
    "        for r, n in next_state.robots.items():\n",
    "            next_state.resources[r] += n\n",
    "\n",
    "        # the 'do nothing' option\n",
    "        next_state.ignored += options\n",
    "        results = [evaluate_options(blueprint, prior_states + [next_state], timelimit)]\n",
    "\n",
    "        # the rest of the options\n",
    "        for opt in options:\n",
    "            next_state_opt = next_state.copy()\n",
    "            next_state_opt.ignored = []\n",
    "            next_state_opt.robots[opt] += 1\n",
    "            for r, n in blueprint.costs[opt].items():\n",
    "                next_state_opt.resources[r] -= n\n",
    "            results.append(\n",
    "                evaluate_options(blueprint, prior_states + [next_state_opt], timelimit)\n",
    "            )\n",
    "\n",
    "        return max(results)\n",
    "\n",
    "    return prior_states[-1].resources[\"geode\"], prior_states\n",
    "\n",
    "\n",
    "def part_1(reader: InputReader, debug: bool) -> int:\n",
    "    blueprints = domain_from_input(reader)\n",
    "    result = 0\n",
    "    for bp in blueprints:\n",
    "        r = evaluate_options(bp, [State()], 24)\n",
    "        result += r[0] * bp.id\n",
    "    return result\n",
    "\n",
    "\n",
    "result = part_1(puzzle.example(0), True)\n",
    "print(result)\n",
    "assert result == 33"
   ],
   "id": "6d23892a17117fed",
   "outputs": [
    {
     "name": "stdout",
     "output_type": "stream",
     "text": [
      "33\n"
     ]
    }
   ],
   "execution_count": 22
  },
  {
   "metadata": {
    "ExecuteTime": {
     "end_time": "2024-12-27T20:13:33.804496Z",
     "start_time": "2024-12-27T20:13:32.077934Z"
    }
   },
   "cell_type": "code",
   "source": [
    "# real case (part 1)\n",
    "def generate_input() -> InputReader:\n",
    "    lines = puzzle.input().lines_as_str()\n",
    "    final_lines = []\n",
    "    # add newline before the word Each.\n",
    "    for line in lines:\n",
    "        for next in line.replace(\"Each\", \"\\nEach\").split(\"\\n\"):\n",
    "            final_lines.append(next.strip())\n",
    "    return InputReader(\"\\n\".join(final_lines))\n",
    "\n",
    "\n",
    "result = part_1(generate_input(), False)\n",
    "print(result)\n",
    "assert result == 1144"
   ],
   "id": "66cab898e4711d42",
   "outputs": [
    {
     "name": "stdout",
     "output_type": "stream",
     "text": [
      "1144\n"
     ]
    }
   ],
   "execution_count": 23
  },
  {
   "metadata": {
    "jupyter": {
     "is_executing": true
    },
    "ExecuteTime": {
     "start_time": "2024-12-27T20:49:29.749656Z"
    }
   },
   "cell_type": "code",
   "source": [
    "# test case (part 2)\n",
    "def part_2(reader: InputReader, debug: bool) -> int:\n",
    "    blueprints = list(domain_from_input(reader))\n",
    "    blueprints.sort(key=lambda x: x.id)\n",
    "    if len(blueprints) > 3:\n",
    "        blueprints = blueprints[:3]\n",
    "    result = 1\n",
    "    for blueprint in blueprints:\n",
    "        r = evaluate_options(blueprint, [State()], 32)\n",
    "        result *= r[0]\n",
    "    return result\n",
    "\n",
    "\n",
    "result = part_2(puzzle.example(0), True)\n",
    "print(result)\n",
    "assert result == 62"
   ],
   "id": "d2277c7db8ea0a5e",
   "outputs": [],
   "execution_count": null
  },
  {
   "metadata": {
    "ExecuteTime": {
     "end_time": "2024-12-27T20:13:47.832964Z",
     "start_time": "2024-12-27T20:13:33.826379Z"
    }
   },
   "cell_type": "code",
   "source": [
    "# real case (part 2)\n",
    "input = generate_input()\n",
    "result = part_2(input, False)\n",
    "print(result)\n",
    "assert result == 19440"
   ],
   "id": "57c071f7c6d2914",
   "outputs": [
    {
     "name": "stdout",
     "output_type": "stream",
     "text": [
      "19440\n"
     ]
    }
   ],
   "execution_count": 25
  },
  {
   "metadata": {
    "ExecuteTime": {
     "end_time": "2024-12-27T20:13:47.855064Z",
     "start_time": "2024-12-27T20:13:47.846181Z"
    }
   },
   "cell_type": "code",
   "source": [
    "# print easters eggs\n",
    "puzzle.print_easter_eggs()"
   ],
   "id": "44e329cbb6ad2400",
   "outputs": [
    {
     "data": {
      "text/plain": [
       "<IPython.core.display.Markdown object>"
      ],
      "text/markdown": "## Easter Eggs"
     },
     "metadata": {},
     "output_type": "display_data"
    },
    {
     "data": {
      "text/plain": [
       "<IPython.core.display.Markdown object>"
      ],
      "text/markdown": "<span title=\"If You Give A Mouse An Ore-Collecting Robot\">kickstart</span> (If You Give A Mouse An Ore-Collecting Robot)"
     },
     "metadata": {},
     "output_type": "display_data"
    }
   ],
   "execution_count": 26
  }
 ],
 "metadata": {
  "kernelspec": {
   "display_name": "Python 3",
   "language": "python",
   "name": "python3"
  },
  "language_info": {
   "codemirror_mode": {
    "name": "ipython",
    "version": 2
   },
   "file_extension": ".py",
   "mimetype": "text/x-python",
   "name": "python",
   "nbconvert_exporter": "python",
   "pygments_lexer": "ipython2",
   "version": "2.7.6"
  }
 },
 "nbformat": 4,
 "nbformat_minor": 5
}
