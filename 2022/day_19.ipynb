{
 "cells": [
  {
   "metadata": {
    "ExecuteTime": {
     "end_time": "2024-12-27T12:10:33.779096Z",
     "start_time": "2024-12-27T12:10:33.296210Z"
    }
   },
   "cell_type": "code",
   "source": [
    "from common.inputreader import InputReader, PuzzleWrapper\n",
    "\n",
    "puzzle = PuzzleWrapper(year=int(\"2022\"), day=int(\"19\"))\n",
    "\n",
    "puzzle.header()"
   ],
   "id": "dec75b3898d7314f",
   "outputs": [
    {
     "data": {
      "text/plain": [
       "<IPython.core.display.Markdown object>"
      ],
      "text/markdown": "# Not Enough Minerals"
     },
     "metadata": {},
     "output_type": "display_data"
    },
    {
     "data": {
      "text/plain": [
       "<IPython.core.display.Markdown object>"
      ],
      "text/markdown": "[Open Website](https://adventofcode.com/2022/day/19)"
     },
     "metadata": {},
     "output_type": "display_data"
    }
   ],
   "execution_count": 2
  },
  {
   "metadata": {
    "ExecuteTime": {
     "end_time": "2024-12-27T12:23:01.740878Z",
     "start_time": "2024-12-27T12:23:01.696809Z"
    }
   },
   "cell_type": "code",
   "source": [
    "\n",
    "class Cost:\n",
    "    def __init__(self, robot: str, costs: dict):\n",
    "        self.robot = robot\n",
    "        self.costs = costs\n",
    "\n",
    "    def __repr__(self):\n",
    "        return (f\"Cost(robot={self.robot}, \"\n",
    "                f\"costs={self.costs})\")\n",
    "\n",
    "\n",
    "# helper functions\n",
    "class Blueprint:\n",
    "    def __init__(self, ore_robot_cost: Cost, clay_robot_cost: Cost, obsidian_robot_cost: Cost, geode_robot_cost: Cost):\n",
    "        self.ore_robot_cost = ore_robot_cost\n",
    "        self.clay_robot_cost = clay_robot_cost\n",
    "        self.obsidian_robot_cost = obsidian_robot_cost\n",
    "        self.geode_robot_cost = geode_robot_cost\n",
    "\n",
    "    def __repr__(self):\n",
    "        return (f\"Blueprint(ore_robot_cost={self.ore_robot_cost}, \"\n",
    "                f\"clay_robot_cost={self.clay_robot_cost}, \"\n",
    "                f\"obsidian_robot_cost={self.obsidian_robot_cost}, \"\n",
    "                f\"geode_robot_cost={self.geode_robot_cost})\")\n",
    "\n",
    "\n",
    "def domain_from_input(input: InputReader) -> set:\n",
    "    lines = input.lines_as_str()\n",
    "    # remove empty lines\n",
    "    lines = [line for line in lines if line]\n",
    "    blueprints = set()\n",
    "\n",
    "    for i in range(0, len(lines), 5):\n",
    "        # parse ore robot using pattern\n",
    "        line = lines[i + 1].strip(\".\").split()\n",
    "        ore_robot_cost = {\n",
    "            line[-1]: int(line[-2]),\n",
    "        }\n",
    "\n",
    "        # parse clay robot using pattern\n",
    "        line = lines[i + 2].strip(\".\").split()\n",
    "        clay_robot_cost = {\n",
    "            line[-1]: int(line[-2]),\n",
    "        }\n",
    "\n",
    "        # parse obsidian robot using pattern\n",
    "        line = lines[i + 3].strip(\".\").split()\n",
    "        obsidian_robot_cost = {\n",
    "            line[-1]: int(line[-2]),\n",
    "            line[-4]: int(line[-5]),\n",
    "        }\n",
    "\n",
    "        # parse geode robot using pattern\n",
    "        line = lines[i + 4].strip(\".\").split()\n",
    "        geode_robot_cost = {\n",
    "            line[-1]: int(line[-2]),\n",
    "            line[-4]: int(line[-5]),\n",
    "        }\n",
    "\n",
    "        blueprint = Blueprint(\n",
    "            Cost(\"ore\", ore_robot_cost),\n",
    "            Cost(\"clay\", clay_robot_cost),\n",
    "            Cost(\"obsidian\", obsidian_robot_cost),\n",
    "            Cost(\"geode\", geode_robot_cost)\n",
    "        )\n",
    "        blueprints.add(blueprint)\n",
    "\n",
    "    return blueprints\n",
    "\n",
    "\n",
    "test_input = domain_from_input(puzzle.get_code_block(0))\n",
    "print(test_input)"
   ],
   "id": "34dd2d43c40af29b",
   "outputs": [
    {
     "name": "stdout",
     "output_type": "stream",
     "text": [
      "{Blueprint(ore_robot_cost=Cost(robot=ore, costs={'ore': 4}), clay_robot_cost=Cost(robot=clay, costs={'ore': 2}), obsidian_robot_cost=Cost(robot=obsidian, costs={'clay': 14, 'ore': 3}), geode_robot_cost=Cost(robot=geode, costs={'obsidian': 7, 'ore': 2})), Blueprint(ore_robot_cost=Cost(robot=ore, costs={'ore': 2}), clay_robot_cost=Cost(robot=clay, costs={'ore': 3}), obsidian_robot_cost=Cost(robot=obsidian, costs={'clay': 8, 'ore': 3}), geode_robot_cost=Cost(robot=geode, costs={'obsidian': 12, 'ore': 3}))}\n"
     ]
    }
   ],
   "execution_count": 18
  },
  {
   "metadata": {
    "ExecuteTime": {
     "end_time": "2024-12-27T12:32:59.189115Z",
     "start_time": "2024-12-27T12:32:59.175327Z"
    }
   },
   "cell_type": "code",
   "source": [
    "# test case (part 1)\n",
    "def part_1(reader: InputReader, debug: bool) -> int:\n",
    "    blueprints = domain_from_input(reader)\n",
    "    total_geodes = 0\n",
    "    for blueprint in blueprints:\n",
    "        if debug:\n",
    "            print(blueprint)\n",
    "\n",
    "        state = {\n",
    "            \"robots\": {\n",
    "                \"ore\": 1,\n",
    "                \"clay\": 0,\n",
    "                \"obsidian\": 0,\n",
    "                \"geode\": 0,\n",
    "            },\n",
    "            \"ore\": 0,\n",
    "            \"clay\": 0,\n",
    "            \"obsidian\": 0,\n",
    "            \"geode\": 0\n",
    "        }\n",
    "        for i in range(3):\n",
    "            # produce ore\n",
    "            for type in state[\"robots\"]:\n",
    "                state[type] += state[\"robots\"][type]\n",
    "\n",
    "            # produce clay robot if possible\n",
    "            if state[\"ore\"] >= blueprint.ore_robot_cost.costs[\"ore\"]:\n",
    "                state[\"ore\"] -= blueprint.ore_robot_cost.costs[\"ore\"]\n",
    "                state[\"robots\"][\"clay\"] += 1\n",
    "\n",
    "            if debug:\n",
    "                print(f\"state after round {i + 1}\")\n",
    "                print(state)\n",
    "\n",
    "        total_geodes += state[\"geode\"]\n",
    "\n",
    "    return total_geodes\n",
    "\n",
    "\n",
    "result = part_1(puzzle.example(0), True)\n",
    "print(result)\n",
    "assert result == 33"
   ],
   "id": "6d23892a17117fed",
   "outputs": [
    {
     "name": "stdout",
     "output_type": "stream",
     "text": [
      "Blueprint(ore_robot_cost=Cost(robot=ore, costs={'ore': 4}), clay_robot_cost=Cost(robot=clay, costs={'ore': 2}), obsidian_robot_cost=Cost(robot=obsidian, costs={'clay': 14, 'ore': 3}), geode_robot_cost=Cost(robot=geode, costs={'obsidian': 7, 'ore': 2}))\n",
      "state after round 1\n",
      "{'robots': {'ore': 1, 'clay': 0, 'obsidian': 0, 'geode': 0}, 'ore': 1, 'clay': 0, 'obsidian': 0, 'geode': 0}\n",
      "state after round 2\n",
      "{'robots': {'ore': 1, 'clay': 0, 'obsidian': 0, 'geode': 0}, 'ore': 2, 'clay': 0, 'obsidian': 0, 'geode': 0}\n",
      "state after round 3\n",
      "{'robots': {'ore': 1, 'clay': 0, 'obsidian': 0, 'geode': 0}, 'ore': 3, 'clay': 0, 'obsidian': 0, 'geode': 0}\n",
      "Blueprint(ore_robot_cost=Cost(robot=ore, costs={'ore': 2}), clay_robot_cost=Cost(robot=clay, costs={'ore': 3}), obsidian_robot_cost=Cost(robot=obsidian, costs={'clay': 8, 'ore': 3}), geode_robot_cost=Cost(robot=geode, costs={'obsidian': 12, 'ore': 3}))\n",
      "state after round 1\n",
      "{'robots': {'ore': 1, 'clay': 0, 'obsidian': 0, 'geode': 0}, 'ore': 1, 'clay': 0, 'obsidian': 0, 'geode': 0}\n",
      "state after round 2\n",
      "{'robots': {'ore': 1, 'clay': 1, 'obsidian': 0, 'geode': 0}, 'ore': 0, 'clay': 0, 'obsidian': 0, 'geode': 0}\n",
      "state after round 3\n",
      "{'robots': {'ore': 1, 'clay': 1, 'obsidian': 0, 'geode': 0}, 'ore': 1, 'clay': 1, 'obsidian': 0, 'geode': 0}\n",
      "0\n"
     ]
    },
    {
     "ename": "AssertionError",
     "evalue": "",
     "output_type": "error",
     "traceback": [
      "\u001B[0;31m---------------------------------------------------------------------------\u001B[0m",
      "\u001B[0;31mAssertionError\u001B[0m                            Traceback (most recent call last)",
      "Cell \u001B[0;32mIn[28], line 42\u001B[0m\n\u001B[1;32m     40\u001B[0m result \u001B[38;5;241m=\u001B[39m part_1(puzzle\u001B[38;5;241m.\u001B[39mexample(\u001B[38;5;241m0\u001B[39m), \u001B[38;5;28;01mTrue\u001B[39;00m)\n\u001B[1;32m     41\u001B[0m \u001B[38;5;28mprint\u001B[39m(result)\n\u001B[0;32m---> 42\u001B[0m \u001B[38;5;28;01massert\u001B[39;00m result \u001B[38;5;241m==\u001B[39m \u001B[38;5;241m33\u001B[39m\n",
      "\u001B[0;31mAssertionError\u001B[0m: "
     ]
    }
   ],
   "execution_count": 28
  },
  {
   "metadata": {},
   "cell_type": "code",
   "source": [
    "# real case (part 1)\n",
    "result = part_1(puzzle.input(), False)\n",
    "print(result)"
   ],
   "id": "66cab898e4711d42",
   "outputs": [],
   "execution_count": null
  },
  {
   "metadata": {},
   "cell_type": "code",
   "source": [
    "# test case (part 2)\n",
    "def part_2(reader: InputReader, debug: bool) -> int:\n",
    "    lines = domain_from_input(reader)\n",
    "    if debug:\n",
    "        print(lines)\n",
    "    return 0\n",
    "\n",
    "\n",
    "result = part_2(puzzle.example(0), True)\n",
    "print(result)\n",
    "assert result == 0"
   ],
   "id": "d2277c7db8ea0a5e",
   "outputs": [],
   "execution_count": null
  },
  {
   "metadata": {},
   "cell_type": "code",
   "source": [
    "# real case (part 2)\n",
    "result = part_2(puzzle.input(), False)\n",
    "print(result)"
   ],
   "id": "57c071f7c6d2914",
   "outputs": [],
   "execution_count": null
  },
  {
   "metadata": {},
   "cell_type": "code",
   "source": [
    "# print easters eggs\n",
    "puzzle.print_easter_eggs()"
   ],
   "id": "44e329cbb6ad2400",
   "outputs": [],
   "execution_count": null
  }
 ],
 "metadata": {
  "kernelspec": {
   "display_name": "Python 3",
   "language": "python",
   "name": "python3"
  },
  "language_info": {
   "codemirror_mode": {
    "name": "ipython",
    "version": 2
   },
   "file_extension": ".py",
   "mimetype": "text/x-python",
   "name": "python",
   "nbconvert_exporter": "python",
   "pygments_lexer": "ipython2",
   "version": "2.7.6"
  }
 },
 "nbformat": 4,
 "nbformat_minor": 5
}
