{
 "cells": [
  {
   "metadata": {
    "ExecuteTime": {
     "end_time": "2024-12-25T18:34:55.652694Z",
     "start_time": "2024-12-25T18:34:55.635602Z"
    }
   },
   "cell_type": "code",
   "source": [
    "from common.inputreader import InputReader, PuzzleWrapper\n",
    "\n",
    "puzzle = PuzzleWrapper(year=int(\"2017\"), day=int(\"01\"))\n",
    "\n",
    "puzzle.header()"
   ],
   "id": "dec75b3898d7314f",
   "outputs": [
    {
     "data": {
      "text/plain": [
       "<IPython.core.display.Markdown object>"
      ],
      "text/markdown": "# Inverse Captcha"
     },
     "metadata": {},
     "output_type": "display_data"
    },
    {
     "data": {
      "text/plain": [
       "<IPython.core.display.Markdown object>"
      ],
      "text/markdown": "[Open Website](https://adventofcode.com/2017/day/1)"
     },
     "metadata": {},
     "output_type": "display_data"
    }
   ],
   "execution_count": 22
  },
  {
   "metadata": {
    "ExecuteTime": {
     "end_time": "2024-12-25T18:34:55.686827Z",
     "start_time": "2024-12-25T18:34:55.673388Z"
    }
   },
   "cell_type": "code",
   "source": [
    "# helper functions\n",
    "def domain_from_input(input: InputReader) -> list:\n",
    "    lines = input.as_str()\n",
    "\n",
    "    return lines\n",
    "\n",
    "\n",
    "test_input = domain_from_input(puzzle.get_code_block(0, 0))\n",
    "print(test_input)"
   ],
   "id": "34dd2d43c40af29b",
   "outputs": [
    {
     "name": "stdout",
     "output_type": "stream",
     "text": [
      "1122\n"
     ]
    }
   ],
   "execution_count": 23
  },
  {
   "metadata": {
    "ExecuteTime": {
     "end_time": "2024-12-25T18:34:55.721724Z",
     "start_time": "2024-12-25T18:34:55.702720Z"
    }
   },
   "cell_type": "code",
   "source": [
    "# test case (part 1)\n",
    "def part_1(reader: InputReader, debug: bool) -> int:\n",
    "    digits = domain_from_input(reader)\n",
    "    digits = [int(d) for d in digits.strip()]\n",
    "    total_sum = 0\n",
    "    length = len(digits)\n",
    "\n",
    "    for i in range(length):\n",
    "        if digits[i] == digits[(i + 1) % length]:\n",
    "            total_sum += digits[i]\n",
    "\n",
    "    if debug:\n",
    "        print(f'Digits: {digits}')\n",
    "        print(f'Sum: {total_sum}')\n",
    "\n",
    "    return total_sum\n",
    "\n",
    "\n",
    "result = part_1(puzzle.get_code_block(0, 2), True)\n",
    "print(result)\n",
    "assert result == 3\n",
    "\n",
    "result = part_1(puzzle.get_code_block(1, 2), True)\n",
    "print(result)\n",
    "assert result == 4\n",
    "\n",
    "result = part_1(puzzle.get_code_block(2, 2), True)\n",
    "print(result)\n",
    "assert result == 0\n",
    "\n",
    "result = part_1(puzzle.get_code_block(3, 2), True)\n",
    "print(result)\n",
    "assert result == 9"
   ],
   "id": "6d23892a17117fed",
   "outputs": [
    {
     "name": "stdout",
     "output_type": "stream",
     "text": [
      "Digits: [1, 1, 2, 2]\n",
      "Sum: 3\n",
      "3\n",
      "Digits: [1, 1, 1, 1]\n",
      "Sum: 4\n",
      "4\n",
      "Digits: [1, 2, 3, 4]\n",
      "Sum: 0\n",
      "0\n",
      "Digits: [9, 1, 2, 1, 2, 1, 2, 9]\n",
      "Sum: 9\n",
      "9\n"
     ]
    }
   ],
   "execution_count": 24
  },
  {
   "metadata": {
    "ExecuteTime": {
     "end_time": "2024-12-25T18:34:55.733449Z",
     "start_time": "2024-12-25T18:34:55.730675Z"
    }
   },
   "cell_type": "code",
   "source": [
    "# real case (part 1)\n",
    "result = part_1(puzzle.input(), False)\n",
    "print(result)\n",
    "assert result == 1047"
   ],
   "id": "66cab898e4711d42",
   "outputs": [
    {
     "name": "stdout",
     "output_type": "stream",
     "text": [
      "1047\n"
     ]
    }
   ],
   "execution_count": 25
  },
  {
   "metadata": {
    "ExecuteTime": {
     "end_time": "2024-12-25T18:34:55.755266Z",
     "start_time": "2024-12-25T18:34:55.751330Z"
    }
   },
   "cell_type": "code",
   "source": [
    "# test case (part 2)\n",
    "def part_2(reader: InputReader, debug: bool) -> int:\n",
    "    digits = domain_from_input(reader)\n",
    "    digits = [int(d) for d in digits.strip()]\n",
    "    total_sum = 0\n",
    "    length = len(digits)\n",
    "    half_length = length // 2\n",
    "\n",
    "    for i in range(length):\n",
    "        if digits[i] == digits[(i + half_length) % length]:\n",
    "            total_sum += digits[i]\n",
    "\n",
    "    if debug:\n",
    "        print(f'Digits: {digits}')\n",
    "        print(f'Sum: {total_sum}')\n",
    "\n",
    "    return total_sum\n",
    "\n",
    "\n",
    "result = part_2(InputReader(\"1212\"), True)\n",
    "print(result)\n",
    "assert result == 6\n",
    "\n",
    "result = part_2(InputReader(\"1221\"), True)\n",
    "print(result)\n",
    "assert result == 0\n",
    "\n",
    "result = part_2(InputReader(\"123425\"), True)\n",
    "print(result)\n",
    "assert result == 4\n",
    "\n",
    "result = part_2(InputReader(\"123123\"), True)\n",
    "print(result)\n",
    "assert result == 12\n",
    "\n",
    "result = part_2(InputReader(\"12131415\"), True)\n",
    "print(result)\n",
    "assert result == 4"
   ],
   "id": "d2277c7db8ea0a5e",
   "outputs": [
    {
     "name": "stdout",
     "output_type": "stream",
     "text": [
      "Digits: [1, 2, 1, 2]\n",
      "Sum: 6\n",
      "6\n",
      "Digits: [1, 2, 2, 1]\n",
      "Sum: 0\n",
      "0\n",
      "Digits: [1, 2, 3, 4, 2, 5]\n",
      "Sum: 4\n",
      "4\n",
      "Digits: [1, 2, 3, 1, 2, 3]\n",
      "Sum: 12\n",
      "12\n",
      "Digits: [1, 2, 1, 3, 1, 4, 1, 5]\n",
      "Sum: 4\n",
      "4\n"
     ]
    }
   ],
   "execution_count": 26
  },
  {
   "metadata": {
    "ExecuteTime": {
     "end_time": "2024-12-25T18:34:55.833082Z",
     "start_time": "2024-12-25T18:34:55.829558Z"
    }
   },
   "cell_type": "code",
   "source": [
    "# real case (part 2)\n",
    "result = part_2(puzzle.input(), False)\n",
    "print(result)\n",
    "assert result == 982"
   ],
   "id": "57c071f7c6d2914",
   "outputs": [
    {
     "name": "stdout",
     "output_type": "stream",
     "text": [
      "982\n"
     ]
    }
   ],
   "execution_count": 27
  },
  {
   "metadata": {
    "ExecuteTime": {
     "end_time": "2024-12-25T18:34:55.859625Z",
     "start_time": "2024-12-25T18:34:55.854224Z"
    }
   },
   "cell_type": "code",
   "source": [
    "# print easters eggs\n",
    "puzzle.print_easter_eggs()"
   ],
   "id": "44e329cbb6ad2400",
   "outputs": [
    {
     "data": {
      "text/plain": [
       "<IPython.core.display.Markdown object>"
      ],
      "text/markdown": "## Easter Eggs"
     },
     "metadata": {},
     "output_type": "display_data"
    },
    {
     "data": {
      "text/plain": [
       "<IPython.core.display.Markdown object>"
      ],
      "text/markdown": "<span title=\"Floor 17: cafeteria, printing department, and experimental organic digitization equipment.\">sub-basement 17</span> (Floor 17: cafeteria, printing department, and experimental organic digitization equipment.)"
     },
     "metadata": {},
     "output_type": "display_data"
    }
   ],
   "execution_count": 28
  }
 ],
 "metadata": {
  "kernelspec": {
   "display_name": "Python 3",
   "language": "python",
   "name": "python3"
  },
  "language_info": {
   "codemirror_mode": {
    "name": "ipython",
    "version": 2
   },
   "file_extension": ".py",
   "mimetype": "text/x-python",
   "name": "python",
   "nbconvert_exporter": "python",
   "pygments_lexer": "ipython2",
   "version": "2.7.6"
  }
 },
 "nbformat": 4,
 "nbformat_minor": 5
}
