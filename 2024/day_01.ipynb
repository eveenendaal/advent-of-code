{
 "cells": [
  {
   "cell_type": "code",
   "id": "initial_id",
   "metadata": {
    "collapsed": true,
    "execution": {
     "iopub.execute_input": "2024-12-23T12:53:47.726731Z",
     "iopub.status.busy": "2024-12-23T12:53:47.726399Z",
     "iopub.status.idle": "2024-12-23T12:53:47.942809Z",
     "shell.execute_reply": "2024-12-23T12:53:47.942515Z"
    },
    "ExecuteTime": {
     "end_time": "2024-12-26T07:45:57.814919Z",
     "start_time": "2024-12-26T07:45:57.729526Z"
    }
   },
   "source": [
    "from common.inputreader import InputReader, PuzzleWrapper\n",
    "\n",
    "puzzle = PuzzleWrapper(year=2024, day=int(\"01\"))\n",
    "\n",
    "puzzle.header()"
   ],
   "outputs": [
    {
     "data": {
      "text/plain": [
       "<IPython.core.display.Markdown object>"
      ],
      "text/markdown": "# Historian Hysteria"
     },
     "metadata": {},
     "output_type": "display_data"
    },
    {
     "data": {
      "text/plain": [
       "<IPython.core.display.Markdown object>"
      ],
      "text/markdown": "[Open Website](https://adventofcode.com/2024/day/1)"
     },
     "metadata": {},
     "output_type": "display_data"
    }
   ],
   "execution_count": 1
  },
  {
   "cell_type": "code",
   "id": "10bac90b39b09cc2",
   "metadata": {
    "execution": {
     "iopub.execute_input": "2024-12-23T12:53:47.944268Z",
     "iopub.status.busy": "2024-12-23T12:53:47.944149Z",
     "iopub.status.idle": "2024-12-23T12:53:47.964347Z",
     "shell.execute_reply": "2024-12-23T12:53:47.964025Z"
    },
    "ExecuteTime": {
     "end_time": "2024-12-26T07:45:57.855762Z",
     "start_time": "2024-12-26T07:45:57.831986Z"
    }
   },
   "source": [
    "# test case (part 1)\n",
    "\n",
    "def part_1(input: InputReader):\n",
    "    lines = input.lines_as_ints()\n",
    "\n",
    "    left = []\n",
    "    right = []\n",
    "\n",
    "    # iterate over the lines and split the line by whitespace and append to left and right\n",
    "    for line in lines:\n",
    "        left.append(line[0])\n",
    "        right.append(line[1])\n",
    "\n",
    "    # sort the left and right lists\n",
    "    left.sort()\n",
    "    right.sort()\n",
    "\n",
    "    # iterate over the lists and calculate the difference\n",
    "    diff = 0\n",
    "    for i in range(len(left)):\n",
    "        diff += abs(int(left[i]) - int(right[i]))\n",
    "\n",
    "    return diff\n",
    "\n",
    "\n",
    "result = part_1(puzzle.example(0))\n",
    "assert result == 11"
   ],
   "outputs": [],
   "execution_count": 2
  },
  {
   "cell_type": "code",
   "id": "792aea30f7e7be80",
   "metadata": {
    "execution": {
     "iopub.execute_input": "2024-12-23T12:53:47.965820Z",
     "iopub.status.busy": "2024-12-23T12:53:47.965705Z",
     "iopub.status.idle": "2024-12-23T12:53:47.971171Z",
     "shell.execute_reply": "2024-12-23T12:53:47.970946Z"
    },
    "ExecuteTime": {
     "end_time": "2024-12-26T07:45:57.939919Z",
     "start_time": "2024-12-26T07:45:57.934729Z"
    }
   },
   "source": [
    "# real case (part 1)\n",
    "\n",
    "result = part_1(puzzle.input())\n",
    "display(result)\n",
    "assert result == 1651298\n"
   ],
   "outputs": [
    {
     "data": {
      "text/plain": [
       "1651298"
      ]
     },
     "metadata": {},
     "output_type": "display_data"
    }
   ],
   "execution_count": 3
  },
  {
   "cell_type": "code",
   "id": "37e43670e40d8ff5",
   "metadata": {
    "execution": {
     "iopub.execute_input": "2024-12-23T12:53:47.972348Z",
     "iopub.status.busy": "2024-12-23T12:53:47.972242Z",
     "iopub.status.idle": "2024-12-23T12:53:47.976514Z",
     "shell.execute_reply": "2024-12-23T12:53:47.976266Z"
    },
    "ExecuteTime": {
     "end_time": "2024-12-26T07:45:57.957404Z",
     "start_time": "2024-12-26T07:45:57.952318Z"
    }
   },
   "source": [
    "# test case (part 2)\n",
    "\n",
    "def part_2(input: InputReader):\n",
    "    lines = input.lines_as_ints()\n",
    "\n",
    "    left = []\n",
    "    right = []\n",
    "\n",
    "    # iterate over the lines and split the line by whitespace and append to left and right\n",
    "    for line in lines:\n",
    "        left.append(line[0])\n",
    "        right.append(line[1])\n",
    "\n",
    "    # iterate over the lists and calculate the difference\n",
    "    total = 0\n",
    "    for i in range(len(left)):\n",
    "        next_left = left[i]\n",
    "\n",
    "        # how many times does the next_left appear in the right list\n",
    "        count = right.count(next_left)\n",
    "\n",
    "        total += next_left * count\n",
    "\n",
    "    return total\n",
    "\n",
    "\n",
    "result = part_2(puzzle.example(0))\n",
    "display(result)\n",
    "assert result == 31"
   ],
   "outputs": [
    {
     "data": {
      "text/plain": [
       "31"
      ]
     },
     "metadata": {},
     "output_type": "display_data"
    }
   ],
   "execution_count": 4
  },
  {
   "cell_type": "code",
   "id": "f80387c9b2081ccc",
   "metadata": {
    "execution": {
     "iopub.execute_input": "2024-12-23T12:53:47.977847Z",
     "iopub.status.busy": "2024-12-23T12:53:47.977762Z",
     "iopub.status.idle": "2024-12-23T12:53:47.987118Z",
     "shell.execute_reply": "2024-12-23T12:53:47.986852Z"
    },
    "ExecuteTime": {
     "end_time": "2024-12-26T07:45:58.030957Z",
     "start_time": "2024-12-26T07:45:58.016627Z"
    }
   },
   "source": [
    "# real case (part 2)\n",
    "result = part_2(puzzle.input())\n",
    "display(result)\n",
    "assert result == 21306195"
   ],
   "outputs": [
    {
     "data": {
      "text/plain": [
       "21306195"
      ]
     },
     "metadata": {},
     "output_type": "display_data"
    }
   ],
   "execution_count": 5
  },
  {
   "cell_type": "code",
   "id": "e1cd8f7e0af1c522",
   "metadata": {
    "ExecuteTime": {
     "end_time": "2024-12-26T07:45:58.062619Z",
     "start_time": "2024-12-26T07:45:58.061021Z"
    }
   },
   "source": [],
   "outputs": [],
   "execution_count": null
  }
 ],
 "metadata": {
  "kernelspec": {
   "display_name": "Python 3",
   "language": "python",
   "name": "python3"
  },
  "language_info": {
   "codemirror_mode": {
    "name": "ipython",
    "version": 3
   },
   "file_extension": ".py",
   "mimetype": "text/x-python",
   "name": "python",
   "nbconvert_exporter": "python",
   "pygments_lexer": "ipython3",
   "version": "3.13.0"
  }
 },
 "nbformat": 4,
 "nbformat_minor": 5
}
