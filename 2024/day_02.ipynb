{
 "cells": [
  {
   "cell_type": "code",
   "execution_count": 1,
   "id": "dec75b3898d7314f",
   "metadata": {
    "ExecuteTime": {
     "end_time": "2024-12-23T12:17:34.106704Z",
     "start_time": "2024-12-23T12:17:33.969320Z"
    },
    "execution": {
     "iopub.execute_input": "2024-12-23T12:53:49.473495Z",
     "iopub.status.busy": "2024-12-23T12:53:49.473256Z",
     "iopub.status.idle": "2024-12-23T12:53:49.636895Z",
     "shell.execute_reply": "2024-12-23T12:53:49.636599Z"
    }
   },
   "outputs": [
    {
     "data": {
      "text/markdown": [
       "# Red-Nosed Reports"
      ],
      "text/plain": [
       "<IPython.core.display.Markdown object>"
      ]
     },
     "metadata": {},
     "output_type": "display_data"
    },
    {
     "data": {
      "text/markdown": [
       "[Open Website](https://adventofcode.com/2024/day/2)"
      ],
      "text/plain": [
       "<IPython.core.display.Markdown object>"
      ]
     },
     "metadata": {},
     "output_type": "display_data"
    }
   ],
   "source": [
    "from common.inputreader import InputReader, PuzzleWrapper\n",
    "\n",
    "puzzle = PuzzleWrapper(year=2024, day=int(\"02\"))\n",
    "\n",
    "puzzle.header()"
   ]
  },
  {
   "cell_type": "code",
   "execution_count": 2,
   "id": "86ef7d79eb33ce6a",
   "metadata": {
    "ExecuteTime": {
     "end_time": "2024-12-23T12:17:34.120553Z",
     "start_time": "2024-12-23T12:17:34.115823Z"
    },
    "execution": {
     "iopub.execute_input": "2024-12-23T12:53:49.638298Z",
     "iopub.status.busy": "2024-12-23T12:53:49.638191Z",
     "iopub.status.idle": "2024-12-23T12:53:49.641786Z",
     "shell.execute_reply": "2024-12-23T12:53:49.641403Z"
    }
   },
   "outputs": [
    {
     "data": {
      "text/markdown": [
       "## Easter Eggs"
      ],
      "text/plain": [
       "<IPython.core.display.Markdown object>"
      ]
     },
     "metadata": {},
     "output_type": "display_data"
    },
    {
     "data": {
      "text/markdown": [
       "<span title=\"I need to get one of these!\">Problem Dampener</span> (I need to get one of these!)"
      ],
      "text/plain": [
       "<IPython.core.display.Markdown object>"
      ]
     },
     "metadata": {},
     "output_type": "display_data"
    }
   ],
   "source": [
    "puzzle.print_easter_eggs()"
   ]
  },
  {
   "cell_type": "code",
   "execution_count": 3,
   "id": "6d23892a17117fed",
   "metadata": {
    "ExecuteTime": {
     "end_time": "2024-12-23T12:17:34.305893Z",
     "start_time": "2024-12-23T12:17:34.272577Z"
    },
    "execution": {
     "iopub.execute_input": "2024-12-23T12:53:49.643156Z",
     "iopub.status.busy": "2024-12-23T12:53:49.643067Z",
     "iopub.status.idle": "2024-12-23T12:53:49.667264Z",
     "shell.execute_reply": "2024-12-23T12:53:49.667028Z"
    }
   },
   "outputs": [
    {
     "data": {
      "text/plain": [
       "[7, 6, 4, 2, 1]"
      ]
     },
     "metadata": {},
     "output_type": "display_data"
    },
    {
     "data": {
      "text/plain": [
       "'min_diff: 1, max_diff: 2'"
      ]
     },
     "metadata": {},
     "output_type": "display_data"
    },
    {
     "data": {
      "text/plain": [
       "'increases: 0, decreases: 4, unsafe: False'"
      ]
     },
     "metadata": {},
     "output_type": "display_data"
    },
    {
     "data": {
      "text/plain": [
       "[1, 2, 7, 8, 9]"
      ]
     },
     "metadata": {},
     "output_type": "display_data"
    },
    {
     "data": {
      "text/plain": [
       "'min_diff: 1, max_diff: 5'"
      ]
     },
     "metadata": {},
     "output_type": "display_data"
    },
    {
     "data": {
      "text/plain": [
       "'increases: 4, decreases: 0, unsafe: True'"
      ]
     },
     "metadata": {},
     "output_type": "display_data"
    },
    {
     "data": {
      "text/plain": [
       "[9, 7, 6, 2, 1]"
      ]
     },
     "metadata": {},
     "output_type": "display_data"
    },
    {
     "data": {
      "text/plain": [
       "'min_diff: 1, max_diff: 4'"
      ]
     },
     "metadata": {},
     "output_type": "display_data"
    },
    {
     "data": {
      "text/plain": [
       "'increases: 0, decreases: 4, unsafe: True'"
      ]
     },
     "metadata": {},
     "output_type": "display_data"
    },
    {
     "data": {
      "text/plain": [
       "[1, 3, 2, 4, 5]"
      ]
     },
     "metadata": {},
     "output_type": "display_data"
    },
    {
     "data": {
      "text/plain": [
       "'min_diff: 1, max_diff: 2'"
      ]
     },
     "metadata": {},
     "output_type": "display_data"
    },
    {
     "data": {
      "text/plain": [
       "'increases: 3, decreases: 1, unsafe: True'"
      ]
     },
     "metadata": {},
     "output_type": "display_data"
    },
    {
     "data": {
      "text/plain": [
       "[8, 6, 4, 4, 1]"
      ]
     },
     "metadata": {},
     "output_type": "display_data"
    },
    {
     "data": {
      "text/plain": [
       "'min_diff: 0, max_diff: 3'"
      ]
     },
     "metadata": {},
     "output_type": "display_data"
    },
    {
     "data": {
      "text/plain": [
       "'increases: 0, decreases: 3, unsafe: True'"
      ]
     },
     "metadata": {},
     "output_type": "display_data"
    },
    {
     "data": {
      "text/plain": [
       "[1, 3, 6, 7, 9]"
      ]
     },
     "metadata": {},
     "output_type": "display_data"
    },
    {
     "data": {
      "text/plain": [
       "'min_diff: 1, max_diff: 3'"
      ]
     },
     "metadata": {},
     "output_type": "display_data"
    },
    {
     "data": {
      "text/plain": [
       "'increases: 4, decreases: 0, unsafe: False'"
      ]
     },
     "metadata": {},
     "output_type": "display_data"
    },
    {
     "name": "stdout",
     "output_type": "stream",
     "text": [
      "2\n"
     ]
    }
   ],
   "source": [
    "# test case (part 1)\n",
    "def part_1(input: InputReader, debug: bool) -> int:\n",
    "    lines = input.lines_as_ints()\n",
    "    safes = 0\n",
    "\n",
    "    for line in lines:\n",
    "        diffs = []\n",
    "        abs_diffs = []\n",
    "        pairs = []\n",
    "        increases = 0\n",
    "        decreases = 0\n",
    "\n",
    "        # split into pairs\n",
    "        for i in range(len(line) - 1):\n",
    "            pairs.append((line[i], line[i + 1]))\n",
    "        # calculate differences\n",
    "        for pair in pairs:\n",
    "            diffs.append(pair[1] - pair[0])\n",
    "            abs_diffs.append(abs(pair[1] - pair[0]))\n",
    "\n",
    "        unsafe = False\n",
    "\n",
    "        min_diff = min(abs_diffs)\n",
    "        max_diff = max(abs_diffs)\n",
    "\n",
    "        # if any of the diffs are greater than 2, it's unsafe\n",
    "        for diff in diffs:\n",
    "            if diff > 0:\n",
    "                increases += 1\n",
    "            elif diff < 0:\n",
    "                decreases += 1\n",
    "\n",
    "        # it's a mix of increases and decreases, it's unsafe\n",
    "        if increases > 0 and decreases > 0:\n",
    "            unsafe = True\n",
    "\n",
    "        if min_diff < 1 or max_diff > 3:\n",
    "            unsafe = True\n",
    "\n",
    "        if not unsafe:\n",
    "            safes += 1\n",
    "\n",
    "        if debug:\n",
    "            display(line)\n",
    "            display(f\"min_diff: {min_diff}, max_diff: {max_diff}\")\n",
    "            display(f\"increases: {increases}, decreases: {decreases}, unsafe: {unsafe}\")\n",
    "\n",
    "    return safes\n",
    "\n",
    "\n",
    "result = part_1(puzzle.example(0), True)\n",
    "print(result)\n",
    "assert result == 2"
   ]
  },
  {
   "cell_type": "code",
   "execution_count": 4,
   "id": "66cab898e4711d42",
   "metadata": {
    "ExecuteTime": {
     "end_time": "2024-12-23T12:17:34.325624Z",
     "start_time": "2024-12-23T12:17:34.320816Z"
    },
    "execution": {
     "iopub.execute_input": "2024-12-23T12:53:49.668519Z",
     "iopub.status.busy": "2024-12-23T12:53:49.668437Z",
     "iopub.status.idle": "2024-12-23T12:53:49.676238Z",
     "shell.execute_reply": "2024-12-23T12:53:49.675933Z"
    }
   },
   "outputs": [
    {
     "data": {
      "text/plain": [
       "524"
      ]
     },
     "metadata": {},
     "output_type": "display_data"
    }
   ],
   "source": [
    "# real case (part 1)\n",
    "result = part_1(puzzle.input(), False)\n",
    "display(result)\n",
    "assert result == 524"
   ]
  },
  {
   "cell_type": "code",
   "execution_count": 5,
   "id": "d2277c7db8ea0a5e",
   "metadata": {
    "ExecuteTime": {
     "end_time": "2024-12-23T12:17:34.379025Z",
     "start_time": "2024-12-23T12:17:34.358211Z"
    },
    "execution": {
     "iopub.execute_input": "2024-12-23T12:53:49.677651Z",
     "iopub.status.busy": "2024-12-23T12:53:49.677562Z",
     "iopub.status.idle": "2024-12-23T12:53:49.695817Z",
     "shell.execute_reply": "2024-12-23T12:53:49.695598Z"
    }
   },
   "outputs": [
    {
     "data": {
      "text/plain": [
       "[7, 6, 4, 2, 1]"
      ]
     },
     "metadata": {},
     "output_type": "display_data"
    },
    {
     "data": {
      "text/plain": [
       "'min_diff: 1, max_diff: 2'"
      ]
     },
     "metadata": {},
     "output_type": "display_data"
    },
    {
     "data": {
      "text/plain": [
       "'increases: 0, decreases: 4'"
      ]
     },
     "metadata": {},
     "output_type": "display_data"
    },
    {
     "data": {
      "text/plain": [
       "'line is safe'"
      ]
     },
     "metadata": {},
     "output_type": "display_data"
    },
    {
     "data": {
      "text/plain": [
       "[1, 2, 7, 8, 9]"
      ]
     },
     "metadata": {},
     "output_type": "display_data"
    },
    {
     "data": {
      "text/plain": [
       "'min_diff: 1, max_diff: 5'"
      ]
     },
     "metadata": {},
     "output_type": "display_data"
    },
    {
     "data": {
      "text/plain": [
       "'increases: 4, decreases: 0'"
      ]
     },
     "metadata": {},
     "output_type": "display_data"
    },
    {
     "data": {
      "text/plain": [
       "[2, 7, 8, 9]"
      ]
     },
     "metadata": {},
     "output_type": "display_data"
    },
    {
     "data": {
      "text/plain": [
       "[1, 7, 8, 9]"
      ]
     },
     "metadata": {},
     "output_type": "display_data"
    },
    {
     "data": {
      "text/plain": [
       "[1, 2, 8, 9]"
      ]
     },
     "metadata": {},
     "output_type": "display_data"
    },
    {
     "data": {
      "text/plain": [
       "[1, 2, 7, 9]"
      ]
     },
     "metadata": {},
     "output_type": "display_data"
    },
    {
     "data": {
      "text/plain": [
       "[1, 2, 7, 8]"
      ]
     },
     "metadata": {},
     "output_type": "display_data"
    },
    {
     "data": {
      "text/plain": [
       "[9, 7, 6, 2, 1]"
      ]
     },
     "metadata": {},
     "output_type": "display_data"
    },
    {
     "data": {
      "text/plain": [
       "'min_diff: 1, max_diff: 4'"
      ]
     },
     "metadata": {},
     "output_type": "display_data"
    },
    {
     "data": {
      "text/plain": [
       "'increases: 0, decreases: 4'"
      ]
     },
     "metadata": {},
     "output_type": "display_data"
    },
    {
     "data": {
      "text/plain": [
       "[7, 6, 2, 1]"
      ]
     },
     "metadata": {},
     "output_type": "display_data"
    },
    {
     "data": {
      "text/plain": [
       "[9, 6, 2, 1]"
      ]
     },
     "metadata": {},
     "output_type": "display_data"
    },
    {
     "data": {
      "text/plain": [
       "[9, 7, 2, 1]"
      ]
     },
     "metadata": {},
     "output_type": "display_data"
    },
    {
     "data": {
      "text/plain": [
       "[9, 7, 6, 1]"
      ]
     },
     "metadata": {},
     "output_type": "display_data"
    },
    {
     "data": {
      "text/plain": [
       "[9, 7, 6, 2]"
      ]
     },
     "metadata": {},
     "output_type": "display_data"
    },
    {
     "data": {
      "text/plain": [
       "[1, 3, 2, 4, 5]"
      ]
     },
     "metadata": {},
     "output_type": "display_data"
    },
    {
     "data": {
      "text/plain": [
       "'min_diff: 1, max_diff: 2'"
      ]
     },
     "metadata": {},
     "output_type": "display_data"
    },
    {
     "data": {
      "text/plain": [
       "'increases: 3, decreases: 1'"
      ]
     },
     "metadata": {},
     "output_type": "display_data"
    },
    {
     "data": {
      "text/plain": [
       "[3, 2, 4, 5]"
      ]
     },
     "metadata": {},
     "output_type": "display_data"
    },
    {
     "data": {
      "text/plain": [
       "[1, 2, 4, 5]"
      ]
     },
     "metadata": {},
     "output_type": "display_data"
    },
    {
     "data": {
      "text/plain": [
       "[8, 6, 4, 4, 1]"
      ]
     },
     "metadata": {},
     "output_type": "display_data"
    },
    {
     "data": {
      "text/plain": [
       "'min_diff: 0, max_diff: 3'"
      ]
     },
     "metadata": {},
     "output_type": "display_data"
    },
    {
     "data": {
      "text/plain": [
       "'increases: 0, decreases: 3'"
      ]
     },
     "metadata": {},
     "output_type": "display_data"
    },
    {
     "data": {
      "text/plain": [
       "[6, 4, 4, 1]"
      ]
     },
     "metadata": {},
     "output_type": "display_data"
    },
    {
     "data": {
      "text/plain": [
       "[8, 4, 4, 1]"
      ]
     },
     "metadata": {},
     "output_type": "display_data"
    },
    {
     "data": {
      "text/plain": [
       "[8, 6, 4, 1]"
      ]
     },
     "metadata": {},
     "output_type": "display_data"
    },
    {
     "data": {
      "text/plain": [
       "[1, 3, 6, 7, 9]"
      ]
     },
     "metadata": {},
     "output_type": "display_data"
    },
    {
     "data": {
      "text/plain": [
       "'min_diff: 1, max_diff: 3'"
      ]
     },
     "metadata": {},
     "output_type": "display_data"
    },
    {
     "data": {
      "text/plain": [
       "'increases: 4, decreases: 0'"
      ]
     },
     "metadata": {},
     "output_type": "display_data"
    },
    {
     "data": {
      "text/plain": [
       "'line is safe'"
      ]
     },
     "metadata": {},
     "output_type": "display_data"
    },
    {
     "data": {
      "text/plain": [
       "4"
      ]
     },
     "metadata": {},
     "output_type": "display_data"
    }
   ],
   "source": [
    "# test case (part 2)\n",
    "def line_safe(line: list, debug: bool) -> bool:\n",
    "    diffs = []\n",
    "    abs_diffs = []\n",
    "    pairs = []\n",
    "    increases = 0\n",
    "    decreases = 0\n",
    "\n",
    "    # split into pairs\n",
    "    for i in range(len(line) - 1):\n",
    "        pairs.append((line[i], line[i + 1]))\n",
    "    # calculate differences\n",
    "    for pair in pairs:\n",
    "        diffs.append(pair[1] - pair[0])\n",
    "        abs_diffs.append(abs(pair[1] - pair[0]))\n",
    "\n",
    "    min_diff = min(abs_diffs)\n",
    "    max_diff = max(abs_diffs)\n",
    "\n",
    "    # if any of the diffs are greater than 2, it's unsafe\n",
    "    for diff in diffs:\n",
    "        if diff > 0:\n",
    "            increases += 1\n",
    "        elif diff < 0:\n",
    "            decreases += 1\n",
    "\n",
    "    if debug:\n",
    "        display(f\"min_diff: {min_diff}, max_diff: {max_diff}\")\n",
    "        display(f\"increases: {increases}, decreases: {decreases}\")\n",
    "\n",
    "    # it's a mix of increases and decreases, it's unsafe\n",
    "    if increases > 0 and decreases > 0:\n",
    "        return False\n",
    "\n",
    "    if min_diff < 1 or max_diff > 3:\n",
    "        return False\n",
    "\n",
    "    return True\n",
    "\n",
    "\n",
    "def part_2(input: InputReader, debug: bool) -> int:\n",
    "    lines = input.lines_as_ints()\n",
    "    safes = 0\n",
    "\n",
    "    for line in lines:\n",
    "        if debug:\n",
    "            display(line)\n",
    "\n",
    "        if line_safe(line, debug):\n",
    "            safes += 1\n",
    "            if debug:\n",
    "                display(\"line is safe\")\n",
    "            continue\n",
    "\n",
    "        # try removing one element at a time\n",
    "        for i in range(len(line)):\n",
    "            new_line = line.copy()\n",
    "            new_line.pop(i)\n",
    "            if debug:\n",
    "                display(new_line)\n",
    "            if line_safe(new_line, False):\n",
    "                safes += 1\n",
    "                break\n",
    "\n",
    "    return safes\n",
    "\n",
    "\n",
    "result = part_2(puzzle.example(0), True)\n",
    "display(result)\n",
    "assert result == 4"
   ]
  },
  {
   "cell_type": "code",
   "execution_count": 6,
   "id": "57c071f7c6d2914",
   "metadata": {
    "ExecuteTime": {
     "end_time": "2024-12-23T12:17:34.454038Z",
     "start_time": "2024-12-23T12:17:34.445783Z"
    },
    "execution": {
     "iopub.execute_input": "2024-12-23T12:53:49.697128Z",
     "iopub.status.busy": "2024-12-23T12:53:49.697011Z",
     "iopub.status.idle": "2024-12-23T12:53:49.704350Z",
     "shell.execute_reply": "2024-12-23T12:53:49.704099Z"
    }
   },
   "outputs": [
    {
     "data": {
      "text/plain": [
       "569"
      ]
     },
     "metadata": {},
     "output_type": "display_data"
    }
   ],
   "source": [
    "# real case (part 2)\n",
    "result = part_2(puzzle.input(), False)\n",
    "display(result)\n",
    "assert result == 569"
   ]
  },
  {
   "cell_type": "code",
   "execution_count": null,
   "id": "6c883b51d0037a51",
   "metadata": {
    "ExecuteTime": {
     "end_time": "2024-12-23T12:17:34.463106Z",
     "start_time": "2024-12-23T12:17:34.461755Z"
    }
   },
   "outputs": [],
   "source": []
  }
 ],
 "metadata": {
  "kernelspec": {
   "display_name": "Python 3",
   "language": "python",
   "name": "python3"
  },
  "language_info": {
   "codemirror_mode": {
    "name": "ipython",
    "version": 3
   },
   "file_extension": ".py",
   "mimetype": "text/x-python",
   "name": "python",
   "nbconvert_exporter": "python",
   "pygments_lexer": "ipython3",
   "version": "3.13.0"
  }
 },
 "nbformat": 4,
 "nbformat_minor": 5
}
