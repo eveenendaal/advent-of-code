{
 "cells": [
  {
   "cell_type": "code",
   "execution_count": 1,
   "id": "dec75b3898d7314f",
   "metadata": {
    "ExecuteTime": {
     "end_time": "2024-12-23T12:21:56.401775Z",
     "start_time": "2024-12-23T12:21:56.291330Z"
    },
    "execution": {
     "iopub.execute_input": "2024-12-23T12:53:58.696574Z",
     "iopub.status.busy": "2024-12-23T12:53:58.696482Z",
     "iopub.status.idle": "2024-12-23T12:53:58.826169Z",
     "shell.execute_reply": "2024-12-23T12:53:58.825874Z"
    }
   },
   "outputs": [
    {
     "data": {
      "text/markdown": [
       "# Guard Gallivant"
      ],
      "text/plain": [
       "<IPython.core.display.Markdown object>"
      ]
     },
     "metadata": {},
     "output_type": "display_data"
    },
    {
     "data": {
      "text/markdown": [
       "[Open Website](https://adventofcode.com/2024/day/6)"
      ],
      "text/plain": [
       "<IPython.core.display.Markdown object>"
      ]
     },
     "metadata": {},
     "output_type": "display_data"
    }
   ],
   "source": [
    "from common.inputreader import InputReader, PuzzleWrapper\n",
    "from common.matrix import Direction, MatrixNavigator\n",
    "\n",
    "puzzle = PuzzleWrapper(year=2024, day=int(\"06\"))\n",
    "\n",
    "puzzle.header()\n",
    "\n",
    "direction_char_map = {\n",
    "    Direction.UP: \"^\",\n",
    "    Direction.DOWN: \"v\",\n",
    "    Direction.LEFT: \"<\",\n",
    "    Direction.RIGHT: \">\"\n",
    "}"
   ]
  },
  {
   "cell_type": "code",
   "execution_count": 2,
   "id": "cc7e10c1b99f01ce",
   "metadata": {
    "ExecuteTime": {
     "end_time": "2024-12-23T12:22:00.999678Z",
     "start_time": "2024-12-23T12:22:00.984762Z"
    },
    "execution": {
     "iopub.execute_input": "2024-12-23T12:53:58.827570Z",
     "iopub.status.busy": "2024-12-23T12:53:58.827441Z",
     "iopub.status.idle": "2024-12-23T12:53:58.831411Z",
     "shell.execute_reply": "2024-12-23T12:53:58.831120Z"
    }
   },
   "outputs": [
    {
     "data": {
      "text/markdown": [
       "## Easter Eggs"
      ],
      "text/plain": [
       "<IPython.core.display.Markdown object>"
      ]
     },
     "metadata": {},
     "output_type": "display_data"
    },
    {
     "data": {
      "text/markdown": [
       "<span title=\"This vulnerability was later fixed by having the guard always turn left instead.\"><em>stuck in a loop</em></span> (This vulnerability was later fixed by having the guard always turn left instead.)"
      ],
      "text/plain": [
       "<IPython.core.display.Markdown object>"
      ]
     },
     "metadata": {},
     "output_type": "display_data"
    }
   ],
   "source": [
    "puzzle.print_easter_eggs()"
   ]
  },
  {
   "cell_type": "code",
   "execution_count": 3,
   "id": "6d23892a17117fed",
   "metadata": {
    "ExecuteTime": {
     "end_time": "2024-12-23T12:22:23.829214Z",
     "start_time": "2024-12-23T12:22:23.790157Z"
    },
    "execution": {
     "iopub.execute_input": "2024-12-23T12:53:58.832723Z",
     "iopub.status.busy": "2024-12-23T12:53:58.832632Z",
     "iopub.status.idle": "2024-12-23T12:53:58.855364Z",
     "shell.execute_reply": "2024-12-23T12:53:58.855061Z"
    }
   },
   "outputs": [],
   "source": [
    "# test case (part 1)\n",
    "def part_1(input: InputReader, debug: bool) -> int:\n",
    "    matrix = input.matrix()\n",
    "\n",
    "    def find_guard() -> (MatrixNavigator, Direction):\n",
    "        for x, y, value in matrix:\n",
    "            for direction, char in direction_char_map.items():\n",
    "                if value == char:\n",
    "                    return MatrixNavigator(matrix, x, y), direction\n",
    "        return None, None\n",
    "\n",
    "    pointer, direction = find_guard()\n",
    "    positions = set()\n",
    "\n",
    "    while True:\n",
    "        positions.add(pointer.current_position)\n",
    "\n",
    "        if debug:\n",
    "            # matrix.print()\n",
    "            display(f\"x,y={pointer.current_position}, direction={direction_char_map[direction]}\")\n",
    "\n",
    "        ok, value = pointer.peek_value(direction)\n",
    "        if not ok:\n",
    "            # leaving the matrix\n",
    "            break\n",
    "\n",
    "        if value == \"#\":\n",
    "            # turn right\n",
    "            if direction == Direction.UP:\n",
    "                direction = Direction.RIGHT\n",
    "            elif direction == Direction.RIGHT:\n",
    "                direction = Direction.DOWN\n",
    "            elif direction == Direction.DOWN:\n",
    "                direction = Direction.LEFT\n",
    "            elif direction == Direction.LEFT:\n",
    "                direction = Direction.UP\n",
    "        else:\n",
    "            pointer.set_value(\".\")\n",
    "            pointer.move(direction)\n",
    "            pointer.set_value(direction_char_map[direction])\n",
    "\n",
    "    return len(positions)\n",
    "\n",
    "\n",
    "result = part_1(puzzle.example(0), False)\n",
    "assert result == 41"
   ]
  },
  {
   "cell_type": "code",
   "execution_count": 4,
   "id": "66cab898e4711d42",
   "metadata": {
    "ExecuteTime": {
     "end_time": "2024-12-23T12:22:43.702918Z",
     "start_time": "2024-12-23T12:22:43.675987Z"
    },
    "execution": {
     "iopub.execute_input": "2024-12-23T12:53:58.856875Z",
     "iopub.status.busy": "2024-12-23T12:53:58.856778Z",
     "iopub.status.idle": "2024-12-23T12:53:58.871559Z",
     "shell.execute_reply": "2024-12-23T12:53:58.871296Z"
    }
   },
   "outputs": [
    {
     "data": {
      "text/plain": [
       "5409"
      ]
     },
     "metadata": {},
     "output_type": "display_data"
    }
   ],
   "source": [
    "# real case (part 1)\n",
    "result = part_1(puzzle.input(), False)\n",
    "display(result)\n",
    "assert result == 5409"
   ]
  },
  {
   "cell_type": "code",
   "execution_count": 5,
   "id": "d2277c7db8ea0a5e",
   "metadata": {
    "ExecuteTime": {
     "end_time": "2024-12-23T12:23:03.567223Z",
     "start_time": "2024-12-23T12:23:03.552659Z"
    },
    "execution": {
     "iopub.execute_input": "2024-12-23T12:53:58.872906Z",
     "iopub.status.busy": "2024-12-23T12:53:58.872815Z",
     "iopub.status.idle": "2024-12-23T12:53:58.881128Z",
     "shell.execute_reply": "2024-12-23T12:53:58.880875Z"
    }
   },
   "outputs": [],
   "source": [
    "# test case (part 2)\n",
    "def part_2(input: InputReader, debug: bool) -> int:\n",
    "    matrix = input.matrix()\n",
    "\n",
    "    def find_guard() -> (MatrixNavigator, Direction):\n",
    "        for next_x, next_y, value in matrix:\n",
    "            for direction, char in direction_char_map.items():\n",
    "                if value == char:\n",
    "                    return MatrixNavigator(matrix, next_x, next_y), direction\n",
    "        return None, None\n",
    "\n",
    "    start_pointer, start_direction = find_guard()\n",
    "\n",
    "    def run_simulation(pointer, direction) -> (bool, set):\n",
    "        positions = set()\n",
    "        history = set()\n",
    "        limit = 10000\n",
    "\n",
    "        while limit > 0:\n",
    "            limit -= 1\n",
    "            positions.add(pointer.current_position)\n",
    "            x, y = pointer.current_position\n",
    "            vector = (x, y, direction)\n",
    "            if vector in history:\n",
    "                return True, positions\n",
    "            history.add(vector)\n",
    "\n",
    "            if debug:\n",
    "                # matrix.print()\n",
    "                display(f\"x,y={pointer.current_position}, direction={direction_char_map[direction]}\")\n",
    "\n",
    "            ok, value = pointer.peek_value(direction)\n",
    "            if not ok:\n",
    "                return False, positions\n",
    "\n",
    "            if value == \"#\":\n",
    "                # turn right\n",
    "                if direction == Direction.UP:\n",
    "                    direction = Direction.RIGHT\n",
    "                elif direction == Direction.RIGHT:\n",
    "                    direction = Direction.DOWN\n",
    "                elif direction == Direction.DOWN:\n",
    "                    direction = Direction.LEFT\n",
    "                elif direction == Direction.LEFT:\n",
    "                    direction = Direction.UP\n",
    "            else:\n",
    "                pointer.set_value(\".\")\n",
    "                pointer.move(direction)\n",
    "                pointer.set_value(direction_char_map[direction])\n",
    "\n",
    "        # throw error if the limit is reached\n",
    "        raise Exception(\"Limit reached\")\n",
    "\n",
    "    # run initial simulation\n",
    "    start_x, start_y = start_pointer.current_position\n",
    "    _, locations = run_simulation(MatrixNavigator(matrix, start_x, start_y), start_direction)\n",
    "    looping_positions = 0\n",
    "    # remove the starting position\n",
    "    locations.remove((start_x, start_y))\n",
    "\n",
    "    # loop over every position except the starting one\n",
    "    for x, y in list(locations):\n",
    "        # copy matrix\n",
    "        new_matrix = matrix.copy()\n",
    "\n",
    "        # modify the new matrix putting a wall at the next position\n",
    "        new_matrix.set_value(x, y, \"#\")\n",
    "\n",
    "        # run simulation\n",
    "        try:\n",
    "            is_loop, new_positions = run_simulation(MatrixNavigator(new_matrix, start_x, start_y), start_direction)\n",
    "        except Exception as e:\n",
    "            raise e\n",
    "\n",
    "        # if it's a loop add that to the looping positions\n",
    "        if is_loop:\n",
    "            looping_positions += 1\n",
    "\n",
    "    return looping_positions\n",
    "\n",
    "\n",
    "result = part_2(puzzle.example(0), False)\n",
    "assert result == 6"
   ]
  },
  {
   "cell_type": "code",
   "execution_count": 6,
   "id": "57c071f7c6d2914",
   "metadata": {
    "ExecuteTime": {
     "end_time": "2024-12-23T12:23:43.045640Z",
     "start_time": "2024-12-23T12:23:05.303100Z"
    },
    "execution": {
     "iopub.execute_input": "2024-12-23T12:53:58.882457Z",
     "iopub.status.busy": "2024-12-23T12:53:58.882340Z",
     "iopub.status.idle": "2024-12-23T12:54:37.497448Z",
     "shell.execute_reply": "2024-12-23T12:54:37.497147Z"
    }
   },
   "outputs": [
    {
     "data": {
      "text/plain": [
       "2022"
      ]
     },
     "metadata": {},
     "output_type": "display_data"
    }
   ],
   "source": [
    "# real case (part 2)\n",
    "result = part_2(puzzle.input(), False)\n",
    "display(result)\n",
    "assert result == 2022"
   ]
  },
  {
   "cell_type": "code",
   "execution_count": null,
   "id": "d41d57b11165243f",
   "metadata": {
    "ExecuteTime": {
     "end_time": "2024-12-06T09:03:57.236479Z",
     "start_time": "2024-12-06T09:03:57.234669Z"
    }
   },
   "outputs": [],
   "source": []
  }
 ],
 "metadata": {
  "kernelspec": {
   "display_name": "Python 3",
   "language": "python",
   "name": "python3"
  },
  "language_info": {
   "codemirror_mode": {
    "name": "ipython",
    "version": 3
   },
   "file_extension": ".py",
   "mimetype": "text/x-python",
   "name": "python",
   "nbconvert_exporter": "python",
   "pygments_lexer": "ipython3",
   "version": "3.13.0"
  }
 },
 "nbformat": 4,
 "nbformat_minor": 5
}
