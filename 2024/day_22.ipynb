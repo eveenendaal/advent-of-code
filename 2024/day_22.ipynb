{
 "cells": [
  {
   "cell_type": "code",
   "execution_count": 1,
   "id": "dec75b3898d7314f",
   "metadata": {
    "ExecuteTime": {
     "end_time": "2024-12-22T12:23:10.930580Z",
     "start_time": "2024-12-22T12:23:10.917097Z"
    },
    "execution": {
     "iopub.execute_input": "2024-12-23T13:07:56.131431Z",
     "iopub.status.busy": "2024-12-23T13:07:56.131166Z",
     "iopub.status.idle": "2024-12-23T13:07:56.726712Z",
     "shell.execute_reply": "2024-12-23T13:07:56.726212Z"
    }
   },
   "outputs": [
    {
     "data": {
      "text/markdown": [
       "# Monkey Market"
      ],
      "text/plain": [
       "<IPython.core.display.Markdown object>"
      ]
     },
     "metadata": {},
     "output_type": "display_data"
    },
    {
     "data": {
      "text/markdown": [
       "[Open Website](https://adventofcode.com/2024/day/22)"
      ],
      "text/plain": [
       "<IPython.core.display.Markdown object>"
      ]
     },
     "metadata": {},
     "output_type": "display_data"
    }
   ],
   "source": [
    "from typing import Any\n",
    "\n",
    "from common.inputreader import InputReader, PuzzleWrapper\n",
    "\n",
    "puzzle = PuzzleWrapper(year=2024, day=int(\"22\"))\n",
    "\n",
    "puzzle.header()"
   ]
  },
  {
   "cell_type": "code",
   "execution_count": 2,
   "id": "34dd2d43c40af29b",
   "metadata": {
    "ExecuteTime": {
     "end_time": "2024-12-22T12:23:10.943758Z",
     "start_time": "2024-12-22T12:23:10.937807Z"
    },
    "execution": {
     "iopub.execute_input": "2024-12-23T13:07:56.737530Z",
     "iopub.status.busy": "2024-12-23T13:07:56.737291Z",
     "iopub.status.idle": "2024-12-23T13:07:56.742394Z",
     "shell.execute_reply": "2024-12-23T13:07:56.741609Z"
    }
   },
   "outputs": [],
   "source": [
    "# helper functions\n",
    "def domain_from_input(input: InputReader) -> list:\n",
    "    lines = input.lines_as_int()\n",
    "\n",
    "    return lines\n",
    "\n",
    "\n",
    "def mix_and_prune(secret: int, result: int) -> int:\n",
    "    # Mix the value into the secret number\n",
    "    mixed = secret ^ result\n",
    "    # Prune the secret number\n",
    "    return mixed % 16777216\n",
    "\n",
    "\n",
    "result = mix_and_prune(15, 42)\n",
    "assert result == 37\n",
    "\n",
    "result = mix_and_prune(16777216, 100000000)\n",
    "assert result == 16113920\n",
    "\n",
    "\n",
    "def forward(secret: int) -> int:\n",
    "    # Step 1: Multiply by 64\n",
    "    secret = mix_and_prune(secret, secret * 64)\n",
    "\n",
    "    # Step 2: Divide by 32 and round down\n",
    "    secret = mix_and_prune(secret, secret // 32)\n",
    "\n",
    "    # Step 3: Multiply by 2048\n",
    "    secret = mix_and_prune(secret, secret * 2048)\n",
    "\n",
    "    return secret\n",
    "\n",
    "\n",
    "answers = [\n",
    "    15887950,\n",
    "    16495136,\n",
    "    527345,\n",
    "    704524,\n",
    "    1553684,\n",
    "    12683156,\n",
    "    11100544,\n",
    "    12249484,\n",
    "    7753432,\n",
    "    5908254\n",
    "]\n",
    "\n",
    "start = 123\n",
    "for answer in answers:\n",
    "    start = forward(start)\n",
    "    assert start == answer\n"
   ]
  },
  {
   "cell_type": "code",
   "execution_count": 3,
   "id": "6d23892a17117fed",
   "metadata": {
    "ExecuteTime": {
     "end_time": "2024-12-22T12:23:10.977124Z",
     "start_time": "2024-12-22T12:23:10.953491Z"
    },
    "execution": {
     "iopub.execute_input": "2024-12-23T13:07:56.749481Z",
     "iopub.status.busy": "2024-12-23T13:07:56.748881Z",
     "iopub.status.idle": "2024-12-23T13:07:56.762810Z",
     "shell.execute_reply": "2024-12-23T13:07:56.762495Z"
    }
   },
   "outputs": [
    {
     "data": {
      "text/plain": [
       "[1, 10, 100, 2024]"
      ]
     },
     "metadata": {},
     "output_type": "display_data"
    },
    {
     "data": {
      "text/plain": [
       "[8685429, 4700978, 15273692, 8667524]"
      ]
     },
     "metadata": {},
     "output_type": "display_data"
    },
    {
     "data": {
      "text/plain": [
       "37327623"
      ]
     },
     "metadata": {},
     "output_type": "display_data"
    }
   ],
   "source": [
    "# test case (part 1)\n",
    "def part_1(reader: InputReader, debug: bool) -> int:\n",
    "    starts = domain_from_input(reader)\n",
    "\n",
    "    if debug:\n",
    "        display(starts)\n",
    "\n",
    "    for i in range(2000):\n",
    "        starts = [forward(s) for s in starts]\n",
    "\n",
    "    if debug:\n",
    "        display(starts)\n",
    "\n",
    "    return sum(starts)\n",
    "\n",
    "\n",
    "result = part_1(puzzle.get_code_block(1, 10), True)\n",
    "display(result)\n",
    "assert result == 37327623"
   ]
  },
  {
   "cell_type": "code",
   "execution_count": 4,
   "id": "66cab898e4711d42",
   "metadata": {
    "ExecuteTime": {
     "end_time": "2024-12-22T12:23:16.784832Z",
     "start_time": "2024-12-22T12:23:10.985284Z"
    },
    "execution": {
     "iopub.execute_input": "2024-12-23T13:07:56.764713Z",
     "iopub.status.busy": "2024-12-23T13:07:56.764526Z",
     "iopub.status.idle": "2024-12-23T13:07:58.498561Z",
     "shell.execute_reply": "2024-12-23T13:07:58.497961Z"
    }
   },
   "outputs": [
    {
     "name": "stdout",
     "output_type": "stream",
     "text": [
      "21147129593\n"
     ]
    }
   ],
   "source": [
    "# real case (part 1)\n",
    "result = part_1(puzzle.input(), False)\n",
    "print(result)\n",
    "assert result == 21147129593"
   ]
  },
  {
   "cell_type": "code",
   "execution_count": 5,
   "id": "d2277c7db8ea0a5e",
   "metadata": {
    "ExecuteTime": {
     "end_time": "2024-12-22T12:25:03.610753Z",
     "start_time": "2024-12-22T12:23:16.791427Z"
    },
    "execution": {
     "iopub.execute_input": "2024-12-23T13:07:58.502946Z",
     "iopub.status.busy": "2024-12-23T13:07:58.502586Z",
     "iopub.status.idle": "2024-12-23T13:07:58.511091Z",
     "shell.execute_reply": "2024-12-23T13:07:58.510423Z"
    }
   },
   "outputs": [
    {
     "name": "stdout",
     "output_type": "stream",
     "text": [
      "Found target at 1963\n",
      "Price: 7\n"
     ]
    }
   ],
   "source": [
    "from functools import cache\n",
    "\n",
    "\n",
    "# test case (part 2)\n",
    "@cache\n",
    "def forward_2(secret: int) -> tuple:\n",
    "    last_digit = secret % 10\n",
    "    secret = forward(secret)\n",
    "    next_digit = secret % 10\n",
    "    diff = next_digit - last_digit\n",
    "    return (secret, next_digit, diff)\n",
    "\n",
    "\n",
    "answers = [-3, 6, -1, -1, 0, 2, -2, 0, -2]\n",
    "\n",
    "start = 123\n",
    "for i in range(9):\n",
    "    start, price, diff = forward_2(start)\n",
    "    assert diff == answers[i]\n",
    "\n",
    "start = 1\n",
    "target = [-2, 1, -1, 3]\n",
    "history = []\n",
    "for i in range(2000):\n",
    "    start, price, diff = forward_2(start)\n",
    "    history.append(diff)\n",
    "    # is history equals target\n",
    "    if history[-4::] == target:\n",
    "        print(f\"Found target at {i}\")\n",
    "        print(f\"Price: {price}\")\n",
    "        assert price == 7\n",
    "\n",
    "    # history is larger than 4, then remove front\n",
    "    if len(history) > 4:\n",
    "        history.pop(0)\n"
   ]
  },
  {
   "cell_type": "code",
   "execution_count": 6,
   "id": "c664357e",
   "metadata": {
    "ExecuteTime": {
     "end_time": "2024-12-22T13:58:43.462718Z",
     "start_time": "2024-12-22T13:58:24.618551Z"
    },
    "execution": {
     "iopub.execute_input": "2024-12-23T13:07:58.513935Z",
     "iopub.status.busy": "2024-12-23T13:07:58.513671Z",
     "iopub.status.idle": "2024-12-23T13:08:09.621961Z",
     "shell.execute_reply": "2024-12-23T13:08:09.620945Z"
    }
   },
   "outputs": [
    {
     "data": {
      "text/plain": [
       "[1, 2, 3, 2024]"
      ]
     },
     "metadata": {},
     "output_type": "display_data"
    },
    {
     "name": "stdout",
     "output_type": "stream",
     "text": [
      "Checking 3\n",
      "New max: 15\n",
      "New max: 20\n",
      "New max: 21\n",
      "New max: 22\n",
      "New max: 23\n",
      "Checking 2\n"
     ]
    },
    {
     "name": "stdout",
     "output_type": "stream",
     "text": [
      "Checking 1\n"
     ]
    },
    {
     "data": {
      "text/plain": [
       "23"
      ]
     },
     "metadata": {},
     "output_type": "display_data"
    }
   ],
   "source": [
    "def part_2(reader: InputReader, debug: bool) -> int:\n",
    "    starts = domain_from_input(reader)\n",
    "\n",
    "    if debug:\n",
    "        display(starts)\n",
    "\n",
    "    def find_price(start: int, target: list) -> int | None:\n",
    "        # get the history of the start\n",
    "        hist = history[start]\n",
    "        # find the target in the history\n",
    "        for i in range(len(hist) - 4):\n",
    "            subset = hist[i:i + 4]\n",
    "            diffs = [x[1] for x in subset]\n",
    "            if diffs == target:\n",
    "                return subset[-1][0]\n",
    "        return None\n",
    "\n",
    "    history = dict()\n",
    "    queue = dict()\n",
    "    # build dictionary for history of each start\n",
    "    for start in starts:\n",
    "        next, price, diff = forward_2(start)\n",
    "        history[start] = [(price, diff)]\n",
    "        queue[start] = next\n",
    "\n",
    "    for start in history.keys():\n",
    "        for _ in range(2000):\n",
    "            last = queue[start]\n",
    "            next, price, diff = forward_2(last)\n",
    "            history[start].append((price, diff))\n",
    "            queue[start] = next\n",
    "\n",
    "    # build diff histories\n",
    "    diff_histories = dict()\n",
    "    for start in history.keys():\n",
    "        diff_histories[start] = [x[1] for x in history[start]]\n",
    "\n",
    "    def unique_series_of_4(history: list) -> set:\n",
    "        series = set()\n",
    "        for i in range(len(history) - 4):\n",
    "            next = history[i:i + 4]\n",
    "            next = [str(x) for x in next]\n",
    "            series.add(\",\".join(next))\n",
    "        return series\n",
    "\n",
    "    def find_common_series(history: dict) -> dict:\n",
    "        patterns = {}\n",
    "        for start in history.keys():\n",
    "            for next in unique_series_of_4(history[start]):\n",
    "                if next in patterns:\n",
    "                    patterns[next] += 1\n",
    "                else:\n",
    "                    patterns[next] = 1\n",
    "        return patterns\n",
    "\n",
    "    common = find_common_series(diff_histories)\n",
    "    candidates = {}\n",
    "    for pattern, count in common.items():\n",
    "        if count in candidates:\n",
    "            candidates[count].append(pattern)\n",
    "        else:\n",
    "            candidates[count] = [pattern]\n",
    "\n",
    "    keys = list(candidates.keys())\n",
    "    keys.sort(reverse=True)\n",
    "    keys = keys[:20]\n",
    "\n",
    "    max = 0\n",
    "    for key in keys:\n",
    "        print(f\"Checking {key}\")\n",
    "        sets = candidates[key]\n",
    "        for target in sets:\n",
    "            target = [int(x) for x in target.split(\",\")]\n",
    "            total = 0\n",
    "            for start in history.keys():\n",
    "                price = find_price(start, target)\n",
    "                if price:\n",
    "                    total += price\n",
    "            if total > max:\n",
    "                max = total\n",
    "                if debug:\n",
    "                    print(f\"New max: {max}\")\n",
    "\n",
    "    return max\n",
    "\n",
    "\n",
    "result = part_2(InputReader(\"1\\n2\\n3\\n2024\"), True)\n",
    "display(result)\n",
    "assert result == 23"
   ]
  },
  {
   "cell_type": "code",
   "execution_count": 7,
   "id": "57c071f7c6d2914",
   "metadata": {
    "ExecuteTime": {
     "end_time": "2024-12-22T13:58:22.806183Z",
     "start_time": "2024-12-22T12:26:04.773626Z"
    },
    "execution": {
     "iopub.execute_input": "2024-12-23T13:08:09.628196Z",
     "iopub.status.busy": "2024-12-23T13:08:09.627018Z",
     "iopub.status.idle": "2024-12-23T13:08:43.801276Z",
     "shell.execute_reply": "2024-12-23T13:08:43.800598Z"
    }
   },
   "outputs": [
    {
     "name": "stdout",
     "output_type": "stream",
     "text": [
      "Checking 454\n"
     ]
    },
    {
     "name": "stdout",
     "output_type": "stream",
     "text": [
      "Checking 443\n"
     ]
    },
    {
     "name": "stdout",
     "output_type": "stream",
     "text": [
      "Checking 436\n"
     ]
    },
    {
     "name": "stdout",
     "output_type": "stream",
     "text": [
      "Checking 430\n"
     ]
    },
    {
     "name": "stdout",
     "output_type": "stream",
     "text": [
      "Checking 429\n"
     ]
    },
    {
     "name": "stdout",
     "output_type": "stream",
     "text": [
      "Checking 428\n"
     ]
    },
    {
     "name": "stdout",
     "output_type": "stream",
     "text": [
      "Checking 426\n"
     ]
    },
    {
     "name": "stdout",
     "output_type": "stream",
     "text": [
      "Checking 423\n"
     ]
    },
    {
     "name": "stdout",
     "output_type": "stream",
     "text": [
      "Checking 421\n"
     ]
    },
    {
     "name": "stdout",
     "output_type": "stream",
     "text": [
      "Checking 420\n"
     ]
    },
    {
     "name": "stdout",
     "output_type": "stream",
     "text": [
      "Checking 419\n"
     ]
    },
    {
     "name": "stdout",
     "output_type": "stream",
     "text": [
      "Checking 416\n"
     ]
    },
    {
     "name": "stdout",
     "output_type": "stream",
     "text": [
      "Checking 415\n"
     ]
    },
    {
     "name": "stdout",
     "output_type": "stream",
     "text": [
      "Checking 414\n"
     ]
    },
    {
     "name": "stdout",
     "output_type": "stream",
     "text": [
      "Checking 411\n"
     ]
    },
    {
     "name": "stdout",
     "output_type": "stream",
     "text": [
      "Checking 408\n"
     ]
    },
    {
     "name": "stdout",
     "output_type": "stream",
     "text": [
      "Checking 407\n"
     ]
    },
    {
     "name": "stdout",
     "output_type": "stream",
     "text": [
      "Checking 406\n"
     ]
    },
    {
     "name": "stdout",
     "output_type": "stream",
     "text": [
      "Checking 405\n"
     ]
    },
    {
     "name": "stdout",
     "output_type": "stream",
     "text": [
      "Checking 404\n"
     ]
    },
    {
     "data": {
      "text/plain": [
       "2445"
      ]
     },
     "metadata": {},
     "output_type": "display_data"
    }
   ],
   "source": [
    "# real case (part 2)\n",
    "result = part_2(puzzle.input(), False)\n",
    "display(result)\n",
    "assert result == 2445"
   ]
  },
  {
   "cell_type": "code",
   "execution_count": 8,
   "id": "44e329cbb6ad2400",
   "metadata": {
    "ExecuteTime": {
     "end_time": "2024-12-22T13:58:50.208676Z",
     "start_time": "2024-12-22T13:58:50.201363Z"
    },
    "execution": {
     "iopub.execute_input": "2024-12-23T13:08:43.804005Z",
     "iopub.status.busy": "2024-12-23T13:08:43.803698Z",
     "iopub.status.idle": "2024-12-23T13:08:43.809584Z",
     "shell.execute_reply": "2024-12-23T13:08:43.809361Z"
    }
   },
   "outputs": [
    {
     "data": {
      "text/markdown": [
       "## Easter Eggs"
      ],
      "text/plain": [
       "<IPython.core.display.Markdown object>"
      ]
     },
     "metadata": {},
     "output_type": "display_data"
    },
    {
     "data": {
      "text/markdown": [
       "<span title=\"Some might say it would be... bananas.\">ridiculous</span> (Some might say it would be... bananas.)"
      ],
      "text/plain": [
       "<IPython.core.display.Markdown object>"
      ]
     },
     "metadata": {},
     "output_type": "display_data"
    }
   ],
   "source": [
    "# print easters eggs\n",
    "puzzle.print_easter_eggs()"
   ]
  },
  {
   "cell_type": "code",
   "execution_count": null,
   "id": "743c0ef0ad226583",
   "metadata": {},
   "outputs": [],
   "source": []
  }
 ],
 "metadata": {
  "kernelspec": {
   "display_name": "Python 3",
   "language": "python",
   "name": "python3"
  },
  "language_info": {
   "codemirror_mode": {
    "name": "ipython",
    "version": 3
   },
   "file_extension": ".py",
   "mimetype": "text/x-python",
   "name": "python",
   "nbconvert_exporter": "python",
   "pygments_lexer": "ipython3",
   "version": "3.13.0"
  }
 },
 "nbformat": 4,
 "nbformat_minor": 5
}
