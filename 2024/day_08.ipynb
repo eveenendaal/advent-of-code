{
 "cells": [
  {
   "cell_type": "code",
   "execution_count": 1,
   "id": "dec75b3898d7314f",
   "metadata": {
    "ExecuteTime": {
     "end_time": "2024-12-23T12:24:32.560294Z",
     "start_time": "2024-12-23T12:24:32.157171Z"
    },
    "execution": {
     "iopub.execute_input": "2024-12-23T12:54:55.867215Z",
     "iopub.status.busy": "2024-12-23T12:54:55.867084Z",
     "iopub.status.idle": "2024-12-23T12:54:56.041537Z",
     "shell.execute_reply": "2024-12-23T12:54:56.040966Z"
    }
   },
   "outputs": [
    {
     "data": {
      "text/markdown": [
       "# Resonant Collinearity"
      ],
      "text/plain": [
       "<IPython.core.display.Markdown object>"
      ]
     },
     "metadata": {},
     "output_type": "display_data"
    },
    {
     "data": {
      "text/markdown": [
       "[Open Website](https://adventofcode.com/2024/day/8)"
      ],
      "text/plain": [
       "<IPython.core.display.Markdown object>"
      ]
     },
     "metadata": {},
     "output_type": "display_data"
    }
   ],
   "source": [
    "from common.inputreader import InputReader, PuzzleWrapper\n",
    "\n",
    "puzzle = PuzzleWrapper(year=2024, day=int(\"08\"))\n",
    "\n",
    "puzzle.header()"
   ]
  },
  {
   "cell_type": "code",
   "execution_count": 2,
   "id": "6d23892a17117fed",
   "metadata": {
    "ExecuteTime": {
     "end_time": "2024-12-23T12:24:32.594738Z",
     "start_time": "2024-12-23T12:24:32.564590Z"
    },
    "execution": {
     "iopub.execute_input": "2024-12-23T12:54:56.043956Z",
     "iopub.status.busy": "2024-12-23T12:54:56.043816Z",
     "iopub.status.idle": "2024-12-23T12:54:56.070347Z",
     "shell.execute_reply": "2024-12-23T12:54:56.070035Z"
    }
   },
   "outputs": [
    {
     "data": {
      "text/plain": [
       "{'0': [(8, 1), (5, 2), (7, 3), (4, 4)], 'A': [(6, 5), (8, 8), (9, 9)]}"
      ]
     },
     "metadata": {},
     "output_type": "display_data"
    },
    {
     "data": {
      "text/plain": [
       "14"
      ]
     },
     "metadata": {},
     "output_type": "display_data"
    }
   ],
   "source": [
    "# test case (part 1)\n",
    "def domain_from_input(input: InputReader) -> list:\n",
    "    matrix = input.matrix()\n",
    "\n",
    "    return matrix\n",
    "\n",
    "\n",
    "def part_1(reader: InputReader, debug: bool) -> int:\n",
    "    matrix = domain_from_input(reader)\n",
    "\n",
    "    letters = set()\n",
    "    # find all the letters\n",
    "    for x, y, value in matrix:\n",
    "        if value != \".\":\n",
    "            letters.add(value)\n",
    "\n",
    "    # make groups of each letter\n",
    "    groups = {}\n",
    "    for letter in letters:\n",
    "        groups[letter] = []\n",
    "        for x, y, value in matrix:\n",
    "            if value == letter:\n",
    "                groups[letter].append((x, y))\n",
    "\n",
    "    if debug:\n",
    "        display(groups)\n",
    "\n",
    "    antinodes = set()\n",
    "\n",
    "    # iterate over each group\n",
    "    for letter, points in groups.items():\n",
    "        # find every pair of points\n",
    "        pairs = []\n",
    "        for i, point1 in enumerate(points):\n",
    "            for j, point2 in enumerate(points):\n",
    "                if i != j:\n",
    "                    pairs.append((point1, point2))\n",
    "\n",
    "        for pair in pairs:\n",
    "            # calculate delta between points\n",
    "            x1, y1 = pair[0]\n",
    "            x2, y2 = pair[1]\n",
    "            dx = x2 - x1\n",
    "            dy = y2 - y1\n",
    "            # apply delta to end point\n",
    "            x3 = x2 + dx\n",
    "            y3 = y2 + dy\n",
    "            # is the point in the matrix?\n",
    "            if matrix.pos_exists(x3, y3):\n",
    "                antinodes.add((x3, y3))\n",
    "\n",
    "    return len(antinodes)\n",
    "\n",
    "\n",
    "result = part_1(puzzle.example(0), True)\n",
    "display(result)\n",
    "assert result == 14"
   ]
  },
  {
   "cell_type": "code",
   "execution_count": 3,
   "id": "66cab898e4711d42",
   "metadata": {
    "ExecuteTime": {
     "end_time": "2024-12-23T12:24:32.809438Z",
     "start_time": "2024-12-23T12:24:32.708918Z"
    },
    "execution": {
     "iopub.execute_input": "2024-12-23T12:54:56.072013Z",
     "iopub.status.busy": "2024-12-23T12:54:56.071772Z",
     "iopub.status.idle": "2024-12-23T12:54:56.084092Z",
     "shell.execute_reply": "2024-12-23T12:54:56.083832Z"
    }
   },
   "outputs": [
    {
     "data": {
      "text/plain": [
       "228"
      ]
     },
     "metadata": {},
     "output_type": "display_data"
    }
   ],
   "source": [
    "# real case (part 1)\n",
    "result = part_1(puzzle.input(), False)\n",
    "display(result)\n",
    "assert result == 228"
   ]
  },
  {
   "cell_type": "code",
   "execution_count": 4,
   "id": "d2277c7db8ea0a5e",
   "metadata": {
    "ExecuteTime": {
     "end_time": "2024-12-23T12:24:32.821369Z",
     "start_time": "2024-12-23T12:24:32.814233Z"
    },
    "execution": {
     "iopub.execute_input": "2024-12-23T12:54:56.085392Z",
     "iopub.status.busy": "2024-12-23T12:54:56.085303Z",
     "iopub.status.idle": "2024-12-23T12:54:56.090892Z",
     "shell.execute_reply": "2024-12-23T12:54:56.090627Z"
    }
   },
   "outputs": [
    {
     "data": {
      "text/plain": [
       "{'0': [(8, 1), (5, 2), (7, 3), (4, 4)], 'A': [(6, 5), (8, 8), (9, 9)]}"
      ]
     },
     "metadata": {},
     "output_type": "display_data"
    },
    {
     "name": "stdout",
     "output_type": "stream",
     "text": [
      "##....#....#\n",
      ".#.#....#...\n",
      "..#.##....#.\n",
      "..##...#....\n",
      "....#....#..\n",
      ".#...##....#\n",
      "...#..#.....\n",
      "#....#.#....\n",
      "..#.....#...\n",
      "....#....#..\n",
      ".#........#.\n",
      "...#......##\n"
     ]
    },
    {
     "data": {
      "text/plain": [
       "34"
      ]
     },
     "metadata": {},
     "output_type": "display_data"
    }
   ],
   "source": [
    "# test case (part 2)\n",
    "def part_2(reader: InputReader, debug: bool) -> int:\n",
    "    matrix = domain_from_input(reader)\n",
    "\n",
    "    letters = set()\n",
    "    # find all the letters\n",
    "    for x, y, value in matrix:\n",
    "        if value != \".\":\n",
    "            letters.add(value)\n",
    "\n",
    "    # make groups of each letter\n",
    "    groups = {}\n",
    "    for letter in letters:\n",
    "        groups[letter] = []\n",
    "        for x, y, value in matrix:\n",
    "            if value == letter:\n",
    "                groups[letter].append((x, y))\n",
    "\n",
    "    if debug:\n",
    "        display(groups)\n",
    "\n",
    "    antinodes = set()\n",
    "\n",
    "    # iterate over each group\n",
    "    for letter, points in groups.items():\n",
    "        # find every pair of points\n",
    "        pairs = []\n",
    "        for i, point1 in enumerate(points):\n",
    "            antinodes.add(point1)\n",
    "            for j, point2 in enumerate(points):\n",
    "                if i != j:\n",
    "                    pairs.append((point1, point2))\n",
    "\n",
    "        for pair in pairs:\n",
    "            # calculate delta between points\n",
    "            x1, y1 = pair[0]\n",
    "            x2, y2 = pair[1]\n",
    "            dx = x2 - x1\n",
    "            dy = y2 - y1\n",
    "            # apply delta to end point\n",
    "            x3 = x2 + dx\n",
    "            y3 = y2 + dy\n",
    "            # repeat until we hit the edge of the matrix\n",
    "            while matrix.pos_exists(x3, y3):\n",
    "                antinodes.add((x3, y3))\n",
    "                x3 = x3 + dx\n",
    "                y3 = y3 + dy\n",
    "\n",
    "    # print the matrix with the antinodes added\n",
    "    if debug:\n",
    "        for x, y in antinodes:\n",
    "            matrix.set_value(x, y, \"#\")\n",
    "        matrix.print()\n",
    "\n",
    "    return len(antinodes)\n",
    "\n",
    "result = part_2(puzzle.example(0), True)\n",
    "display(result)\n",
    "assert result == 34"
   ]
  },
  {
   "cell_type": "code",
   "execution_count": 5,
   "id": "57c071f7c6d2914",
   "metadata": {
    "ExecuteTime": {
     "end_time": "2024-12-23T12:24:32.838838Z",
     "start_time": "2024-12-23T12:24:32.825862Z"
    },
    "execution": {
     "iopub.execute_input": "2024-12-23T12:54:56.092167Z",
     "iopub.status.busy": "2024-12-23T12:54:56.092040Z",
     "iopub.status.idle": "2024-12-23T12:54:56.100779Z",
     "shell.execute_reply": "2024-12-23T12:54:56.100539Z"
    }
   },
   "outputs": [
    {
     "data": {
      "text/plain": [
       "766"
      ]
     },
     "metadata": {},
     "output_type": "display_data"
    }
   ],
   "source": [
    "# real case (part 2)\n",
    "result = part_2(puzzle.input(), False)\n",
    "display(result)\n",
    "assert result == 766"
   ]
  },
  {
   "cell_type": "code",
   "execution_count": null,
   "id": "392f0fd4ec35a853",
   "metadata": {
    "ExecuteTime": {
     "end_time": "2024-12-23T12:24:32.851138Z",
     "start_time": "2024-12-23T12:24:32.849861Z"
    }
   },
   "outputs": [],
   "source": []
  }
 ],
 "metadata": {
  "kernelspec": {
   "display_name": "Python 3",
   "language": "python",
   "name": "python3"
  },
  "language_info": {
   "codemirror_mode": {
    "name": "ipython",
    "version": 3
   },
   "file_extension": ".py",
   "mimetype": "text/x-python",
   "name": "python",
   "nbconvert_exporter": "python",
   "pygments_lexer": "ipython3",
   "version": "3.13.0"
  }
 },
 "nbformat": 4,
 "nbformat_minor": 5
}
