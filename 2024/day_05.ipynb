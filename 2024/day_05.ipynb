{
 "cells": [
  {
   "cell_type": "code",
   "execution_count": 1,
   "id": "dec75b3898d7314f",
   "metadata": {
    "ExecuteTime": {
     "end_time": "2024-12-23T12:20:59.424643Z",
     "start_time": "2024-12-23T12:20:59.279300Z"
    },
    "execution": {
     "iopub.execute_input": "2024-12-23T12:53:56.176941Z",
     "iopub.status.busy": "2024-12-23T12:53:56.176547Z",
     "iopub.status.idle": "2024-12-23T12:53:56.363886Z",
     "shell.execute_reply": "2024-12-23T12:53:56.363512Z"
    }
   },
   "outputs": [
    {
     "data": {
      "text/markdown": [
       "# Print Queue"
      ],
      "text/plain": [
       "<IPython.core.display.Markdown object>"
      ]
     },
     "metadata": {},
     "output_type": "display_data"
    },
    {
     "data": {
      "text/markdown": [
       "[Open Website](https://adventofcode.com/2024/day/5)"
      ],
      "text/plain": [
       "<IPython.core.display.Markdown object>"
      ]
     },
     "metadata": {},
     "output_type": "display_data"
    }
   ],
   "source": [
    "from common.inputreader import InputReader, PuzzleWrapper\n",
    "\n",
    "puzzle = PuzzleWrapper(year=2024, day=int(\"05\"))\n",
    "\n",
    "puzzle.header()"
   ]
  },
  {
   "cell_type": "code",
   "execution_count": 2,
   "id": "e657439cf5931b4a",
   "metadata": {
    "ExecuteTime": {
     "end_time": "2024-12-23T12:20:59.809128Z",
     "start_time": "2024-12-23T12:20:59.802358Z"
    },
    "execution": {
     "iopub.execute_input": "2024-12-23T12:53:56.365417Z",
     "iopub.status.busy": "2024-12-23T12:53:56.365287Z",
     "iopub.status.idle": "2024-12-23T12:53:56.369330Z",
     "shell.execute_reply": "2024-12-23T12:53:56.369063Z"
    }
   },
   "outputs": [
    {
     "data": {
      "text/markdown": [
       "## Easter Eggs"
      ],
      "text/plain": [
       "<IPython.core.display.Markdown object>"
      ]
     },
     "metadata": {},
     "output_type": "display_data"
    },
    {
     "data": {
      "text/markdown": [
       "<span title=\"Specifically, the surely-stationary stationery stacks.\">stationery</span> (Specifically, the surely-stationary stationery stacks.)"
      ],
      "text/plain": [
       "<IPython.core.display.Markdown object>"
      ]
     },
     "metadata": {},
     "output_type": "display_data"
    }
   ],
   "source": [
    "puzzle.print_easter_eggs()"
   ]
  },
  {
   "cell_type": "code",
   "execution_count": 3,
   "id": "6d23892a17117fed",
   "metadata": {
    "ExecuteTime": {
     "end_time": "2024-12-23T12:21:00.639676Z",
     "start_time": "2024-12-23T12:21:00.606864Z"
    },
    "execution": {
     "iopub.execute_input": "2024-12-23T12:53:56.370585Z",
     "iopub.status.busy": "2024-12-23T12:53:56.370474Z",
     "iopub.status.idle": "2024-12-23T12:53:56.412863Z",
     "shell.execute_reply": "2024-12-23T12:53:56.412564Z"
    }
   },
   "outputs": [
    {
     "name": "stdout",
     "output_type": "stream",
     "text": [
      "[75, 47, 61, 53, 29]\n",
      "61\n",
      "[97, 61, 53, 29, 13]\n",
      "53\n",
      "[75, 29, 13]\n",
      "29\n",
      "143\n"
     ]
    }
   ],
   "source": [
    "# test case (part 1)\n",
    "def check_task(task: list, rules: list) -> bool:\n",
    "    rules_subset = []\n",
    "    # find rules for numbers in task\n",
    "    for rule in rules:\n",
    "        if rule[0] in task and rule[1] in task:\n",
    "            rules_subset.append(rule)\n",
    "\n",
    "    for number in task:\n",
    "        relevant_rules = find_rules(rules_subset, number)\n",
    "        for rule in relevant_rules:\n",
    "            # find position of numbers in rules\n",
    "            left = task.index(rule[0])\n",
    "            right = task.index(rule[1])\n",
    "            if left > right:\n",
    "                return False\n",
    "    return True\n",
    "\n",
    "\n",
    "def find_rules(rules: list, page: int) -> list:\n",
    "    found_rules = []\n",
    "    for rule in rules:\n",
    "        if page in rule:\n",
    "            found_rules.append(rule)\n",
    "    return found_rules\n",
    "\n",
    "\n",
    "def part_1(input: InputReader, debug: bool) -> int:\n",
    "    lines = input.lines_as_str()\n",
    "\n",
    "    # iterate over the lines and group them by before and after the empty lines\n",
    "    order_rules = []\n",
    "    tasks = []\n",
    "    first_flag = True\n",
    "    for line in lines:\n",
    "        if len(line) == 0 and first_flag:\n",
    "            first_flag = False\n",
    "        elif first_flag:\n",
    "            pages = line.split(\"|\")\n",
    "            pages = [int(page) for page in pages]\n",
    "            order_rules.append(pages)\n",
    "        else:\n",
    "            pages = line.split(\",\")\n",
    "            pages = [int(page) for page in pages]\n",
    "            tasks.append(pages)\n",
    "\n",
    "    total = 0\n",
    "\n",
    "    for task in tasks:\n",
    "        if check_task(task, order_rules):\n",
    "            length = len(task)\n",
    "            position = int((length) / 2)\n",
    "            median_page = task[position]\n",
    "            total += median_page\n",
    "            if debug:\n",
    "                print(task)\n",
    "                print(median_page)\n",
    "\n",
    "    if debug:\n",
    "        print(total)\n",
    "\n",
    "    return total\n",
    "\n",
    "\n",
    "result = part_1(puzzle.example(0), True)\n",
    "assert result == 143"
   ]
  },
  {
   "cell_type": "code",
   "execution_count": 4,
   "id": "66cab898e4711d42",
   "metadata": {
    "ExecuteTime": {
     "end_time": "2024-12-23T12:21:08.585051Z",
     "start_time": "2024-12-23T12:21:08.522906Z"
    },
    "execution": {
     "iopub.execute_input": "2024-12-23T12:53:56.414515Z",
     "iopub.status.busy": "2024-12-23T12:53:56.414376Z",
     "iopub.status.idle": "2024-12-23T12:53:56.466527Z",
     "shell.execute_reply": "2024-12-23T12:53:56.466256Z"
    }
   },
   "outputs": [
    {
     "data": {
      "text/plain": [
       "5588"
      ]
     },
     "metadata": {},
     "output_type": "display_data"
    }
   ],
   "source": [
    "# real case (part 1)\n",
    "result = part_1(puzzle.input(), False)\n",
    "display(result)\n",
    "assert result == 5588"
   ]
  },
  {
   "cell_type": "code",
   "execution_count": 5,
   "id": "d2277c7db8ea0a5e",
   "metadata": {
    "ExecuteTime": {
     "end_time": "2024-12-23T12:21:23.245344Z",
     "start_time": "2024-12-23T12:21:23.230182Z"
    },
    "execution": {
     "iopub.execute_input": "2024-12-23T12:53:56.467810Z",
     "iopub.status.busy": "2024-12-23T12:53:56.467725Z",
     "iopub.status.idle": "2024-12-23T12:53:56.473164Z",
     "shell.execute_reply": "2024-12-23T12:53:56.472933Z"
    }
   },
   "outputs": [
    {
     "name": "stdout",
     "output_type": "stream",
     "text": [
      "[75, 97, 47, 61, 53]\n",
      "Rule broken rule: [97, 75] on 75\n",
      "[61, 13, 29]\n",
      "Rule broken rule: [29, 13] on 13\n",
      "[97, 13, 75, 29, 47]\n",
      "Rule broken rule: [29, 13] on 13\n",
      "Rule broken rule: [47, 29] on 29\n",
      "Rule broken rule: [47, 13] on 47\n",
      "Rule broken rule: [29, 13] on 29\n",
      "123\n"
     ]
    }
   ],
   "source": [
    "\n",
    "def fix_task(task: list, rules: list, debug: bool) -> int:\n",
    "    rules_subset = []\n",
    "    # find rules for numbers in task\n",
    "    for rule in rules:\n",
    "        if rule[0] in task and rule[1] in task:\n",
    "            rules_subset.append(rule)\n",
    "\n",
    "    if debug:\n",
    "        print(task)\n",
    "        # print(rules_subset)\n",
    "\n",
    "    while not check_task(task, rules_subset):\n",
    "        for number in task:\n",
    "            relevant_rules = find_rules(rules_subset, number)\n",
    "            for rule in relevant_rules:\n",
    "                # find position of numbers in rules\n",
    "                left = task.index(rule[0])\n",
    "                right = task.index(rule[1])\n",
    "                if left > right:\n",
    "                    if debug:\n",
    "                        print(f\"Rule broken rule: {rule} on {number}\")\n",
    "                    # move right number left and break the loop\n",
    "                    task.remove(rule[1])\n",
    "                    task.insert(left, rule[1])\n",
    "                    break\n",
    "\n",
    "    length = len(task)\n",
    "    position = int(length / 2)\n",
    "    median_page = task[position]\n",
    "    return median_page\n",
    "\n",
    "\n",
    "# test case (part 2)\n",
    "def part_2(input: InputReader, debug: bool) -> int:\n",
    "    lines = input.lines_as_str()\n",
    "\n",
    "    # iterate over the lines and group them by before and after the empty lines\n",
    "    order_rules = []\n",
    "    tasks = []\n",
    "    first_flag = True\n",
    "    for line in lines:\n",
    "        if len(line) == 0 and first_flag:\n",
    "            first_flag = False\n",
    "        elif first_flag:\n",
    "            pages = line.split(\"|\")\n",
    "            pages = [int(page) for page in pages]\n",
    "            order_rules.append(pages)\n",
    "        else:\n",
    "            pages = line.split(\",\")\n",
    "            pages = [int(page) for page in pages]\n",
    "            tasks.append(pages)\n",
    "\n",
    "    total = 0\n",
    "\n",
    "    for task in tasks:\n",
    "        if not check_task(task, order_rules):\n",
    "            total += fix_task(task, order_rules, debug)\n",
    "\n",
    "    if debug:\n",
    "        print(total)\n",
    "\n",
    "    return total\n",
    "\n",
    "\n",
    "result = part_2(puzzle.example(0), True)\n",
    "assert result == 123"
   ]
  },
  {
   "cell_type": "code",
   "execution_count": 6,
   "id": "57c071f7c6d2914",
   "metadata": {
    "ExecuteTime": {
     "end_time": "2024-12-23T12:21:31.182428Z",
     "start_time": "2024-12-23T12:21:31.059493Z"
    },
    "execution": {
     "iopub.execute_input": "2024-12-23T12:53:56.474401Z",
     "iopub.status.busy": "2024-12-23T12:53:56.474299Z",
     "iopub.status.idle": "2024-12-23T12:53:56.586197Z",
     "shell.execute_reply": "2024-12-23T12:53:56.585961Z"
    }
   },
   "outputs": [
    {
     "data": {
      "text/plain": [
       "5331"
      ]
     },
     "metadata": {},
     "output_type": "display_data"
    }
   ],
   "source": [
    "# real case (part 2)\n",
    "result = part_2(puzzle.input(), False)\n",
    "display(result)\n",
    "assert result == 5331"
   ]
  },
  {
   "cell_type": "code",
   "execution_count": null,
   "id": "be0444dec4014a2e",
   "metadata": {
    "ExecuteTime": {
     "end_time": "2024-12-05T18:08:56.340653Z",
     "start_time": "2024-12-05T18:08:56.339240Z"
    }
   },
   "outputs": [],
   "source": []
  }
 ],
 "metadata": {
  "kernelspec": {
   "display_name": "Python 3",
   "language": "python",
   "name": "python3"
  },
  "language_info": {
   "codemirror_mode": {
    "name": "ipython",
    "version": 3
   },
   "file_extension": ".py",
   "mimetype": "text/x-python",
   "name": "python",
   "nbconvert_exporter": "python",
   "pygments_lexer": "ipython3",
   "version": "3.13.0"
  }
 },
 "nbformat": 4,
 "nbformat_minor": 5
}
