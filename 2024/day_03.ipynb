{
 "cells": [
  {
   "cell_type": "code",
   "execution_count": 1,
   "id": "f4f3e61d3c6c0406",
   "metadata": {
    "ExecuteTime": {
     "end_time": "2024-12-23T12:17:41.361451Z",
     "start_time": "2024-12-23T12:17:41.317236Z"
    },
    "execution": {
     "iopub.execute_input": "2024-12-23T12:53:52.168853Z",
     "iopub.status.busy": "2024-12-23T12:53:52.168713Z",
     "iopub.status.idle": "2024-12-23T12:53:52.413416Z",
     "shell.execute_reply": "2024-12-23T12:53:52.413149Z"
    }
   },
   "outputs": [
    {
     "data": {
      "text/markdown": [
       "# Mull It Over"
      ],
      "text/plain": [
       "<IPython.core.display.Markdown object>"
      ]
     },
     "metadata": {},
     "output_type": "display_data"
    },
    {
     "data": {
      "text/markdown": [
       "[Open Website](https://adventofcode.com/2024/day/3)"
      ],
      "text/plain": [
       "<IPython.core.display.Markdown object>"
      ]
     },
     "metadata": {},
     "output_type": "display_data"
    }
   ],
   "source": [
    "from common.inputreader import InputReader, PuzzleWrapper\n",
    "\n",
    "puzzle = PuzzleWrapper(year=2024, day=int(\"03\"))\n",
    "\n",
    "puzzle.header()"
   ]
  },
  {
   "cell_type": "code",
   "execution_count": 2,
   "id": "c60100b9dfff77f0",
   "metadata": {
    "ExecuteTime": {
     "end_time": "2024-12-23T12:17:41.614286Z",
     "start_time": "2024-12-23T12:17:41.607542Z"
    },
    "execution": {
     "iopub.execute_input": "2024-12-23T12:53:52.415171Z",
     "iopub.status.busy": "2024-12-23T12:53:52.415006Z",
     "iopub.status.idle": "2024-12-23T12:53:52.419870Z",
     "shell.execute_reply": "2024-12-23T12:53:52.419529Z"
    }
   },
   "outputs": [
    {
     "data": {
      "text/markdown": [
       "## Easter Eggs"
      ],
      "text/plain": [
       "<IPython.core.display.Markdown object>"
      ]
     },
     "metadata": {},
     "output_type": "display_data"
    },
    {
     "data": {
      "text/markdown": [
       "<span title=\"There's a spot reserved for Chief Historians between the green toboggans and the red toboggans. They've never actually had any Chief Historians in stock, but it's best to be prepared.\">in stock</span> (There's a spot reserved for Chief Historians between the green toboggans and the red toboggans. They've never actually had any Chief Historians in stock, but it's best to be prepared.)"
      ],
      "text/plain": [
       "<IPython.core.display.Markdown object>"
      ]
     },
     "metadata": {},
     "output_type": "display_data"
    }
   ],
   "source": [
    "puzzle.print_easter_eggs()"
   ]
  },
  {
   "cell_type": "code",
   "execution_count": 3,
   "id": "884b4a32c606cc6f",
   "metadata": {
    "ExecuteTime": {
     "end_time": "2024-12-23T12:17:54.892896Z",
     "start_time": "2024-12-23T12:17:54.852370Z"
    },
    "execution": {
     "iopub.execute_input": "2024-12-23T12:53:52.422248Z",
     "iopub.status.busy": "2024-12-23T12:53:52.422030Z",
     "iopub.status.idle": "2024-12-23T12:53:52.449675Z",
     "shell.execute_reply": "2024-12-23T12:53:52.449369Z"
    }
   },
   "outputs": [
    {
     "data": {
      "text/plain": [
       "['xmul(2,4)%&mul[3,7]!@^do_not_mul(5,5)+mul(32,64]then(mul(11,8)mul(8,5))']"
      ]
     },
     "metadata": {},
     "output_type": "display_data"
    },
    {
     "data": {
      "text/plain": [
       "['mul(2,4)', 'mul(5,5)', 'mul(11,8)', 'mul(8,5)']"
      ]
     },
     "metadata": {},
     "output_type": "display_data"
    }
   ],
   "source": [
    "import re\n",
    "\n",
    "\n",
    "# test case (part 1)\n",
    "def part_1(input: InputReader, debug: bool) -> int:\n",
    "    lines = input.lines_as_str()\n",
    "\n",
    "    # write a regex that parses the input and finds all \"mul(\\d+,\\d+)\"\n",
    "    regex = re.compile(r\"mul\\(\\d+,\\d+\\)\")\n",
    "\n",
    "    if debug:\n",
    "        display(lines)\n",
    "\n",
    "    # find all matches in the input\n",
    "    matches = []\n",
    "    for line in lines:\n",
    "        matches += regex.findall(line)\n",
    "\n",
    "    if debug:\n",
    "        display(matches)\n",
    "\n",
    "    # parse out the numbers from the matches and multiply them\n",
    "    total = 0\n",
    "    for match in matches:\n",
    "        numbers = re.findall(r\"\\d+\", match)\n",
    "        first = int(numbers[0])\n",
    "        second = int(numbers[1])\n",
    "        total += first * second\n",
    "\n",
    "    return total\n",
    "\n",
    "\n",
    "result = part_1(puzzle.example(0), True)\n",
    "assert result == 161"
   ]
  },
  {
   "cell_type": "code",
   "execution_count": 4,
   "id": "22dab85e1de3e09",
   "metadata": {
    "ExecuteTime": {
     "end_time": "2024-12-23T12:18:03.082596Z",
     "start_time": "2024-12-23T12:18:03.073662Z"
    },
    "execution": {
     "iopub.execute_input": "2024-12-23T12:53:52.451370Z",
     "iopub.status.busy": "2024-12-23T12:53:52.451237Z",
     "iopub.status.idle": "2024-12-23T12:53:52.457627Z",
     "shell.execute_reply": "2024-12-23T12:53:52.457239Z"
    }
   },
   "outputs": [
    {
     "data": {
      "text/plain": [
       "166905464"
      ]
     },
     "metadata": {},
     "output_type": "display_data"
    }
   ],
   "source": [
    "# real case (part 1)\n",
    "result = part_1(puzzle.input(), False)\n",
    "display(result)\n",
    "assert result == 166905464"
   ]
  },
  {
   "cell_type": "code",
   "execution_count": 5,
   "id": "5166d8cb2e87e4f7",
   "metadata": {
    "ExecuteTime": {
     "end_time": "2024-12-23T12:18:30.704504Z",
     "start_time": "2024-12-23T12:18:30.695409Z"
    },
    "execution": {
     "iopub.execute_input": "2024-12-23T12:53:52.459556Z",
     "iopub.status.busy": "2024-12-23T12:53:52.459391Z",
     "iopub.status.idle": "2024-12-23T12:53:52.466253Z",
     "shell.execute_reply": "2024-12-23T12:53:52.465949Z"
    }
   },
   "outputs": [
    {
     "data": {
      "text/plain": [
       "\"xmul(2,4)&mul[3,7]!^don't()_mul(5,5)+mul(32,64](mul(11,8)undo()?mul(8,5))\""
      ]
     },
     "metadata": {},
     "output_type": "display_data"
    }
   ],
   "source": [
    "# test case (part 2)\n",
    "def part_2(input: InputReader, debug: bool) -> int:\n",
    "    line = \"\".join(input.lines_as_str())\n",
    "\n",
    "    # write a regex that parses the input and finds all \"mul(\\d+,\\d+)\"\n",
    "    mul_re = re.compile(r\"mul\\(\\d+,\\d+\\)\")\n",
    "    do_re = re.compile(r\"do\\(\\)\")\n",
    "    dont_re = re.compile(r\"don't\\(\\)\")\n",
    "\n",
    "    # find all the do() and don't() positions\n",
    "    dos = []\n",
    "    donts = []\n",
    "    # find the position of the do_re matches\n",
    "    for match in do_re.finditer(line):\n",
    "        dos.append(match.start())\n",
    "    # find the position of the dont_re matches\n",
    "    for match in dont_re.finditer(line):\n",
    "        donts.append(match.start())\n",
    "\n",
    "    if debug:\n",
    "        display(line)\n",
    "\n",
    "    # find all matches in the input\n",
    "    total = 0\n",
    "    for match in mul_re.finditer(line):\n",
    "        start = match.start()\n",
    "        # find max  do before the match\n",
    "        max_do = 0\n",
    "        for do in dos:\n",
    "            if do < start:\n",
    "                max_do = max(max_do, do)\n",
    "        max_dont = 0\n",
    "        for dont in donts:\n",
    "            if dont < start:\n",
    "                max_dont = max(max_dont, dont)\n",
    "\n",
    "        if max_dont > max_do:\n",
    "            continue\n",
    "\n",
    "        numbers = re.findall(r\"\\d+\", match.group())\n",
    "        total += int(numbers[0]) * int(numbers[1])\n",
    "\n",
    "    return total\n",
    "\n",
    "\n",
    "result = part_2(puzzle.get_code_block(1), True)\n",
    "assert result == 48"
   ]
  },
  {
   "cell_type": "code",
   "execution_count": 6,
   "id": "2e78739f0fda2e5b",
   "metadata": {
    "ExecuteTime": {
     "end_time": "2024-12-23T12:18:39.858249Z",
     "start_time": "2024-12-23T12:18:39.852236Z"
    },
    "execution": {
     "iopub.execute_input": "2024-12-23T12:53:52.467724Z",
     "iopub.status.busy": "2024-12-23T12:53:52.467617Z",
     "iopub.status.idle": "2024-12-23T12:53:52.471881Z",
     "shell.execute_reply": "2024-12-23T12:53:52.471615Z"
    }
   },
   "outputs": [
    {
     "data": {
      "text/plain": [
       "72948684"
      ]
     },
     "metadata": {},
     "output_type": "display_data"
    }
   ],
   "source": [
    "# real case (part 2)\n",
    "result = part_2(puzzle.input(), False)\n",
    "display(result)\n",
    "assert result == 72948684"
   ]
  },
  {
   "cell_type": "code",
   "execution_count": null,
   "id": "fb500cef2cfa673e",
   "metadata": {
    "ExecuteTime": {
     "end_time": "2024-12-23T12:02:52.102714Z",
     "start_time": "2024-12-05T18:07:24.968567Z"
    }
   },
   "outputs": [],
   "source": []
  }
 ],
 "metadata": {
  "kernelspec": {
   "display_name": "Python 3",
   "language": "python",
   "name": "python3"
  },
  "language_info": {
   "codemirror_mode": {
    "name": "ipython",
    "version": 3
   },
   "file_extension": ".py",
   "mimetype": "text/x-python",
   "name": "python",
   "nbconvert_exporter": "python",
   "pygments_lexer": "ipython3",
   "version": "3.13.0"
  }
 },
 "nbformat": 4,
 "nbformat_minor": 5
}
