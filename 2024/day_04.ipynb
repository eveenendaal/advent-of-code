{
 "cells": [
  {
   "cell_type": "code",
   "execution_count": 1,
   "id": "7dbe8d23321ca17f",
   "metadata": {
    "ExecuteTime": {
     "end_time": "2024-12-23T12:19:13.318539Z",
     "start_time": "2024-12-23T12:19:13.201021Z"
    },
    "execution": {
     "iopub.execute_input": "2024-12-23T12:53:54.176906Z",
     "iopub.status.busy": "2024-12-23T12:53:54.176744Z",
     "iopub.status.idle": "2024-12-23T12:53:54.338940Z",
     "shell.execute_reply": "2024-12-23T12:53:54.338501Z"
    }
   },
   "outputs": [
    {
     "data": {
      "text/markdown": [
       "# Ceres Search"
      ],
      "text/plain": [
       "<IPython.core.display.Markdown object>"
      ]
     },
     "metadata": {},
     "output_type": "display_data"
    },
    {
     "data": {
      "text/markdown": [
       "[Open Website](https://adventofcode.com/2024/day/4)"
      ],
      "text/plain": [
       "<IPython.core.display.Markdown object>"
      ]
     },
     "metadata": {},
     "output_type": "display_data"
    }
   ],
   "source": [
    "from common.inputreader import InputReader, PuzzleWrapper\n",
    "\n",
    "puzzle = PuzzleWrapper(year=2024, day=int(\"04\"))\n",
    "\n",
    "puzzle.header()"
   ]
  },
  {
   "cell_type": "code",
   "execution_count": 2,
   "id": "f1f59fb92299026e",
   "metadata": {
    "ExecuteTime": {
     "end_time": "2024-12-23T12:19:13.328109Z",
     "start_time": "2024-12-23T12:19:13.323611Z"
    },
    "execution": {
     "iopub.execute_input": "2024-12-23T12:53:54.341299Z",
     "iopub.status.busy": "2024-12-23T12:53:54.341111Z",
     "iopub.status.idle": "2024-12-23T12:53:54.345712Z",
     "shell.execute_reply": "2024-12-23T12:53:54.345428Z"
    }
   },
   "outputs": [
    {
     "data": {
      "text/markdown": [
       "## Easter Eggs"
      ],
      "text/plain": [
       "<IPython.core.display.Markdown object>"
      ]
     },
     "metadata": {},
     "output_type": "display_data"
    },
    {
     "data": {
      "text/markdown": [
       "<span title=\"This part originally involved searching for something else, but this joke was too dumb to pass up.\"><code><em>X-MAS</em></code></span> (This part originally involved searching for something else, but this joke was too dumb to pass up.)"
      ],
      "text/plain": [
       "<IPython.core.display.Markdown object>"
      ]
     },
     "metadata": {},
     "output_type": "display_data"
    }
   ],
   "source": [
    "puzzle.print_easter_eggs()"
   ]
  },
  {
   "cell_type": "code",
   "execution_count": 3,
   "id": "7c53b6554f4f79d5",
   "metadata": {
    "ExecuteTime": {
     "end_time": "2024-12-23T12:19:33.539303Z",
     "start_time": "2024-12-23T12:19:33.528045Z"
    },
    "execution": {
     "iopub.execute_input": "2024-12-23T12:53:54.347057Z",
     "iopub.status.busy": "2024-12-23T12:53:54.346960Z",
     "iopub.status.idle": "2024-12-23T12:53:54.352662Z",
     "shell.execute_reply": "2024-12-23T12:53:54.352387Z"
    }
   },
   "outputs": [
    {
     "name": "stdout",
     "output_type": "stream",
     "text": [
      "<common.matrix.Matrix object at 0x110257e00>\n",
      "18\n"
     ]
    }
   ],
   "source": [
    "from common.matrix import Direction, MatrixNavigator\n",
    "\n",
    "\n",
    "# test case (part 1)\n",
    "def part_1(input: InputReader, debug: bool) -> int:\n",
    "    matrix = input.matrix()\n",
    "\n",
    "    if debug:\n",
    "        print(str(matrix))\n",
    "\n",
    "    starts = []\n",
    "    xmas_count = 0\n",
    "\n",
    "    # find all the X's\n",
    "    for y, line in enumerate(matrix.get_lines()):\n",
    "        for x, cell in enumerate(line):\n",
    "            if cell == \"X\":\n",
    "                starts.append((x, y))\n",
    "\n",
    "    # find all the M's within one cell of an X\n",
    "    for start in starts:\n",
    "        x, y = start\n",
    "        pointer = MatrixNavigator(matrix, x, y)\n",
    "\n",
    "        # iterate over the directions\n",
    "        for direction in Direction:\n",
    "            if pointer.move(direction) and pointer.get_value() == \"M\":\n",
    "                if pointer.move(direction) and pointer.get_value() == \"A\":\n",
    "                    if pointer.move(direction) and pointer.get_value() == \"S\":\n",
    "                        xmas_count += 1\n",
    "            pointer.set_position(x, y)\n",
    "\n",
    "    return xmas_count\n",
    "\n",
    "\n",
    "result = part_1(puzzle.get_code_block(2), True)\n",
    "print(result)\n",
    "assert result == 18"
   ]
  },
  {
   "cell_type": "code",
   "execution_count": 4,
   "id": "136df1b61e1d23f4",
   "metadata": {
    "ExecuteTime": {
     "end_time": "2024-12-23T12:19:48.395200Z",
     "start_time": "2024-12-23T12:19:48.338597Z"
    },
    "execution": {
     "iopub.execute_input": "2024-12-23T12:53:54.353904Z",
     "iopub.status.busy": "2024-12-23T12:53:54.353818Z",
     "iopub.status.idle": "2024-12-23T12:53:54.394366Z",
     "shell.execute_reply": "2024-12-23T12:53:54.394036Z"
    }
   },
   "outputs": [],
   "source": [
    "# real case (part 1)\n",
    "result = part_1(puzzle.input(), False)\n",
    "assert result == 2536"
   ]
  },
  {
   "cell_type": "code",
   "execution_count": 5,
   "id": "de53f808dd4e9ceb",
   "metadata": {
    "ExecuteTime": {
     "end_time": "2024-12-23T12:20:12.245367Z",
     "start_time": "2024-12-23T12:20:12.238946Z"
    },
    "execution": {
     "iopub.execute_input": "2024-12-23T12:53:54.396154Z",
     "iopub.status.busy": "2024-12-23T12:53:54.396027Z",
     "iopub.status.idle": "2024-12-23T12:53:54.401638Z",
     "shell.execute_reply": "2024-12-23T12:53:54.401344Z"
    }
   },
   "outputs": [
    {
     "name": "stdout",
     "output_type": "stream",
     "text": [
      "<common.matrix.Matrix object at 0x110851a90>\n"
     ]
    }
   ],
   "source": [
    "# test case (part 2)\n",
    "def part_2(input: InputReader, debug: bool) -> int:\n",
    "    matrix = input.matrix()\n",
    "    if debug:\n",
    "        print(matrix)\n",
    "\n",
    "    starts = []\n",
    "    xmas_count = 0\n",
    "\n",
    "    # find all the A's\n",
    "    for y, line in enumerate(matrix.get_lines()):\n",
    "        for x, cell in enumerate(line):\n",
    "            if cell == \"A\":\n",
    "                starts.append((x, y))\n",
    "\n",
    "    # find all the M's within one cell of an X\n",
    "    for start in starts:\n",
    "        pointer = MatrixNavigator(matrix, *start)\n",
    "        a = []\n",
    "        b = []\n",
    "\n",
    "        # check in the diagonal directions\n",
    "        for direction in [Direction.UP_LEFT, Direction.DOWN_RIGHT]:\n",
    "            ok, value = pointer.peek_value(direction)\n",
    "            if not ok:\n",
    "                continue\n",
    "            a.append(value)\n",
    "\n",
    "        for direction in [Direction.UP_RIGHT, Direction.DOWN_LEFT]:\n",
    "            ok, value = pointer.peek_value(direction)\n",
    "            if not ok:\n",
    "                continue\n",
    "            b.append(value)\n",
    "\n",
    "        # if a and b both contain M and S, then we have an MAS\n",
    "        if \"M\" in a and \"S\" in a and \"M\" in b and \"S\" in b:\n",
    "            xmas_count += 1\n",
    "\n",
    "    return xmas_count\n",
    "\n",
    "\n",
    "result = part_2(puzzle.get_code_block(3), True)\n",
    "assert result == 9"
   ]
  },
  {
   "cell_type": "code",
   "execution_count": 6,
   "id": "3d97ca0e95216441",
   "metadata": {
    "ExecuteTime": {
     "end_time": "2024-12-23T12:20:19.863505Z",
     "start_time": "2024-12-23T12:20:19.838311Z"
    },
    "execution": {
     "iopub.execute_input": "2024-12-23T12:53:54.402897Z",
     "iopub.status.busy": "2024-12-23T12:53:54.402808Z",
     "iopub.status.idle": "2024-12-23T12:53:54.417982Z",
     "shell.execute_reply": "2024-12-23T12:53:54.417754Z"
    }
   },
   "outputs": [
    {
     "data": {
      "text/plain": [
       "1875"
      ]
     },
     "metadata": {},
     "output_type": "display_data"
    }
   ],
   "source": [
    "# real case (part 2)\n",
    "result = part_2(puzzle.input(), False)\n",
    "display(result)\n",
    "assert result == 1875"
   ]
  },
  {
   "cell_type": "code",
   "execution_count": null,
   "id": "c80f41b4c7771583",
   "metadata": {
    "ExecuteTime": {
     "end_time": "2024-12-05T18:07:58.853098Z",
     "start_time": "2024-12-05T18:07:58.851709Z"
    }
   },
   "outputs": [],
   "source": []
  }
 ],
 "metadata": {
  "kernelspec": {
   "display_name": "Python 3",
   "language": "python",
   "name": "python3"
  },
  "language_info": {
   "codemirror_mode": {
    "name": "ipython",
    "version": 3
   },
   "file_extension": ".py",
   "mimetype": "text/x-python",
   "name": "python",
   "nbconvert_exporter": "python",
   "pygments_lexer": "ipython3",
   "version": "3.13.0"
  }
 },
 "nbformat": 4,
 "nbformat_minor": 5
}
