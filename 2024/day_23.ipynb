{
 "cells": [
  {
   "cell_type": "code",
   "execution_count": 1,
   "id": "dec75b3898d7314f",
   "metadata": {
    "ExecuteTime": {
     "end_time": "2024-12-23T10:15:59.427233Z",
     "start_time": "2024-12-23T10:15:59.417867Z"
    },
    "execution": {
     "iopub.execute_input": "2024-12-23T13:08:46.976944Z",
     "iopub.status.busy": "2024-12-23T13:08:46.976844Z",
     "iopub.status.idle": "2024-12-23T13:08:47.098649Z",
     "shell.execute_reply": "2024-12-23T13:08:47.098335Z"
    }
   },
   "outputs": [
    {
     "data": {
      "text/markdown": [
       "# LAN Party"
      ],
      "text/plain": [
       "<IPython.core.display.Markdown object>"
      ]
     },
     "metadata": {},
     "output_type": "display_data"
    },
    {
     "data": {
      "text/markdown": [
       "[Open Website](https://adventofcode.com/2024/day/23)"
      ],
      "text/plain": [
       "<IPython.core.display.Markdown object>"
      ]
     },
     "metadata": {},
     "output_type": "display_data"
    }
   ],
   "source": [
    "from common.inputreader import InputReader, PuzzleWrapper\n",
    "\n",
    "puzzle = PuzzleWrapper(year=2024, day=int(\"23\"))\n",
    "\n",
    "puzzle.header()"
   ]
  },
  {
   "cell_type": "code",
   "execution_count": 2,
   "id": "34dd2d43c40af29b",
   "metadata": {
    "ExecuteTime": {
     "end_time": "2024-12-23T10:15:59.448285Z",
     "start_time": "2024-12-23T10:15:59.442444Z"
    },
    "execution": {
     "iopub.execute_input": "2024-12-23T13:08:47.100175Z",
     "iopub.status.busy": "2024-12-23T13:08:47.100054Z",
     "iopub.status.idle": "2024-12-23T13:08:47.966628Z",
     "shell.execute_reply": "2024-12-23T13:08:47.966268Z"
    }
   },
   "outputs": [
    {
     "name": "stdout",
     "output_type": "stream",
     "text": [
      "[('kh', 'tc'), ('kh', 'qp'), ('kh', 'ub'), ('kh', 'ta'), ('tc', 'wh'), ('tc', 'td'), ('tc', 'co'), ('qp', 'ub'), ('qp', 'td'), ('qp', 'wh'), ('de', 'cg'), ('de', 'co'), ('de', 'ta'), ('de', 'ka'), ('cg', 'tb'), ('cg', 'yn'), ('cg', 'aq'), ('ka', 'co'), ('ka', 'tb'), ('ka', 'ta'), ('co', 'ta'), ('yn', 'aq'), ('yn', 'wh'), ('yn', 'td'), ('aq', 'vc'), ('aq', 'wq'), ('ub', 'wq'), ('ub', 'vc'), ('tb', 'wq'), ('tb', 'vc'), ('vc', 'wq'), ('wh', 'td')]\n"
     ]
    }
   ],
   "source": [
    "# helper functions\n",
    "import networkx as nx\n",
    "\n",
    "\n",
    "def domain_from_input(input: InputReader) -> nx.Graph:\n",
    "    graph = nx.Graph()\n",
    "\n",
    "    lines = input.lines_as_str()\n",
    "    for line in lines:\n",
    "        pair = line.split(\"-\")\n",
    "        graph.add_edge(pair[0], pair[1])\n",
    "\n",
    "    return graph\n",
    "\n",
    "\n",
    "test_input = domain_from_input(puzzle.example(0))\n",
    "print(test_input.edges)"
   ]
  },
  {
   "cell_type": "code",
   "execution_count": 3,
   "id": "6d23892a17117fed",
   "metadata": {
    "ExecuteTime": {
     "end_time": "2024-12-23T10:15:59.463948Z",
     "start_time": "2024-12-23T10:15:59.457987Z"
    },
    "execution": {
     "iopub.execute_input": "2024-12-23T13:08:47.968261Z",
     "iopub.status.busy": "2024-12-23T13:08:47.968042Z",
     "iopub.status.idle": "2024-12-23T13:08:47.973271Z",
     "shell.execute_reply": "2024-12-23T13:08:47.972959Z"
    }
   },
   "outputs": [
    {
     "name": "stdout",
     "output_type": "stream",
     "text": [
      "[['kh', 'qp', 'ub'], ['tc', 'wh', 'td'], ['qp', 'wh', 'td'], ['de', 'ka', 'co'], ['de', 'ka', 'ta'], ['de', 'co', 'ta'], ['cg', 'yn', 'aq'], ['ka', 'co', 'ta'], ['yn', 'wh', 'td'], ['aq', 'vc', 'wq'], ['ub', 'vc', 'wq'], ['tb', 'vc', 'wq']]\n",
      "[['tc', 'wh', 'td'], ['qp', 'wh', 'td'], ['de', 'ka', 'ta'], ['de', 'co', 'ta'], ['ka', 'co', 'ta'], ['yn', 'wh', 'td'], ['tb', 'vc', 'wq']]\n"
     ]
    },
    {
     "data": {
      "text/plain": [
       "7"
      ]
     },
     "metadata": {},
     "output_type": "display_data"
    }
   ],
   "source": [
    "# test case (part 1)\n",
    "import networkx as nx\n",
    "\n",
    "\n",
    "def part_1(reader: InputReader, debug: bool) -> int:\n",
    "    graph = domain_from_input(reader)\n",
    "\n",
    "    # find all triangles\n",
    "    triangles = [clique for clique in nx.enumerate_all_cliques(graph) if len(clique) == 3]\n",
    "    if debug:\n",
    "        print(triangles)\n",
    "\n",
    "    # find triangles that contain a node starting with a \"t\"\n",
    "    t_triangles = [triangle for triangle in triangles if any([node.startswith(\"t\") for node in triangle])]\n",
    "    if debug:\n",
    "        print(t_triangles)\n",
    "\n",
    "    return len(t_triangles)\n",
    "\n",
    "\n",
    "result = part_1(puzzle.example(0), True)\n",
    "display(result)\n",
    "assert result == 7"
   ]
  },
  {
   "cell_type": "code",
   "execution_count": 4,
   "id": "66cab898e4711d42",
   "metadata": {
    "ExecuteTime": {
     "end_time": "2024-12-23T10:16:00.051186Z",
     "start_time": "2024-12-23T10:15:59.594994Z"
    },
    "execution": {
     "iopub.execute_input": "2024-12-23T13:08:47.974831Z",
     "iopub.status.busy": "2024-12-23T13:08:47.974695Z",
     "iopub.status.idle": "2024-12-23T13:08:48.375421Z",
     "shell.execute_reply": "2024-12-23T13:08:48.375157Z"
    }
   },
   "outputs": [
    {
     "data": {
      "text/plain": [
       "1054"
      ]
     },
     "metadata": {},
     "output_type": "display_data"
    }
   ],
   "source": [
    "# real case (part 1)\n",
    "result = part_1(puzzle.input(), False)\n",
    "display(result)\n",
    "assert result == 1054"
   ]
  },
  {
   "cell_type": "code",
   "execution_count": 5,
   "id": "d2277c7db8ea0a5e",
   "metadata": {
    "ExecuteTime": {
     "end_time": "2024-12-23T10:16:00.123130Z",
     "start_time": "2024-12-23T10:16:00.118816Z"
    },
    "execution": {
     "iopub.execute_input": "2024-12-23T13:08:48.377038Z",
     "iopub.status.busy": "2024-12-23T13:08:48.376910Z",
     "iopub.status.idle": "2024-12-23T13:08:48.381134Z",
     "shell.execute_reply": "2024-12-23T13:08:48.380885Z"
    }
   },
   "outputs": [
    {
     "name": "stdout",
     "output_type": "stream",
     "text": [
      "['co', 'de', 'ka', 'ta']\n"
     ]
    },
    {
     "data": {
      "text/plain": [
       "'co,de,ka,ta'"
      ]
     },
     "metadata": {},
     "output_type": "display_data"
    }
   ],
   "source": [
    "# test case (part 2)\n",
    "def part_2(reader: InputReader, debug: bool) -> str:\n",
    "    graph = domain_from_input(reader)\n",
    "\n",
    "    # find largest clique\n",
    "    cliques = list(nx.find_cliques(graph))\n",
    "    largest_clique = max(cliques, key=len)\n",
    "    # sort nodes alphabetically\n",
    "    largest_clique = sorted(largest_clique)\n",
    "\n",
    "    if debug:\n",
    "        print(largest_clique)\n",
    "    return \",\".join(largest_clique)\n",
    "\n",
    "\n",
    "result = part_2(puzzle.example(0), True)\n",
    "display(result)\n",
    "assert result == \"co,de,ka,ta\""
   ]
  },
  {
   "cell_type": "code",
   "execution_count": 6,
   "id": "57c071f7c6d2914",
   "metadata": {
    "ExecuteTime": {
     "end_time": "2024-12-23T10:16:00.213724Z",
     "start_time": "2024-12-23T10:16:00.201694Z"
    },
    "execution": {
     "iopub.execute_input": "2024-12-23T13:08:48.382313Z",
     "iopub.status.busy": "2024-12-23T13:08:48.382205Z",
     "iopub.status.idle": "2024-12-23T13:08:48.392962Z",
     "shell.execute_reply": "2024-12-23T13:08:48.392662Z"
    }
   },
   "outputs": [
    {
     "data": {
      "text/plain": [
       "'ch,cz,di,gb,ht,ku,lu,tw,vf,vt,wo,xz,zk'"
      ]
     },
     "metadata": {},
     "output_type": "display_data"
    }
   ],
   "source": [
    "# real case (part 2)\n",
    "result = part_2(puzzle.input(), False)\n",
    "display(result)\n",
    "assert result == \"ch,cz,di,gb,ht,ku,lu,tw,vf,vt,wo,xz,zk\""
   ]
  },
  {
   "cell_type": "code",
   "execution_count": 7,
   "id": "44e329cbb6ad2400",
   "metadata": {
    "ExecuteTime": {
     "end_time": "2024-12-23T10:16:00.232558Z",
     "start_time": "2024-12-23T10:16:00.228215Z"
    },
    "execution": {
     "iopub.execute_input": "2024-12-23T13:08:48.394309Z",
     "iopub.status.busy": "2024-12-23T13:08:48.394207Z",
     "iopub.status.idle": "2024-12-23T13:08:48.397540Z",
     "shell.execute_reply": "2024-12-23T13:08:48.397284Z"
    }
   },
   "outputs": [
    {
     "data": {
      "text/markdown": [
       "## Easter Eggs"
      ],
      "text/plain": [
       "<IPython.core.display.Markdown object>"
      ]
     },
     "metadata": {},
     "output_type": "display_data"
    },
    {
     "data": {
      "text/markdown": [
       "<span title=\"You caught me. I'm a giant nerd.\">nerds</span> (You caught me. I'm a giant nerd.)"
      ],
      "text/plain": [
       "<IPython.core.display.Markdown object>"
      ]
     },
     "metadata": {},
     "output_type": "display_data"
    }
   ],
   "source": [
    "# print easters eggs\n",
    "puzzle.print_easter_eggs()"
   ]
  }
 ],
 "metadata": {
  "kernelspec": {
   "display_name": "Python 3",
   "language": "python",
   "name": "python3"
  },
  "language_info": {
   "codemirror_mode": {
    "name": "ipython",
    "version": 3
   },
   "file_extension": ".py",
   "mimetype": "text/x-python",
   "name": "python",
   "nbconvert_exporter": "python",
   "pygments_lexer": "ipython3",
   "version": "3.13.0"
  }
 },
 "nbformat": 4,
 "nbformat_minor": 5
}
