{
 "cells": [
  {
   "metadata": {
    "ExecuteTime": {
     "end_time": "2024-12-24T05:08:11.895224Z",
     "start_time": "2024-12-24T05:08:11.477296Z"
    }
   },
   "cell_type": "code",
   "source": [
    "from typing import Any\n",
    "\n",
    "from common.inputreader import InputReader, PuzzleWrapper\n",
    "\n",
    "puzzle = PuzzleWrapper(year=int(\"2024\"), day=int(\"24\"))\n",
    "\n",
    "puzzle.header()"
   ],
   "id": "dec75b3898d7314f",
   "outputs": [
    {
     "data": {
      "text/plain": [
       "<IPython.core.display.Markdown object>"
      ],
      "text/markdown": "# Crossed Wires"
     },
     "metadata": {},
     "output_type": "display_data"
    },
    {
     "data": {
      "text/plain": [
       "<IPython.core.display.Markdown object>"
      ],
      "text/markdown": "[Open Website](https://adventofcode.com/2024/day/24)"
     },
     "metadata": {},
     "output_type": "display_data"
    }
   ],
   "execution_count": 1
  },
  {
   "metadata": {
    "ExecuteTime": {
     "end_time": "2024-12-24T06:25:32.263085Z",
     "start_time": "2024-12-24T06:25:32.233461Z"
    }
   },
   "cell_type": "code",
   "source": [
    "# helper functions\n",
    "import re\n",
    "\n",
    "\n",
    "class Connection:\n",
    "    def __init__(self, inputs: tuple, operation: str, output: str):\n",
    "        self.inputs = inputs\n",
    "        self.operation = operation\n",
    "        self.output = output\n",
    "        self.degree = 0\n",
    "        self.can_calculate = False\n",
    "\n",
    "    def __str__(self):\n",
    "        return f\"{self.inputs} {self.operation} {self.output}\"\n",
    "\n",
    "\n",
    "def domain_from_input(input: InputReader) -> tuple:\n",
    "    lines = input.lines_as_strs()\n",
    "\n",
    "    wires = {}\n",
    "    connections = []\n",
    "\n",
    "    reading_registers = True\n",
    "    for line in lines:\n",
    "        if len(line) == 0:\n",
    "            reading_registers = False\n",
    "            continue\n",
    "\n",
    "        if reading_registers:\n",
    "            # trim last character of line[0]\n",
    "            wire = line[0][:-1]\n",
    "            wires[wire] = int(line[1])\n",
    "        else:\n",
    "            inputs = (line[0], line[2])\n",
    "            operation = line[1]\n",
    "            output = line[4]\n",
    "            connection = Connection(inputs, operation, output)\n",
    "            connections.append(connection)\n",
    "\n",
    "    return wires, connections\n",
    "\n",
    "\n",
    "test_input, test_connections = domain_from_input(puzzle.example(0))\n",
    "print(test_input, test_connections)"
   ],
   "id": "34dd2d43c40af29b",
   "outputs": [
    {
     "name": "stdout",
     "output_type": "stream",
     "text": [
      "{'x00': 1, 'x01': 1, 'x02': 1, 'y00': 0, 'y01': 1, 'y02': 0} [<__main__.Connection object at 0x10730fcb0>, <__main__.Connection object at 0x1079acf50>, <__main__.Connection object at 0x1079accd0>]\n"
     ]
    }
   ],
   "execution_count": 39
  },
  {
   "metadata": {
    "ExecuteTime": {
     "end_time": "2024-12-24T06:26:49.401588Z",
     "start_time": "2024-12-24T06:26:49.386590Z"
    }
   },
   "cell_type": "code",
   "source": [
    "from matplotlib import pyplot as plt\n",
    "# test case (part 1)\n",
    "import networkx as nx\n",
    "\n",
    "\n",
    "def draw_graph(G):\n",
    "    pos = nx.spring_layout(G)\n",
    "    edge_labels = nx.get_edge_attributes(G, 'label')\n",
    "    nx.draw(G, pos, with_labels=True, node_size=2000, node_color='lightblue', font_size=10, font_weight='bold',\n",
    "            arrows=True)\n",
    "    nx.draw_networkx_edge_labels(G, pos, edge_labels=edge_labels, font_color='red')\n",
    "    plt.show()\n",
    "\n",
    "\n",
    "def calculate_result(wires):\n",
    "    # find wires that start with z\n",
    "    z_wires = [wire for wire in wires if wire.startswith(\"z\")]\n",
    "    # sort wires alphabetically\n",
    "    z_wires = sorted(z_wires, reverse=True)\n",
    "    z_wire_values = [wires[wire] for wire in z_wires]\n",
    "    # concatenate values as a string and convert from binary to decimal\n",
    "    result = int(\"\".join([str(value) for value in z_wire_values]), 2)\n",
    "    return result\n",
    "\n",
    "\n",
    "def part_1(reader: InputReader, debug: bool) -> int:\n",
    "    wires, connections = domain_from_input(reader)\n",
    "\n",
    "    graph = nx.DiGraph()\n",
    "\n",
    "    for connection in connections:\n",
    "        graph.add_edge(connection.inputs[0], connection.output)\n",
    "        graph.add_edge(connection.inputs[1], connection.output)\n",
    "\n",
    "    # find the degree of each node\n",
    "    in_degrees = graph.in_degree()\n",
    "\n",
    "    for connection in connections:\n",
    "        input_degrees = [in_degrees[input_wire] for input_wire in connection.inputs]\n",
    "        connection.degree = max(input_degrees)\n",
    "\n",
    "    # copy connections to queue\n",
    "    queue = connections.copy()\n",
    "\n",
    "    while len(queue) > 0:\n",
    "        # mark connections that can be calculated\n",
    "        for connection in queue:\n",
    "            inputs = connection.inputs\n",
    "            connection.can_calculate = all([input in wires for input in inputs])\n",
    "        # sort by can_calculate\n",
    "        queue.sort(key=lambda x: x.can_calculate, reverse=True)\n",
    "\n",
    "        # calculate connection\n",
    "        connection = queue.pop(0)\n",
    "\n",
    "\n",
    "        inputs = connection.inputs\n",
    "        input_values = [wires[input] for input in inputs]\n",
    "\n",
    "        if connection.operation == \"AND\":\n",
    "            wires[connection.output] = input_values[0] & input_values[1]\n",
    "        elif connection.operation == \"OR\":\n",
    "            wires[connection.output] = input_values[0] | input_values[1]\n",
    "        elif connection.operation == \"XOR\":\n",
    "            wires[connection.output] = input_values[0] ^ input_values[1]\n",
    "\n",
    "    return calculate_result(wires)\n",
    "\n",
    "\n",
    "result = part_1(puzzle.example(0), True)\n",
    "print(result)\n",
    "assert result == 4\n",
    "\n",
    "result = part_1(puzzle.get_code_block(1), True)\n",
    "print(result)\n",
    "assert result == 2024"
   ],
   "id": "6d23892a17117fed",
   "outputs": [
    {
     "name": "stdout",
     "output_type": "stream",
     "text": [
      "4\n",
      "2024\n"
     ]
    }
   ],
   "execution_count": 41
  },
  {
   "metadata": {
    "ExecuteTime": {
     "end_time": "2024-12-24T06:26:51.704233Z",
     "start_time": "2024-12-24T06:26:51.678728Z"
    }
   },
   "cell_type": "code",
   "source": [
    "# real case (part 1)\n",
    "result = part_1(puzzle.input(), False)\n",
    "print(result)"
   ],
   "id": "66cab898e4711d42",
   "outputs": [
    {
     "name": "stdout",
     "output_type": "stream",
     "text": [
      "51715173446832\n"
     ]
    }
   ],
   "execution_count": 42
  },
  {
   "metadata": {},
   "cell_type": "code",
   "source": [
    "# test case (part 2)\n",
    "def part_2(reader: InputReader, debug: bool) -> int:\n",
    "    lines = domain_from_input(reader)\n",
    "    if debug:\n",
    "        print(lines)\n",
    "    return 0\n",
    "\n",
    "\n",
    "result = part_2(puzzle.example(0), True)\n",
    "print(result)\n",
    "assert result == 0"
   ],
   "id": "d2277c7db8ea0a5e",
   "outputs": [],
   "execution_count": null
  },
  {
   "metadata": {},
   "cell_type": "code",
   "source": [
    "# real case (part 2)\n",
    "result = part_2(puzzle.input(), False)\n",
    "print(result)"
   ],
   "id": "57c071f7c6d2914",
   "outputs": [],
   "execution_count": null
  },
  {
   "metadata": {},
   "cell_type": "code",
   "source": [
    "# print easters eggs\n",
    "puzzle.print_easter_eggs()"
   ],
   "id": "44e329cbb6ad2400",
   "outputs": [],
   "execution_count": null
  }
 ],
 "metadata": {
  "kernelspec": {
   "display_name": "Python 3",
   "language": "python",
   "name": "python3"
  },
  "language_info": {
   "codemirror_mode": {
    "name": "ipython",
    "version": 2
   },
   "file_extension": ".py",
   "mimetype": "text/x-python",
   "name": "python",
   "nbconvert_exporter": "python",
   "pygments_lexer": "ipython2",
   "version": "2.7.6"
  }
 },
 "nbformat": 4,
 "nbformat_minor": 5
}
