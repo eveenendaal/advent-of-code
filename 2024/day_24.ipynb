{
 "cells": [
  {
   "cell_type": "code",
   "id": "dec75b3898d7314f",
   "metadata": {
    "ExecuteTime": {
     "end_time": "2024-12-24T13:18:42.432593Z",
     "start_time": "2024-12-24T13:18:42.386864Z"
    }
   },
   "source": [
    "from common.inputreader import InputReader, PuzzleWrapper\n",
    "\n",
    "puzzle = PuzzleWrapper(year=int(\"2024\"), day=int(\"24\"))\n",
    "\n",
    "puzzle.header()"
   ],
   "outputs": [
    {
     "data": {
      "text/plain": [
       "<IPython.core.display.Markdown object>"
      ],
      "text/markdown": "# Crossed Wires"
     },
     "metadata": {},
     "output_type": "display_data"
    },
    {
     "data": {
      "text/plain": [
       "<IPython.core.display.Markdown object>"
      ],
      "text/markdown": "[Open Website](https://adventofcode.com/2024/day/24)"
     },
     "metadata": {},
     "output_type": "display_data"
    }
   ],
   "execution_count": 24
  },
  {
   "cell_type": "code",
   "id": "34dd2d43c40af29b",
   "metadata": {
    "ExecuteTime": {
     "end_time": "2024-12-24T13:18:42.470515Z",
     "start_time": "2024-12-24T13:18:42.456366Z"
    }
   },
   "source": [
    "# helper functions\n",
    "class Connection:\n",
    "    def __init__(self, id: int, inputs: tuple, operation: str, output: str):\n",
    "        self.inputs = inputs\n",
    "        self.operation = operation\n",
    "        self.output = output\n",
    "        self.can_calculate = False\n",
    "        self.id = id\n",
    "\n",
    "    def __str__(self):\n",
    "        return f\"{self.id}: {self.inputs} {self.operation} {self.output}\"\n",
    "\n",
    "\n",
    "def domain_from_input(input: InputReader) -> tuple:\n",
    "    lines = input.lines_as_strs()\n",
    "\n",
    "    wires = {}\n",
    "    connections = []\n",
    "\n",
    "    reading_registers = True\n",
    "    counter = 0\n",
    "    for line in lines:\n",
    "        if len(line) == 0:\n",
    "            reading_registers = False\n",
    "            continue\n",
    "\n",
    "        if reading_registers:\n",
    "            # trim last character of line[0]\n",
    "            wire = line[0][:-1]\n",
    "            wires[wire] = int(line[1])\n",
    "        else:\n",
    "            inputs = (line[0], line[2])\n",
    "            operation = line[1]\n",
    "            output = line[4]\n",
    "            connection = Connection(counter, inputs, operation, output)\n",
    "            connections.append(connection)\n",
    "            counter += 1\n",
    "\n",
    "    return wires, connections\n",
    "\n",
    "\n",
    "test_input, test_connections = domain_from_input(puzzle.example(0))\n",
    "print(test_input, test_connections)"
   ],
   "outputs": [
    {
     "name": "stdout",
     "output_type": "stream",
     "text": [
      "{'x00': 1, 'x01': 1, 'x02': 1, 'y00': 0, 'y01': 1, 'y02': 0} [<__main__.Connection object at 0x107afcd70>, <__main__.Connection object at 0x10c5ebd90>, <__main__.Connection object at 0x10c5ea990>]\n"
     ]
    }
   ],
   "execution_count": 25
  },
  {
   "cell_type": "code",
   "id": "6d23892a17117fed",
   "metadata": {
    "ExecuteTime": {
     "end_time": "2024-12-24T13:18:42.498263Z",
     "start_time": "2024-12-24T13:18:42.479571Z"
    }
   },
   "source": [
    "from matplotlib import pyplot as plt\n",
    "import networkx as nx\n",
    "\n",
    "\n",
    "# test case (part 1)\n",
    "\n",
    "def draw_graph(graph):\n",
    "    pos = nx.spring_layout(graph)\n",
    "    edge_labels = nx.get_edge_attributes(graph, 'label')\n",
    "    nx.draw(graph, pos, with_labels=True, node_size=2000, node_color='lightblue', font_size=10, font_weight='bold',\n",
    "            arrows=True)\n",
    "    nx.draw_networkx_edge_labels(graph, pos, edge_labels=edge_labels, font_color='red')\n",
    "    plt.show()\n",
    "\n",
    "\n",
    "def calculate_result(wires, start) -> (int, list):\n",
    "    # find wires that start with z\n",
    "    subset_wires = [wire for wire in wires if wire.startswith(start)]\n",
    "    # sort wires alphabetically\n",
    "    subset_wires = sorted(subset_wires, reverse=True)\n",
    "    subset_wire_values = [wires[wire] for wire in subset_wires]\n",
    "    # concatenate values as a string and convert from binary to decimal\n",
    "    return int(\"\".join([str(value) for value in subset_wire_values]), 2), subset_wire_values\n",
    "\n",
    "\n",
    "def part_1(reader: InputReader, debug: bool) -> int:\n",
    "    wires, connections = domain_from_input(reader)\n",
    "\n",
    "    graph = nx.DiGraph()\n",
    "\n",
    "    for connection in connections:\n",
    "        graph.add_edge(connection.inputs[0], connection.output)\n",
    "        graph.add_edge(connection.inputs[1], connection.output)\n",
    "\n",
    "    # copy connections to queue\n",
    "    queue = connections.copy()\n",
    "\n",
    "    while len(queue) > 0:\n",
    "        # mark connections that can be calculated\n",
    "        for connection in queue:\n",
    "            inputs = connection.inputs\n",
    "            connection.can_calculate = all([input in wires for input in inputs])\n",
    "        # sort by can_calculate\n",
    "        queue.sort(key=lambda x: x.can_calculate, reverse=True)\n",
    "\n",
    "        # calculate connection\n",
    "        connection = queue.pop(0)\n",
    "\n",
    "        inputs = connection.inputs\n",
    "        input_values = [wires[input] for input in inputs]\n",
    "\n",
    "        if connection.operation == \"AND\":\n",
    "            wires[connection.output] = input_values[0] & input_values[1]\n",
    "        elif connection.operation == \"OR\":\n",
    "            wires[connection.output] = input_values[0] | input_values[1]\n",
    "        elif connection.operation == \"XOR\":\n",
    "            wires[connection.output] = input_values[0] ^ input_values[1]\n",
    "\n",
    "    total, _ = calculate_result(wires, \"z\")\n",
    "    return total\n",
    "\n",
    "\n",
    "result = part_1(puzzle.example(0), True)\n",
    "print(result)\n",
    "assert result == 4\n",
    "\n",
    "result = part_1(puzzle.get_code_block(1), True)\n",
    "print(result)\n",
    "assert result == 2024"
   ],
   "outputs": [
    {
     "name": "stdout",
     "output_type": "stream",
     "text": [
      "4\n",
      "2024\n"
     ]
    }
   ],
   "execution_count": 26
  },
  {
   "cell_type": "code",
   "id": "66cab898e4711d42",
   "metadata": {
    "ExecuteTime": {
     "end_time": "2024-12-24T13:18:42.512683Z",
     "start_time": "2024-12-24T13:18:42.504222Z"
    }
   },
   "source": [
    "# real case (part 1)\n",
    "result = part_1(puzzle.input(), False)\n",
    "print(result)\n",
    "assert result == 51715173446832"
   ],
   "outputs": [
    {
     "name": "stdout",
     "output_type": "stream",
     "text": [
      "51715173446832\n"
     ]
    }
   ],
   "execution_count": 27
  },
  {
   "cell_type": "code",
   "id": "d2277c7db8ea0a5e",
   "metadata": {
    "ExecuteTime": {
     "end_time": "2024-12-24T13:18:42.531830Z",
     "start_time": "2024-12-24T13:18:42.520983Z"
    }
   },
   "source": [
    "import math\n",
    "from itertools import combinations\n",
    "\n",
    "\n",
    "# test case (part 2)\n",
    "def run(wires, connections):\n",
    "    wires = wires.copy()\n",
    "    # copy connections to queue\n",
    "    queue = connections.copy()\n",
    "\n",
    "    while len(queue) > 0:\n",
    "        # mark connections that can be calculated\n",
    "        for connection in queue:\n",
    "            inputs = connection.inputs\n",
    "            connection.can_calculate = all([input in wires for input in inputs])\n",
    "        # sort by can_calculate\n",
    "        queue.sort(key=lambda x: x.can_calculate, reverse=True)\n",
    "\n",
    "        # calculate connection\n",
    "        connection = queue.pop(0)\n",
    "\n",
    "        inputs = connection.inputs\n",
    "        input_values = [wires[input] for input in inputs]\n",
    "\n",
    "        if connection.operation == \"AND\":\n",
    "            wires[connection.output] = input_values[0] & input_values[1]\n",
    "        elif connection.operation == \"OR\":\n",
    "            wires[connection.output] = input_values[0] | input_values[1]\n",
    "        elif connection.operation == \"XOR\":\n",
    "            wires[connection.output] = input_values[0] ^ input_values[1]\n",
    "\n",
    "    return wires\n",
    "\n",
    "\n",
    "def test_wires(wires) -> bool:\n",
    "    _, x_values = calculate_result(wires, \"x\")\n",
    "    _, y_values = calculate_result(wires, \"y\")\n",
    "    _, z_values = calculate_result(wires, \"z\")\n",
    "\n",
    "    # perform binary addition of x and y\n",
    "    solution = []\n",
    "    for i in range(len(x_values)):\n",
    "        solution.append(x_values[i] & y_values[i])\n",
    "\n",
    "    return solution == z_values\n",
    "\n",
    "\n",
    "def part_2(reader: InputReader, pair_count: int, debug: bool) -> int:\n",
    "    initial_wires, connections = domain_from_input(reader)\n",
    "    connection_map = {connection.id: connection for connection in connections}\n",
    "\n",
    "    if debug:\n",
    "        print(f\"Initial wires: {initial_wires} and connections: {connections}\")\n",
    "\n",
    "    # find all the pairs of connections\n",
    "    pairs = list(combinations(connection_map.values(), 2))\n",
    "\n",
    "    def generate_sets(pairs, pair_count):\n",
    "        for set in combinations(pairs, pair_count):\n",
    "            yield set\n",
    "\n",
    "    def swap_pair(pair):\n",
    "        connection1, connection2 = pair\n",
    "        id1, id2 = connection1.id, connection2.id\n",
    "        connection_map[id1].output, connection_map[id2].output = connection_map[id2].output, connection_map[id1].output\n",
    "\n",
    "    def swap_set(set):\n",
    "        for pair in set:\n",
    "            swap_pair(pair)\n",
    "\n",
    "    tested_pairs = []\n",
    "\n",
    "    for next_set in generate_sets(pairs, pair_count):\n",
    "\n",
    "        outputs = []\n",
    "        original_map = {}\n",
    "        for pair in next_set:\n",
    "            pair = sorted(pair, key=lambda x: x.output)\n",
    "            connection1, connection2 = pair\n",
    "            outputs.append(connection1.output)\n",
    "            outputs.append(connection2.output)\n",
    "            original_map[connection1.id] = connection1.output\n",
    "            original_map[connection2.id] = connection2.output\n",
    "\n",
    "        if len(set(outputs)) != pair_count * 2:\n",
    "            continue\n",
    "\n",
    "        current_set = \",\".join(sorted(outputs))\n",
    "\n",
    "        if outputs in tested_pairs:\n",
    "            continue\n",
    "        tested_pairs.append(outputs)\n",
    "\n",
    "        # for each pair of pairs, swap the outputs\n",
    "        swap_set(next_set)\n",
    "\n",
    "        # run the connections\n",
    "        result = run(initial_wires, list(connection_map.values()))\n",
    "        if test_wires(result):\n",
    "            return current_set\n",
    "\n",
    "        # swap back    \n",
    "        for id, value in original_map.items():\n",
    "            connection_map[id].output = value\n",
    "\n",
    "    raise Exception(\"No solution found\")\n",
    "\n",
    "\n",
    "result = part_2(puzzle.get_code_block(5), 2, True)\n",
    "print(result)\n",
    "assert result == \"z00,z01,z02,z05\""
   ],
   "outputs": [
    {
     "name": "stdout",
     "output_type": "stream",
     "text": [
      "Initial wires: {'x00': 0, 'x01': 1, 'x02': 0, 'x03': 1, 'x04': 0, 'x05': 1, 'y00': 0, 'y01': 0, 'y02': 1, 'y03': 1, 'y04': 0, 'y05': 1} and connections: [<__main__.Connection object at 0x10c5c5400>, <__main__.Connection object at 0x10c5c56a0>, <__main__.Connection object at 0x10c5c5a90>, <__main__.Connection object at 0x10c5c5b00>, <__main__.Connection object at 0x10c5c5b70>, <__main__.Connection object at 0x10c5c52b0>]\n",
      "z00,z01,z02,z05\n"
     ]
    }
   ],
   "execution_count": 28
  },
  {
   "cell_type": "code",
   "id": "86a3483826a47676",
   "metadata": {
    "ExecuteTime": {
     "end_time": "2024-12-24T13:18:42.549207Z",
     "start_time": "2024-12-24T13:18:42.537834Z"
    }
   },
   "source": [
    "def part_2(reader: InputReader, debug: bool) -> str:\n",
    "    wires, operations = domain_from_input(reader)\n",
    "    output = run(wires, operations)\n",
    "    highest_z = sorted([wire for wire in output.keys() if wire.startswith(\"z\")])[-1]\n",
    "\n",
    "    wrong = set()\n",
    "    for operation in operations:\n",
    "        input1, input2 = operation.inputs\n",
    "        operation_type = operation.operation\n",
    "        output = operation.output\n",
    "\n",
    "        # everything but the last z should be an XOR\n",
    "        if output[0] == \"z\" and operation_type != \"XOR\" and output != highest_z:\n",
    "            wrong.add(output)\n",
    "\n",
    "        # all the internal operations should not be an XOR\n",
    "        elif (\n",
    "                operation_type == \"XOR\"\n",
    "                and output[0] not in [\"x\", \"y\", \"z\"]\n",
    "                and input1[0] not in [\"x\", \"y\", \"z\"]\n",
    "                and input2[0] not in [\"x\", \"y\", \"z\"]\n",
    "        ):\n",
    "            wrong.add(output)\n",
    "\n",
    "        # all the internal operations should not be an AND, except for x00\n",
    "        elif operation_type == \"AND\" and \"x00\" not in operation.inputs:\n",
    "            for suboperation in operations:\n",
    "                if (output in suboperation.inputs) and suboperation.operation != \"OR\":\n",
    "                    wrong.add(output)\n",
    "\n",
    "        # all the internal operations should not be an OR\n",
    "        elif operation_type == \"XOR\":\n",
    "            for suboperation in operations:\n",
    "                if (output in suboperation.inputs) and suboperation.operation == \"OR\":\n",
    "                    wrong.add(output)\n",
    "\n",
    "    return \",\".join(sorted(wrong))\n",
    "\n",
    "\n",
    "result = part_2(puzzle.input(), False)\n",
    "print(result)\n",
    "assert result == 'dpg,kmb,mmf,tvp,vdk,z10,z15,z25'"
   ],
   "outputs": [
    {
     "name": "stdout",
     "output_type": "stream",
     "text": [
      "dpg,kmb,mmf,tvp,vdk,z10,z15,z25\n"
     ]
    }
   ],
   "execution_count": 29
  },
  {
   "cell_type": "code",
   "id": "44e329cbb6ad2400",
   "metadata": {
    "ExecuteTime": {
     "end_time": "2024-12-24T13:18:42.561007Z",
     "start_time": "2024-12-24T13:18:42.556765Z"
    }
   },
   "source": [
    "# print easters eggs\n",
    "puzzle.print_easter_eggs()"
   ],
   "outputs": [
    {
     "data": {
      "text/plain": [
       "<IPython.core.display.Markdown object>"
      ],
      "text/markdown": "## Easter Eggs"
     },
     "metadata": {},
     "output_type": "display_data"
    },
    {
     "data": {
      "text/plain": [
       "<IPython.core.display.Markdown object>"
      ],
      "text/markdown": "<span title=\"ENHANCE\">forensic analysis</span> (ENHANCE)"
     },
     "metadata": {},
     "output_type": "display_data"
    }
   ],
   "execution_count": 30
  }
 ],
 "metadata": {
  "kernelspec": {
   "display_name": "Python 3",
   "language": "python",
   "name": "python3"
  },
  "language_info": {
   "codemirror_mode": {
    "name": "ipython",
    "version": 3
   },
   "file_extension": ".py",
   "mimetype": "text/x-python",
   "name": "python",
   "nbconvert_exporter": "python",
   "pygments_lexer": "ipython3",
   "version": "3.12.1"
  }
 },
 "nbformat": 4,
 "nbformat_minor": 5
}
