{
 "cells": [
  {
   "cell_type": "code",
   "execution_count": 1,
   "id": "dec75b3898d7314f",
   "metadata": {
    "ExecuteTime": {
     "end_time": "2024-12-22T17:59:30.861291Z",
     "start_time": "2024-12-22T17:59:30.771437Z"
    },
    "execution": {
     "iopub.execute_input": "2024-12-23T13:07:53.133701Z",
     "iopub.status.busy": "2024-12-23T13:07:53.133473Z",
     "iopub.status.idle": "2024-12-23T13:07:54.210654Z",
     "shell.execute_reply": "2024-12-23T13:07:54.210125Z"
    }
   },
   "outputs": [
    {
     "data": {
      "text/markdown": [
       "# Keypad Conundrum"
      ],
      "text/plain": [
       "<IPython.core.display.Markdown object>"
      ]
     },
     "metadata": {},
     "output_type": "display_data"
    },
    {
     "data": {
      "text/markdown": [
       "[Open Website](https://adventofcode.com/2024/day/21)"
      ],
      "text/plain": [
       "<IPython.core.display.Markdown object>"
      ]
     },
     "metadata": {},
     "output_type": "display_data"
    }
   ],
   "source": [
    "from common.inputreader import InputReader, PuzzleWrapper\n",
    "\n",
    "puzzle = PuzzleWrapper(year=2024, day=int(\"21\"))\n",
    "\n",
    "puzzle.header()"
   ]
  },
  {
   "cell_type": "code",
   "execution_count": 2,
   "id": "69f312d146be60fd",
   "metadata": {
    "ExecuteTime": {
     "end_time": "2024-12-22T17:59:30.878685Z",
     "start_time": "2024-12-22T17:59:30.870679Z"
    },
    "execution": {
     "iopub.execute_input": "2024-12-23T13:07:54.212917Z",
     "iopub.status.busy": "2024-12-23T13:07:54.212742Z",
     "iopub.status.idle": "2024-12-23T13:07:54.222892Z",
     "shell.execute_reply": "2024-12-23T13:07:54.222445Z"
    }
   },
   "outputs": [
    {
     "name": "stdout",
     "output_type": "stream",
     "text": [
      "126384\n"
     ]
    }
   ],
   "source": [
    "from functools import cache\n",
    "import re\n",
    "from common.matrix import Matrix, MatrixNavigator, Direction\n",
    "\n",
    "number_pad = Matrix([\n",
    "    ['7', '8', '9'],\n",
    "    ['4', '5', '6'],\n",
    "    ['1', '2', '3'],\n",
    "    [None, '0', 'A']\n",
    "])\n",
    "\n",
    "direction_pad = Matrix([\n",
    "    [None, '^', 'A'],\n",
    "    ['<', 'v', '>']\n",
    "])\n",
    "\n",
    "direction_map = {\n",
    "    Direction.UP: '^',\n",
    "    Direction.DOWN: 'v',\n",
    "    Direction.LEFT: '<',\n",
    "    Direction.RIGHT: '>'\n",
    "}\n",
    "directions = direction_map.keys()\n",
    "\n",
    "\n",
    "def direction_string(direction: Direction) -> str:\n",
    "    return \"A\" if direction is None else direction_map[direction]\n",
    "\n",
    "\n",
    "def find_solutions(matrix, start, end):\n",
    "    to_check = [(matrix.find(start), '')]\n",
    "    target = matrix.find(end)\n",
    "\n",
    "    while to_check:\n",
    "        current_position, path = to_check.pop()\n",
    "\n",
    "        # check if we are at the target\n",
    "        if current_position == target:\n",
    "            yield path\n",
    "            continue\n",
    "\n",
    "        # check if we can move to the target\n",
    "        y_diff = target[1] - current_position[1]\n",
    "        x_diff = target[0] - current_position[0]\n",
    "\n",
    "        potential_directions = []\n",
    "        if x_diff > 0:\n",
    "            potential_directions.append(Direction.RIGHT)\n",
    "        elif x_diff < 0:\n",
    "            potential_directions.append(Direction.LEFT)\n",
    "        if y_diff > 0:\n",
    "            potential_directions.append(Direction.DOWN)\n",
    "        elif y_diff < 0:\n",
    "            potential_directions.append(Direction.UP)\n",
    "\n",
    "        for direction in potential_directions:\n",
    "            pointer = MatrixNavigator(matrix, *current_position)\n",
    "            if pointer.move(direction):\n",
    "                to_check.append((pointer.current_position, path + direction_string(direction)))\n",
    "\n",
    "\n",
    "@cache\n",
    "def find_min_distance(is_key_pad: bool, code: str, robots: int) -> int:\n",
    "    if is_key_pad:\n",
    "        matrix = number_pad\n",
    "    else:\n",
    "        matrix = direction_pad\n",
    "\n",
    "    if robots == 0:\n",
    "        return len(code)\n",
    "\n",
    "    start = 'A'\n",
    "    minimal_length = 0\n",
    "\n",
    "    for letter in code:\n",
    "        candidates = []\n",
    "        for solution in find_solutions(matrix, start, letter):\n",
    "            candidates.append(find_min_distance(False, solution + 'A', robots - 1))\n",
    "        minimal_length += min(candidates)\n",
    "        start = letter\n",
    "\n",
    "    return minimal_length\n",
    "\n",
    "\n",
    "def get_multiplier(line: str) -> int:\n",
    "    digits = re.compile(r'\\d+')\n",
    "    return int(digits.findall(line)[0])\n",
    "\n",
    "\n",
    "def part_1(task_input):\n",
    "    iterations = 3\n",
    "    return sum(find_min_distance(True, code, iterations) * get_multiplier(code) for code in task_input)\n",
    "\n",
    "\n",
    "result = part_1([\"029A\", \"980A\", \"179A\", \"456A\", \"379A\"])\n",
    "print(result)\n",
    "assert result == 126384"
   ]
  },
  {
   "cell_type": "code",
   "execution_count": 3,
   "id": "66cab898e4711d42",
   "metadata": {
    "ExecuteTime": {
     "end_time": "2024-12-22T17:59:30.957202Z",
     "start_time": "2024-12-22T17:59:30.953479Z"
    },
    "execution": {
     "iopub.execute_input": "2024-12-23T13:07:54.225448Z",
     "iopub.status.busy": "2024-12-23T13:07:54.224979Z",
     "iopub.status.idle": "2024-12-23T13:07:54.341352Z",
     "shell.execute_reply": "2024-12-23T13:07:54.340761Z"
    }
   },
   "outputs": [
    {
     "data": {
      "text/plain": [
       "176650"
      ]
     },
     "metadata": {},
     "output_type": "display_data"
    }
   ],
   "source": [
    "# real case (part 1)\n",
    "result = part_1(puzzle.input().lines_as_str())\n",
    "display(result)\n",
    "assert result == 176650"
   ]
  },
  {
   "cell_type": "code",
   "execution_count": 4,
   "id": "d2277c7db8ea0a5e",
   "metadata": {
    "ExecuteTime": {
     "end_time": "2024-12-22T17:59:30.972911Z",
     "start_time": "2024-12-22T17:59:30.968763Z"
    },
    "execution": {
     "iopub.execute_input": "2024-12-23T13:07:54.343778Z",
     "iopub.status.busy": "2024-12-23T13:07:54.343565Z",
     "iopub.status.idle": "2024-12-23T13:07:54.347770Z",
     "shell.execute_reply": "2024-12-23T13:07:54.347292Z"
    }
   },
   "outputs": [
    {
     "data": {
      "text/plain": [
       "126384"
      ]
     },
     "metadata": {},
     "output_type": "display_data"
    }
   ],
   "source": [
    "# test case (part 2)\n",
    "def part_2(task_input):\n",
    "    iterations = 26\n",
    "    return sum(find_min_distance(True, code, iterations) * get_multiplier(code) for code in task_input)\n",
    "\n",
    "\n",
    "result = part_1([\"029A\", \"980A\", \"179A\", \"456A\", \"379A\"])\n",
    "display(result)\n",
    "assert result == 126384"
   ]
  },
  {
   "cell_type": "code",
   "execution_count": 5,
   "id": "57c071f7c6d2914",
   "metadata": {
    "ExecuteTime": {
     "end_time": "2024-12-22T17:59:30.990768Z",
     "start_time": "2024-12-22T17:59:30.981097Z"
    },
    "execution": {
     "iopub.execute_input": "2024-12-23T13:07:54.350054Z",
     "iopub.status.busy": "2024-12-23T13:07:54.349873Z",
     "iopub.status.idle": "2024-12-23T13:07:54.368869Z",
     "shell.execute_reply": "2024-12-23T13:07:54.368533Z"
    }
   },
   "outputs": [
    {
     "data": {
      "text/plain": [
       "217698355426872"
      ]
     },
     "metadata": {},
     "output_type": "display_data"
    }
   ],
   "source": [
    "# real case (part 2)\n",
    "result = part_2(puzzle.input().lines_as_str())\n",
    "display(result)\n",
    "assert result == 217698355426872"
   ]
  },
  {
   "cell_type": "code",
   "execution_count": 6,
   "id": "44e329cbb6ad2400",
   "metadata": {
    "ExecuteTime": {
     "end_time": "2024-12-22T17:59:31.014684Z",
     "start_time": "2024-12-22T17:59:31.008771Z"
    },
    "execution": {
     "iopub.execute_input": "2024-12-23T13:07:54.370581Z",
     "iopub.status.busy": "2024-12-23T13:07:54.370415Z",
     "iopub.status.idle": "2024-12-23T13:07:54.376245Z",
     "shell.execute_reply": "2024-12-23T13:07:54.375835Z"
    }
   },
   "outputs": [
    {
     "data": {
      "text/markdown": [
       "## Easter Eggs"
      ],
      "text/plain": [
       "<IPython.core.display.Markdown object>"
      ]
     },
     "metadata": {},
     "output_type": "display_data"
    },
    {
     "data": {
      "text/markdown": [
       "<span title=\"bum bum BUUUUUM\">this entire time</span> (bum bum BUUUUUM)"
      ],
      "text/plain": [
       "<IPython.core.display.Markdown object>"
      ]
     },
     "metadata": {},
     "output_type": "display_data"
    }
   ],
   "source": [
    "# print easters eggs\n",
    "puzzle.print_easter_eggs()"
   ]
  },
  {
   "cell_type": "code",
   "execution_count": null,
   "id": "29ac314bd7e0e70a",
   "metadata": {
    "ExecuteTime": {
     "end_time": "2024-12-22T17:59:31.038987Z",
     "start_time": "2024-12-22T17:59:31.037105Z"
    }
   },
   "outputs": [],
   "source": []
  }
 ],
 "metadata": {
  "kernelspec": {
   "display_name": "Python 3",
   "language": "python",
   "name": "python3"
  },
  "language_info": {
   "codemirror_mode": {
    "name": "ipython",
    "version": 3
   },
   "file_extension": ".py",
   "mimetype": "text/x-python",
   "name": "python",
   "nbconvert_exporter": "python",
   "pygments_lexer": "ipython3",
   "version": "3.13.0"
  }
 },
 "nbformat": 4,
 "nbformat_minor": 5
}
