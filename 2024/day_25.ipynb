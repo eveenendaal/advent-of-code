{
 "cells": [
  {
   "cell_type": "code",
   "execution_count": 3,
   "id": "dec75b3898d7314f",
   "metadata": {},
   "outputs": [
    {
     "data": {
      "text/markdown": [
       "# Code Chronicle"
      ],
      "text/plain": [
       "<IPython.core.display.Markdown object>"
      ]
     },
     "metadata": {},
     "output_type": "display_data"
    },
    {
     "data": {
      "text/markdown": [
       "[Open Website](https://adventofcode.com/2024/day/25)"
      ],
      "text/plain": [
       "<IPython.core.display.Markdown object>"
      ]
     },
     "metadata": {},
     "output_type": "display_data"
    }
   ],
   "source": [
    "from common.inputreader import InputReader, PuzzleWrapper\n",
    "\n",
    "puzzle = PuzzleWrapper(year=int(\"2024\"), day=int(\"25\"))\n",
    "\n",
    "puzzle.header()"
   ]
  },
  {
   "cell_type": "code",
   "id": "34dd2d43c40af29b",
   "metadata": {
    "ExecuteTime": {
     "end_time": "2024-12-25T06:31:49.299837Z",
     "start_time": "2024-12-25T06:31:49.290330Z"
    }
   },
   "source": [
    "# helper functions\n",
    "def domain_from_input(input: InputReader) -> (list, list):\n",
    "    keys = []\n",
    "    locks = []\n",
    "    lines = input.lines_as_str()\n",
    "    new_set = []\n",
    "    is_key = False\n",
    "\n",
    "    for line in lines:\n",
    "        if len(line) == 0:\n",
    "            if len(new_set) != 0:\n",
    "                if is_key:\n",
    "                    keys.append(new_set)\n",
    "                else:\n",
    "                    locks.append(new_set)\n",
    "\n",
    "            new_set = []\n",
    "            continue\n",
    "\n",
    "        if len(new_set) == 0:\n",
    "            # if all #'s it's a lock\n",
    "            if all(char == '#' for char in line):\n",
    "                is_key = False\n",
    "            else:\n",
    "                is_key = True\n",
    "\n",
    "            for char in list(line):\n",
    "                new_set.append([char])\n",
    "            continue\n",
    "\n",
    "        for i in range(len(line)):\n",
    "            char = line[i]\n",
    "            new_set[i].append(char)\n",
    "\n",
    "    if len(new_set) != 0:\n",
    "        if is_key:\n",
    "            keys.append(new_set)\n",
    "        else:\n",
    "            locks.append(new_set)\n",
    "\n",
    "    for key in keys:\n",
    "        # replace key with number of #'s in the key\n",
    "        for i in range(len(key)):\n",
    "            key[i] = key[i].count('#')\n",
    "\n",
    "    for lock in locks:\n",
    "        # replace lock with number of #'s in the lock\n",
    "        for i in range(len(lock)):\n",
    "            lock[i] = lock[i].count('#')\n",
    "\n",
    "    return keys, locks\n",
    "\n",
    "\n",
    "test_keys, test_locks = domain_from_input(puzzle.example(0))\n",
    "print(test_keys, test_locks)"
   ],
   "outputs": [
    {
     "name": "stdout",
     "output_type": "stream",
     "text": [
      "[[6, 1, 3, 2, 4], [5, 4, 5, 1, 3], [4, 1, 3, 1, 2]] [[1, 6, 4, 5, 4], [2, 3, 1, 6, 4]]\n"
     ]
    }
   ],
   "execution_count": 8
  },
  {
   "cell_type": "code",
   "id": "6d23892a17117fed",
   "metadata": {
    "ExecuteTime": {
     "end_time": "2024-12-25T06:35:46.787803Z",
     "start_time": "2024-12-25T06:35:46.746443Z"
    }
   },
   "source": [
    "# test case (part 1)\n",
    "def find_combinations(keys, locks):\n",
    "    combinations = []\n",
    "    for key in keys:\n",
    "        for lock in locks:\n",
    "            combinations.append((key, lock))\n",
    "    return combinations\n",
    "\n",
    "\n",
    "def part_1(reader: InputReader, debug: bool) -> int:\n",
    "    keys, locks = domain_from_input(reader)\n",
    "    combinations = find_combinations(keys, locks)\n",
    "    total = 0\n",
    "    for combo in combinations:\n",
    "        valid = True\n",
    "        for i in range(len(combo[0])):\n",
    "            total = combo[0][i] + combo[1][i]\n",
    "            if total > 5:\n",
    "                valid = False\n",
    "                break\n",
    "\n",
    "        if valid:\n",
    "            total += 1\n",
    "\n",
    "    return total\n",
    "\n",
    "\n",
    "result = part_1(puzzle.example(0), True)\n",
    "print(result)\n",
    "assert result == 3"
   ],
   "outputs": [
    {
     "name": "stdout",
     "output_type": "stream",
     "text": [
      "6\n"
     ]
    },
    {
     "ename": "AssertionError",
     "evalue": "",
     "output_type": "error",
     "traceback": [
      "\u001B[0;31m---------------------------------------------------------------------------\u001B[0m",
      "\u001B[0;31mAssertionError\u001B[0m                            Traceback (most recent call last)",
      "Cell \u001B[0;32mIn[16], line 30\u001B[0m\n\u001B[1;32m     28\u001B[0m result \u001B[38;5;241m=\u001B[39m part_1(puzzle\u001B[38;5;241m.\u001B[39mexample(\u001B[38;5;241m0\u001B[39m), \u001B[38;5;28;01mTrue\u001B[39;00m)\n\u001B[1;32m     29\u001B[0m \u001B[38;5;28mprint\u001B[39m(result)\n\u001B[0;32m---> 30\u001B[0m \u001B[38;5;28;01massert\u001B[39;00m result \u001B[38;5;241m==\u001B[39m \u001B[38;5;241m3\u001B[39m\n",
      "\u001B[0;31mAssertionError\u001B[0m: "
     ]
    }
   ],
   "execution_count": 16
  },
  {
   "cell_type": "code",
   "id": "66cab898e4711d42",
   "metadata": {
    "ExecuteTime": {
     "end_time": "2024-12-25T06:35:36.762333Z",
     "start_time": "2024-12-25T06:35:36.249200Z"
    }
   },
   "source": [
    "# real case (part 1)\n",
    "result = part_1(puzzle.input(), False)\n",
    "print(result)"
   ],
   "outputs": [
    {
     "name": "stdout",
     "output_type": "stream",
     "text": [
      "3.5\n"
     ]
    }
   ],
   "execution_count": 15
  },
  {
   "cell_type": "code",
   "execution_count": null,
   "id": "d2277c7db8ea0a5e",
   "metadata": {},
   "outputs": [],
   "source": [
    "# test case (part 2)\n",
    "def part_2(reader: InputReader, debug: bool) -> int:\n",
    "    lines = domain_from_input(reader)\n",
    "    if debug:\n",
    "        print(lines)\n",
    "    return 0\n",
    "\n",
    "\n",
    "result = part_2(puzzle.example(0), True)\n",
    "print(result)\n",
    "assert result == 0"
   ]
  },
  {
   "cell_type": "code",
   "execution_count": null,
   "id": "57c071f7c6d2914",
   "metadata": {},
   "outputs": [],
   "source": [
    "# real case (part 2)\n",
    "result = part_2(puzzle.input(), False)\n",
    "print(result)"
   ]
  },
  {
   "cell_type": "code",
   "execution_count": null,
   "id": "44e329cbb6ad2400",
   "metadata": {},
   "outputs": [],
   "source": [
    "# print easters eggs\n",
    "puzzle.print_easter_eggs()"
   ]
  }
 ],
 "metadata": {
  "kernelspec": {
   "display_name": ".venv",
   "language": "python",
   "name": "python3"
  },
  "language_info": {
   "codemirror_mode": {
    "name": "ipython",
    "version": 3
   },
   "file_extension": ".py",
   "mimetype": "text/x-python",
   "name": "python",
   "nbconvert_exporter": "python",
   "pygments_lexer": "ipython3",
   "version": "3.12.1"
  }
 },
 "nbformat": 4,
 "nbformat_minor": 5
}
