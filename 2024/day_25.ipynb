{
 "cells": [
  {
   "cell_type": "code",
   "id": "dec75b3898d7314f",
   "metadata": {
    "ExecuteTime": {
     "end_time": "2024-12-25T18:26:22.094223Z",
     "start_time": "2024-12-25T18:26:22.014410Z"
    }
   },
   "source": [
    "from common.inputreader import InputReader, PuzzleWrapper\n",
    "\n",
    "puzzle = PuzzleWrapper(year=int(\"2024\"), day=int(\"25\"))\n",
    "\n",
    "puzzle.header()"
   ],
   "outputs": [
    {
     "data": {
      "text/plain": [
       "<IPython.core.display.Markdown object>"
      ],
      "text/markdown": "# Code Chronicle"
     },
     "metadata": {},
     "output_type": "display_data"
    },
    {
     "data": {
      "text/plain": [
       "<IPython.core.display.Markdown object>"
      ],
      "text/markdown": "[Open Website](https://adventofcode.com/2024/day/25)"
     },
     "metadata": {},
     "output_type": "display_data"
    }
   ],
   "execution_count": 1
  },
  {
   "cell_type": "code",
   "id": "34dd2d43c40af29b",
   "metadata": {
    "ExecuteTime": {
     "end_time": "2024-12-25T18:26:22.160616Z",
     "start_time": "2024-12-25T18:26:22.136102Z"
    }
   },
   "source": [
    "# helper functions\n",
    "def domain_from_input(input: InputReader) -> (list, list):\n",
    "    keys = []\n",
    "    locks = []\n",
    "    lines = input.lines_as_str()\n",
    "    new_set = []\n",
    "    is_key = False\n",
    "\n",
    "    for line in lines:\n",
    "        if len(line) == 0:\n",
    "            if len(new_set) != 0:\n",
    "                if is_key:\n",
    "                    keys.append(new_set)\n",
    "                else:\n",
    "                    locks.append(new_set)\n",
    "\n",
    "            new_set = []\n",
    "            continue\n",
    "\n",
    "        if len(new_set) == 0:\n",
    "            # if all #'s it's a lock\n",
    "            if all(char == '#' for char in line):\n",
    "                is_key = False\n",
    "            else:\n",
    "                is_key = True\n",
    "\n",
    "            for char in list(line):\n",
    "                new_set.append([char])\n",
    "            continue\n",
    "\n",
    "        for i in range(len(line)):\n",
    "            char = line[i]\n",
    "            new_set[i].append(char)\n",
    "\n",
    "    if len(new_set) != 0:\n",
    "        if is_key:\n",
    "            keys.append(new_set)\n",
    "        else:\n",
    "            locks.append(new_set)\n",
    "\n",
    "    for key in keys:\n",
    "        # replace key with number of #'s in the key\n",
    "        for i in range(len(key)):\n",
    "            key[i] = key[i].count('#') - 1\n",
    "\n",
    "    for lock in locks:\n",
    "        # replace lock with number of #'s in the lock\n",
    "        for i in range(len(lock)):\n",
    "            lock[i] = lock[i].count('#') - 1\n",
    "\n",
    "    return keys, locks\n",
    "\n",
    "\n",
    "test_keys, test_locks = domain_from_input(puzzle.example(0))\n",
    "print(f'Test keys: {test_keys}')\n",
    "print(f'Test locks: {test_locks}')"
   ],
   "outputs": [
    {
     "name": "stdout",
     "output_type": "stream",
     "text": [
      "Test keys: [[5, 0, 2, 1, 3], [4, 3, 4, 0, 2], [3, 0, 2, 0, 1]]\n",
      "Test locks: [[0, 5, 3, 4, 3], [1, 2, 0, 5, 3]]\n"
     ]
    }
   ],
   "execution_count": 2
  },
  {
   "cell_type": "code",
   "id": "6d23892a17117fed",
   "metadata": {
    "ExecuteTime": {
     "end_time": "2024-12-25T18:26:22.269389Z",
     "start_time": "2024-12-25T18:26:22.261173Z"
    }
   },
   "source": [
    "# test case (part 1)\n",
    "def find_combinations(keys, locks):\n",
    "    combinations = []\n",
    "    for key in keys:\n",
    "        for lock in locks:\n",
    "            combinations.append((key, lock))\n",
    "    return combinations\n",
    "\n",
    "\n",
    "def part_1(reader: InputReader, debug: bool) -> int:\n",
    "    keys, locks = domain_from_input(reader)\n",
    "    combinations = find_combinations(keys, locks)\n",
    "    valid_count = 0\n",
    "    for combo in combinations:\n",
    "        valid = True\n",
    "        totals = []\n",
    "        for i in range(len(combo[0])):\n",
    "            totals.append(combo[0][i] + combo[1][i])\n",
    "\n",
    "        if debug:\n",
    "            print(f'Combo: {combo}')\n",
    "            print(f'Totals: {totals}')\n",
    "\n",
    "        # if any total is more then 5 it's invalid\n",
    "        for total in totals:\n",
    "            if total > 5:\n",
    "                valid = False\n",
    "                break\n",
    "\n",
    "        if valid:\n",
    "            valid_count += 1\n",
    "\n",
    "    return valid_count\n",
    "\n",
    "\n",
    "result = part_1(puzzle.example(0), True)\n",
    "print(result)\n",
    "assert result == 3"
   ],
   "outputs": [
    {
     "name": "stdout",
     "output_type": "stream",
     "text": [
      "Combo: ([5, 0, 2, 1, 3], [0, 5, 3, 4, 3])\n",
      "Totals: [5, 5, 5, 5, 6]\n",
      "Combo: ([5, 0, 2, 1, 3], [1, 2, 0, 5, 3])\n",
      "Totals: [6, 2, 2, 6, 6]\n",
      "Combo: ([4, 3, 4, 0, 2], [0, 5, 3, 4, 3])\n",
      "Totals: [4, 8, 7, 4, 5]\n",
      "Combo: ([4, 3, 4, 0, 2], [1, 2, 0, 5, 3])\n",
      "Totals: [5, 5, 4, 5, 5]\n",
      "Combo: ([3, 0, 2, 0, 1], [0, 5, 3, 4, 3])\n",
      "Totals: [3, 5, 5, 4, 4]\n",
      "Combo: ([3, 0, 2, 0, 1], [1, 2, 0, 5, 3])\n",
      "Totals: [4, 2, 2, 5, 4]\n",
      "3\n"
     ]
    }
   ],
   "execution_count": 3
  },
  {
   "cell_type": "code",
   "id": "66cab898e4711d42",
   "metadata": {
    "ExecuteTime": {
     "end_time": "2024-12-25T18:26:22.313Z",
     "start_time": "2024-12-25T18:26:22.278545Z"
    }
   },
   "source": [
    "# real case (part 1)\n",
    "result = part_1(puzzle.input(), False)\n",
    "print(result)\n",
    "assert result == 3307"
   ],
   "outputs": [
    {
     "name": "stdout",
     "output_type": "stream",
     "text": [
      "3307\n"
     ]
    }
   ],
   "execution_count": 4
  },
  {
   "cell_type": "code",
   "id": "44e329cbb6ad2400",
   "metadata": {
    "ExecuteTime": {
     "end_time": "2024-12-25T18:26:22.348221Z",
     "start_time": "2024-12-25T18:26:22.341617Z"
    }
   },
   "source": [
    "# print easters eggs\n",
    "puzzle.print_easter_eggs()"
   ],
   "outputs": [
    {
     "data": {
      "text/plain": [
       "<IPython.core.display.Markdown object>"
      ],
      "text/markdown": "## Easter Eggs"
     },
     "metadata": {},
     "output_type": "display_data"
    },
    {
     "data": {
      "text/plain": [
       "<IPython.core.display.Markdown object>"
      ],
      "text/markdown": "<span title=\"function knock() {\n  yield no_response;\n}\">yields</span> (function knock() {\n  yield no_response;\n})"
     },
     "metadata": {},
     "output_type": "display_data"
    }
   ],
   "execution_count": 5
  },
  {
   "cell_type": "code",
   "id": "0cf444a6",
   "metadata": {
    "ExecuteTime": {
     "end_time": "2024-12-25T18:26:22.378710Z",
     "start_time": "2024-12-25T18:26:22.376800Z"
    }
   },
   "source": [],
   "outputs": [],
   "execution_count": null
  }
 ],
 "metadata": {
  "kernelspec": {
   "display_name": ".venv",
   "language": "python",
   "name": "python3"
  },
  "language_info": {
   "codemirror_mode": {
    "name": "ipython",
    "version": 3
   },
   "file_extension": ".py",
   "mimetype": "text/x-python",
   "name": "python",
   "nbconvert_exporter": "python",
   "pygments_lexer": "ipython3",
   "version": "3.12.1"
  }
 },
 "nbformat": 4,
 "nbformat_minor": 5
}
