{
 "cells": [
  {
   "cell_type": "code",
   "execution_count": 3,
   "id": "dec75b3898d7314f",
   "metadata": {},
   "outputs": [
    {
     "data": {
      "text/markdown": [
       "# Code Chronicle"
      ],
      "text/plain": [
       "<IPython.core.display.Markdown object>"
      ]
     },
     "metadata": {},
     "output_type": "display_data"
    },
    {
     "data": {
      "text/markdown": [
       "[Open Website](https://adventofcode.com/2024/day/25)"
      ],
      "text/plain": [
       "<IPython.core.display.Markdown object>"
      ]
     },
     "metadata": {},
     "output_type": "display_data"
    }
   ],
   "source": [
    "from common.inputreader import InputReader, PuzzleWrapper\n",
    "\n",
    "puzzle = PuzzleWrapper(year=int(\"2024\"), day=int(\"25\"))\n",
    "\n",
    "puzzle.header()"
   ]
  },
  {
   "cell_type": "code",
   "execution_count": null,
   "id": "34dd2d43c40af29b",
   "metadata": {},
   "outputs": [],
   "source": [
    "# helper functions\n",
    "def domain_from_input(input: InputReader) -> (list,list):\n",
    "    keys =[]\n",
    "    locks = []\n",
    "    lines = input.lines_as_str() \n",
    "    new_set = []\n",
    "    is_key = False\n",
    "    \n",
    "    for line in lines:\n",
    "        if len(line) == 0:\n",
    "            if len(new_set) != 0:\n",
    "                if is_key:\n",
    "                    keys.append(new_set)\n",
    "                else:\n",
    "                    locks.append(new_set)\n",
    "            \n",
    "            new_set = []\n",
    "            continue\n",
    "        \n",
    "        if len(new_set) == 0:\n",
    "            # if all #'s it's a lock\n",
    "            if all(char == '#' for char in line):\n",
    "                is_key = False\n",
    "            else:\n",
    "                is_key = True\n",
    "            \n",
    "            for char in lines:\n",
    "                new_set.append([])\n",
    "        \n",
    "        for i in range(len(line)):\n",
    "            char = line[i]\n",
    "            new_set[i].append(char)\n",
    "            \n",
    "    if len(new_set) != 0:\n",
    "        if is_key:\n",
    "            keys.append(new_set)\n",
    "        else:\n",
    "            locks.append(new_set)\n",
    "            \n",
    "            \n",
    "\n",
    "    return keys, locks\n",
    "\n",
    "\n",
    "test_keys, test_locks = domain_from_input(puzzle.example(0))\n",
    "print(test_keys, test_locks)"
   ]
  },
  {
   "cell_type": "code",
   "execution_count": null,
   "id": "6d23892a17117fed",
   "metadata": {},
   "outputs": [],
   "source": [
    "# test case (part 1)\n",
    "def part_1(reader: InputReader, debug: bool) -> int:\n",
    "    lines = domain_from_input(reader)\n",
    "    if debug:\n",
    "        print(lines)\n",
    "    return 0\n",
    "\n",
    "\n",
    "result = part_1(puzzle.example(0), True)\n",
    "print(result)\n",
    "assert result == 0"
   ]
  },
  {
   "cell_type": "code",
   "execution_count": null,
   "id": "66cab898e4711d42",
   "metadata": {},
   "outputs": [],
   "source": [
    "# real case (part 1)\n",
    "result = part_1(puzzle.input(), False)\n",
    "print(result)"
   ]
  },
  {
   "cell_type": "code",
   "execution_count": null,
   "id": "d2277c7db8ea0a5e",
   "metadata": {},
   "outputs": [],
   "source": [
    "# test case (part 2)\n",
    "def part_2(reader: InputReader, debug: bool) -> int:\n",
    "    lines = domain_from_input(reader)\n",
    "    if debug:\n",
    "        print(lines)\n",
    "    return 0\n",
    "\n",
    "\n",
    "result = part_2(puzzle.example(0), True)\n",
    "print(result)\n",
    "assert result == 0"
   ]
  },
  {
   "cell_type": "code",
   "execution_count": null,
   "id": "57c071f7c6d2914",
   "metadata": {},
   "outputs": [],
   "source": [
    "# real case (part 2)\n",
    "result = part_2(puzzle.input(), False)\n",
    "print(result)"
   ]
  },
  {
   "cell_type": "code",
   "execution_count": null,
   "id": "44e329cbb6ad2400",
   "metadata": {},
   "outputs": [],
   "source": [
    "# print easters eggs\n",
    "puzzle.print_easter_eggs()"
   ]
  }
 ],
 "metadata": {
  "kernelspec": {
   "display_name": ".venv",
   "language": "python",
   "name": "python3"
  },
  "language_info": {
   "codemirror_mode": {
    "name": "ipython",
    "version": 3
   },
   "file_extension": ".py",
   "mimetype": "text/x-python",
   "name": "python",
   "nbconvert_exporter": "python",
   "pygments_lexer": "ipython3",
   "version": "3.12.1"
  }
 },
 "nbformat": 4,
 "nbformat_minor": 5
}
