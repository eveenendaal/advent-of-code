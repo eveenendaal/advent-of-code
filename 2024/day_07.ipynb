{
 "cells": [
  {
   "cell_type": "code",
   "execution_count": 1,
   "id": "948ae0e6f930a290",
   "metadata": {
    "ExecuteTime": {
     "end_time": "2024-12-23T12:24:06.730570Z",
     "start_time": "2024-12-23T12:24:06.074127Z"
    },
    "execution": {
     "iopub.execute_input": "2024-12-23T12:54:39.551176Z",
     "iopub.status.busy": "2024-12-23T12:54:39.550826Z",
     "iopub.status.idle": "2024-12-23T12:54:39.684690Z",
     "shell.execute_reply": "2024-12-23T12:54:39.684417Z"
    }
   },
   "outputs": [
    {
     "data": {
      "text/markdown": [
       "# Bridge Repair"
      ],
      "text/plain": [
       "<IPython.core.display.Markdown object>"
      ]
     },
     "metadata": {},
     "output_type": "display_data"
    },
    {
     "data": {
      "text/markdown": [
       "[Open Website](https://adventofcode.com/2024/day/7)"
      ],
      "text/plain": [
       "<IPython.core.display.Markdown object>"
      ]
     },
     "metadata": {},
     "output_type": "display_data"
    }
   ],
   "source": [
    "from common.inputreader import InputReader, PuzzleWrapper\n",
    "\n",
    "puzzle = PuzzleWrapper(year=2024, day=int(\"07\"))\n",
    "\n",
    "puzzle.header()"
   ]
  },
  {
   "cell_type": "code",
   "execution_count": 2,
   "id": "448f4c92dd29955d",
   "metadata": {
    "ExecuteTime": {
     "end_time": "2024-12-23T12:24:06.911543Z",
     "start_time": "2024-12-23T12:24:06.741191Z"
    },
    "execution": {
     "iopub.execute_input": "2024-12-23T12:54:39.686320Z",
     "iopub.status.busy": "2024-12-23T12:54:39.686197Z",
     "iopub.status.idle": "2024-12-23T12:54:39.708746Z",
     "shell.execute_reply": "2024-12-23T12:54:39.708374Z"
    }
   },
   "outputs": [
    {
     "name": "stdout",
     "output_type": "stream",
     "text": [
      "found solution ['*'] = 190\n",
      "found solution ['+', '*'] = 3267\n",
      "found solution ['+', '*', '+'] = 292\n",
      "3749\n"
     ]
    }
   ],
   "source": [
    "# test case (part 1)\n",
    "def input_to_domain(input: str) -> tuple:\n",
    "    lines = input.lines_as_strs()\n",
    "\n",
    "    input = []\n",
    "\n",
    "    for line in lines:\n",
    "        # trim : from end of first element and convert to int\n",
    "        total = int(line[0][:-1])\n",
    "        # numbers are the rest converted to ints\n",
    "        numbers = list(map(int, line[1:]))\n",
    "\n",
    "        input.append((total, numbers))\n",
    "\n",
    "    return input\n",
    "\n",
    "\n",
    "def max_length_from_domain(input: list) -> int:\n",
    "    max_length = 0\n",
    "\n",
    "    for next_ops in input:\n",
    "        numbers = next_ops[1]\n",
    "        if len(numbers) > max_length:\n",
    "            max_length = len(numbers)\n",
    "\n",
    "    return max_length\n",
    "\n",
    "\n",
    "def part_1(input: InputReader, debug: bool) -> int:\n",
    "    input = input_to_domain(input)\n",
    "    max_length = max_length_from_domain(input)\n",
    "    result = 0\n",
    "\n",
    "    all_operations = []\n",
    "    # find every possible combinations to 2 numbers of length \"operations\"\n",
    "    for i in range(max_length - 1):\n",
    "        if i == 0:\n",
    "            all_operations.append([\n",
    "                [\"+\"],\n",
    "                [\"*\"]\n",
    "            ])\n",
    "        else:\n",
    "            all_operations.append([])\n",
    "            last = all_operations[i - 1]\n",
    "            for next_ops in last:\n",
    "                all_operations[i].append(next_ops + [\"+\"])\n",
    "                all_operations[i].append(next_ops + [\"*\"])\n",
    "\n",
    "    for next_ops in input:\n",
    "        operations = all_operations[len(next_ops[1]) - 2]\n",
    "        target = next_ops[0]\n",
    "        numbers = next_ops[1]\n",
    "\n",
    "        for ops in operations:\n",
    "            # display(ops)\n",
    "            # display(total)\n",
    "            # display(numbers)\n",
    "\n",
    "            local_numbers = numbers.copy()\n",
    "            local_total = local_numbers.pop(0)\n",
    "            for op in ops:\n",
    "                if op == \"+\":\n",
    "                    local_total += local_numbers.pop(0)\n",
    "                elif op == \"*\":\n",
    "                    local_total *= local_numbers.pop(0)\n",
    "\n",
    "            if target == local_total:\n",
    "                if debug:\n",
    "                    print(f'found solution {ops} = {target}')\n",
    "                result += target\n",
    "                break\n",
    "\n",
    "    return result\n",
    "\n",
    "\n",
    "result = part_1(puzzle.example(0), True)\n",
    "print(result)\n",
    "assert result == 3749"
   ]
  },
  {
   "cell_type": "code",
   "execution_count": 3,
   "id": "87c9e9d2c12fefa3",
   "metadata": {
    "ExecuteTime": {
     "end_time": "2024-12-23T12:24:11.718259Z",
     "start_time": "2024-12-23T12:24:11.466220Z"
    },
    "execution": {
     "iopub.execute_input": "2024-12-23T12:54:39.710197Z",
     "iopub.status.busy": "2024-12-23T12:54:39.710086Z",
     "iopub.status.idle": "2024-12-23T12:54:39.860120Z",
     "shell.execute_reply": "2024-12-23T12:54:39.859847Z"
    }
   },
   "outputs": [
    {
     "data": {
      "text/plain": [
       "5540634308362"
      ]
     },
     "metadata": {},
     "output_type": "display_data"
    }
   ],
   "source": [
    "# real case (part 1)\n",
    "result = part_1(puzzle.input(), False)\n",
    "display(result)\n",
    "assert result == 5540634308362"
   ]
  },
  {
   "cell_type": "code",
   "execution_count": 4,
   "id": "2a45449bf6638dcd",
   "metadata": {
    "ExecuteTime": {
     "end_time": "2024-12-23T12:24:16.264351Z",
     "start_time": "2024-12-23T12:24:16.258684Z"
    },
    "execution": {
     "iopub.execute_input": "2024-12-23T12:54:39.861506Z",
     "iopub.status.busy": "2024-12-23T12:54:39.861410Z",
     "iopub.status.idle": "2024-12-23T12:54:39.866034Z",
     "shell.execute_reply": "2024-12-23T12:54:39.865792Z"
    }
   },
   "outputs": [
    {
     "name": "stdout",
     "output_type": "stream",
     "text": [
      "found solution ['*'] = 190\n",
      "found solution ['+', '*'] = 3267\n",
      "found solution ['||'] = 156\n",
      "found solution ['*', '||', '*'] = 7290\n",
      "found solution ['||', '+'] = 192\n",
      "found solution ['+', '*', '+'] = 292\n",
      "11387\n"
     ]
    }
   ],
   "source": [
    "# test case (part 2)\n",
    "def part_2(input: InputReader, debug: bool) -> int:\n",
    "    input = input_to_domain(input)\n",
    "    max_length = max_length_from_domain(input)\n",
    "    result = 0\n",
    "\n",
    "    all_operations = []\n",
    "    # find every possible combinations to 2 numbers of length \"operations\"\n",
    "    for i in range(max_length - 1):\n",
    "        if i == 0:\n",
    "            all_operations.append([\n",
    "                [\"+\"],\n",
    "                [\"*\"],\n",
    "                [\"||\"]\n",
    "            ])\n",
    "        else:\n",
    "            all_operations.append([])\n",
    "            last = all_operations[i - 1]\n",
    "            for next_ops in last:\n",
    "                all_operations[i].append(next_ops + [\"+\"])\n",
    "                all_operations[i].append(next_ops + [\"*\"])\n",
    "                all_operations[i].append(next_ops + [\"||\"])\n",
    "\n",
    "    for next_ops in input:\n",
    "        operations = all_operations[len(next_ops[1]) - 2]\n",
    "        target = next_ops[0]\n",
    "        numbers = next_ops[1]\n",
    "\n",
    "        for ops in operations:\n",
    "            local_numbers = numbers.copy()\n",
    "            local_total = local_numbers.pop(0)\n",
    "            for op in ops:\n",
    "                if op == \"+\":\n",
    "                    local_total += local_numbers.pop(0)\n",
    "                elif op == \"*\":\n",
    "                    local_total *= local_numbers.pop(0)\n",
    "                elif op == \"||\":\n",
    "                    local_total = int(str(local_total) + str(local_numbers.pop(0)))\n",
    "\n",
    "            if target == local_total:\n",
    "                if debug:\n",
    "                    print(f'found solution {ops} = {target}')\n",
    "                result += target\n",
    "                break\n",
    "\n",
    "    return result\n",
    "\n",
    "\n",
    "result = part_2(puzzle.example(0), True)\n",
    "print(result)\n",
    "assert result == 11387"
   ]
  },
  {
   "cell_type": "code",
   "execution_count": 5,
   "id": "f1954dbae22e1041",
   "metadata": {
    "ExecuteTime": {
     "end_time": "2024-12-23T12:24:30.988789Z",
     "start_time": "2024-12-23T12:24:17.136274Z"
    },
    "execution": {
     "iopub.execute_input": "2024-12-23T12:54:39.867280Z",
     "iopub.status.busy": "2024-12-23T12:54:39.867181Z",
     "iopub.status.idle": "2024-12-23T12:54:53.788379Z",
     "shell.execute_reply": "2024-12-23T12:54:53.787899Z"
    }
   },
   "outputs": [
    {
     "data": {
      "text/plain": [
       "472290821152397"
      ]
     },
     "metadata": {},
     "output_type": "display_data"
    }
   ],
   "source": [
    "# real case (part 2)\n",
    "result = part_2(puzzle.input(), False)\n",
    "display(result)\n",
    "assert result == 472290821152397"
   ]
  },
  {
   "cell_type": "code",
   "execution_count": null,
   "id": "d314510a996c171c",
   "metadata": {},
   "outputs": [],
   "source": []
  }
 ],
 "metadata": {
  "kernelspec": {
   "display_name": "Python 3",
   "language": "python",
   "name": "python3"
  },
  "language_info": {
   "codemirror_mode": {
    "name": "ipython",
    "version": 3
   },
   "file_extension": ".py",
   "mimetype": "text/x-python",
   "name": "python",
   "nbconvert_exporter": "python",
   "pygments_lexer": "ipython3",
   "version": "3.13.0"
  }
 },
 "nbformat": 4,
 "nbformat_minor": 5
}
