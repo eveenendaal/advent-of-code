{
 "cells": [
  {
   "metadata": {
    "ExecuteTime": {
     "end_time": "2024-12-23T18:43:17.089781Z",
     "start_time": "2024-12-23T18:43:17.062165Z"
    }
   },
   "cell_type": "code",
   "source": [
    "import re\n",
    "\n",
    "from common.inputreader import InputReader, PuzzleWrapper\n",
    "\n",
    "puzzle = PuzzleWrapper(year=int(\"2016\"), day=int(\"01\"))\n",
    "\n",
    "puzzle.header()"
   ],
   "id": "dec75b3898d7314f",
   "outputs": [
    {
     "data": {
      "text/plain": [
       "<IPython.core.display.Markdown object>"
      ],
      "text/markdown": "# No Time for a Taxicab"
     },
     "metadata": {},
     "output_type": "display_data"
    },
    {
     "data": {
      "text/plain": [
       "<IPython.core.display.Markdown object>"
      ],
      "text/markdown": "[Open Website](https://adventofcode.com/2016/day/1)"
     },
     "metadata": {},
     "output_type": "display_data"
    }
   ],
   "execution_count": 23
  },
  {
   "metadata": {
    "ExecuteTime": {
     "end_time": "2024-12-23T18:43:17.123009Z",
     "start_time": "2024-12-23T18:43:17.114208Z"
    }
   },
   "cell_type": "code",
   "source": [
    "# helper functions\n",
    "def domain_from_input(input: InputReader) -> list:\n",
    "    directions = []\n",
    "    for line in input.lines_as_strs():\n",
    "        for direction in line:\n",
    "            directions.append(direction)\n",
    "    return directions\n",
    "\n",
    "\n",
    "test_input = domain_from_input(puzzle.example(0))\n",
    "print(test_input)"
   ],
   "id": "34dd2d43c40af29b",
   "outputs": [
    {
     "name": "stdout",
     "output_type": "stream",
     "text": [
      "['R2,', 'L3']\n"
     ]
    }
   ],
   "execution_count": 24
  },
  {
   "metadata": {
    "ExecuteTime": {
     "end_time": "2024-12-23T18:43:17.146705Z",
     "start_time": "2024-12-23T18:43:17.141380Z"
    }
   },
   "cell_type": "code",
   "source": [
    "import re\n",
    "from common.matrix import Direction\n",
    "\n",
    "directions = [\n",
    "    (0,1),\n",
    "    (1,0),\n",
    "    (0,-1),\n",
    "    (-1,0)\n",
    "]\n",
    "\n",
    "\n",
    "# test case (part 1)\n",
    "def part_1(reader: InputReader, debug: bool) -> int:\n",
    "    actions = domain_from_input(reader)\n",
    "\n",
    "    start = (0, 0)\n",
    "    current_direction = (0, 1)\n",
    "    pattern = re.compile(r\"([A-Z])(\\d+)\")\n",
    "\n",
    "    for direction in actions:\n",
    "        match = pattern.match(direction)\n",
    "        if match:\n",
    "            turn = match.group(1)\n",
    "            if turn == \"R\":\n",
    "                current_direction = directions[(directions.index(current_direction) + 1) % 4]\n",
    "            else:\n",
    "                current_direction = directions[(directions.index(current_direction) - 1) % 4]\n",
    "\n",
    "            distance = int(match.group(2))\n",
    "            for _ in range(distance):\n",
    "                start = (start[0] + current_direction[0], start[1] + current_direction[1])\n",
    "\n",
    "            if debug:\n",
    "                print(f\"Turn: {turn}, Distance: {distance}, Direction: {current_direction}\")\n",
    "\n",
    "    if debug:\n",
    "        print(f\"Final position: {start}\")\n",
    "\n",
    "    return abs(start[0]) + abs(start[1])\n",
    "\n",
    "\n",
    "result = part_1(puzzle.example(0), True)\n",
    "print(result)\n",
    "assert result == 5"
   ],
   "id": "6d23892a17117fed",
   "outputs": [
    {
     "name": "stdout",
     "output_type": "stream",
     "text": [
      "Turn: R, Distance: 2, Direction: (1, 0)\n",
      "Turn: L, Distance: 3, Direction: (0, 1)\n",
      "Final position: (2, 3)\n",
      "5\n"
     ]
    }
   ],
   "execution_count": 25
  },
  {
   "metadata": {
    "ExecuteTime": {
     "end_time": "2024-12-23T18:43:17.220058Z",
     "start_time": "2024-12-23T18:43:17.216731Z"
    }
   },
   "cell_type": "code",
   "source": [
    "# real case (part 1)\n",
    "result = part_1(puzzle.input(), False)\n",
    "print(result)\n",
    "assert result == 236"
   ],
   "id": "66cab898e4711d42",
   "outputs": [
    {
     "name": "stdout",
     "output_type": "stream",
     "text": [
      "236\n"
     ]
    }
   ],
   "execution_count": 26
  },
  {
   "metadata": {
    "ExecuteTime": {
     "end_time": "2024-12-23T18:43:17.247299Z",
     "start_time": "2024-12-23T18:43:17.243378Z"
    }
   },
   "cell_type": "code",
   "source": [
    "# test case (part 2)\n",
    "def part_2(reader: InputReader, debug: bool) -> int:\n",
    "    actions = domain_from_input(reader)\n",
    "\n",
    "    start = (0, 0)\n",
    "    current_direction = (0, 1)\n",
    "    pattern = re.compile(r\"([A-Z])(\\d+)\")\n",
    "\n",
    "    visit = {}\n",
    "\n",
    "    for direction in actions:\n",
    "        match = pattern.match(direction)\n",
    "        if match:\n",
    "            turn = match.group(1)\n",
    "            if turn == \"R\":\n",
    "                current_direction = directions[(directions.index(current_direction) + 1) % 4]\n",
    "            else:\n",
    "                current_direction = directions[(directions.index(current_direction) - 1) % 4]\n",
    "\n",
    "            distance = int(match.group(2))\n",
    "            for _ in range(distance):\n",
    "                start = (start[0] + current_direction[0], start[1] + current_direction[1])\n",
    "                if start in visit:\n",
    "                    visit[start] += 1\n",
    "                else:\n",
    "                    visit[start] = 1\n",
    "\n",
    "            if debug:\n",
    "                print(f\"Turn: {turn}, Distance: {distance}, Direction: {current_direction}\")\n",
    "\n",
    "    if debug:\n",
    "        print(f\"Visited: {visit}\")\n",
    "\n",
    "    # find the first location that was visited twice\n",
    "    for location, count in visit.items():\n",
    "        if count > 1:\n",
    "            start = location\n",
    "            break\n",
    "\n",
    "    return abs(start[0]) + abs(start[1])\n",
    "\n",
    "\n",
    "result = part_2(InputReader(\"R8, R4, R4, R8\"), True)\n",
    "print(result)\n",
    "assert result == 4"
   ],
   "id": "d2277c7db8ea0a5e",
   "outputs": [
    {
     "name": "stdout",
     "output_type": "stream",
     "text": [
      "Turn: R, Distance: 8, Direction: (1, 0)\n",
      "Turn: R, Distance: 4, Direction: (0, -1)\n",
      "Turn: R, Distance: 4, Direction: (-1, 0)\n",
      "Turn: R, Distance: 8, Direction: (0, 1)\n",
      "Visited: {(1, 0): 1, (2, 0): 1, (3, 0): 1, (4, 0): 2, (5, 0): 1, (6, 0): 1, (7, 0): 1, (8, 0): 1, (8, -1): 1, (8, -2): 1, (8, -3): 1, (8, -4): 1, (7, -4): 1, (6, -4): 1, (5, -4): 1, (4, -4): 1, (4, -3): 1, (4, -2): 1, (4, -1): 1, (4, 1): 1, (4, 2): 1, (4, 3): 1, (4, 4): 1}\n",
      "4\n"
     ]
    }
   ],
   "execution_count": 27
  },
  {
   "metadata": {
    "ExecuteTime": {
     "end_time": "2024-12-23T18:43:17.270165Z",
     "start_time": "2024-12-23T18:43:17.267669Z"
    }
   },
   "cell_type": "code",
   "source": [
    "# real case (part 2)\n",
    "result = part_2(puzzle.input(), False)\n",
    "print(result)\n",
    "assert result == 182"
   ],
   "id": "57c071f7c6d2914",
   "outputs": [
    {
     "name": "stdout",
     "output_type": "stream",
     "text": [
      "182\n"
     ]
    }
   ],
   "execution_count": 28
  },
  {
   "metadata": {
    "ExecuteTime": {
     "end_time": "2024-12-23T18:43:17.292997Z",
     "start_time": "2024-12-23T18:43:17.288526Z"
    }
   },
   "cell_type": "code",
   "source": [
    "# print easters eggs\n",
    "puzzle.print_easter_eggs()"
   ],
   "id": "44e329cbb6ad2400",
   "outputs": [
    {
     "data": {
      "text/plain": [
       "<IPython.core.display.Markdown object>"
      ],
      "text/markdown": "## Easter Eggs"
     },
     "metadata": {},
     "output_type": "display_data"
    },
    {
     "data": {
      "text/plain": [
       "<IPython.core.display.Markdown object>"
      ],
      "text/markdown": "<span title=\"An atomic clock is too inaccurate; he might end up in a wall!\">very high-precision clock</span> (An atomic clock is too inaccurate; he might end up in a wall!)"
     },
     "metadata": {},
     "output_type": "display_data"
    }
   ],
   "execution_count": 29
  }
 ],
 "metadata": {
  "kernelspec": {
   "display_name": "Python 3",
   "language": "python",
   "name": "python3"
  },
  "language_info": {
   "codemirror_mode": {
    "name": "ipython",
    "version": 2
   },
   "file_extension": ".py",
   "mimetype": "text/x-python",
   "name": "python",
   "nbconvert_exporter": "python",
   "pygments_lexer": "ipython2",
   "version": "2.7.6"
  }
 },
 "nbformat": 4,
 "nbformat_minor": 5
}
