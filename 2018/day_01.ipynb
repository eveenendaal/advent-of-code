{
 "cells": [
  {
   "metadata": {
    "ExecuteTime": {
     "end_time": "2024-12-26T08:15:11.818173Z",
     "start_time": "2024-12-26T08:15:11.788732Z"
    }
   },
   "cell_type": "code",
   "source": [
    "from common.inputreader import InputReader, PuzzleWrapper\n",
    "\n",
    "puzzle = PuzzleWrapper(year=int(\"2018\"), day=int(\"01\"))\n",
    "\n",
    "puzzle.header()"
   ],
   "id": "dec75b3898d7314f",
   "outputs": [
    {
     "data": {
      "text/plain": [
       "<IPython.core.display.Markdown object>"
      ],
      "text/markdown": "# Chronal Calibration"
     },
     "metadata": {},
     "output_type": "display_data"
    },
    {
     "data": {
      "text/plain": [
       "<IPython.core.display.Markdown object>"
      ],
      "text/markdown": "[Open Website](https://adventofcode.com/2018/day/1)"
     },
     "metadata": {},
     "output_type": "display_data"
    }
   ],
   "execution_count": 40
  },
  {
   "metadata": {
    "ExecuteTime": {
     "end_time": "2024-12-26T08:15:11.876866Z",
     "start_time": "2024-12-26T08:15:11.867437Z"
    }
   },
   "cell_type": "code",
   "source": [
    "# helper functions\n",
    "def domain_from_input(input: InputReader) -> list:\n",
    "    lines = input.lines_as_str()\n",
    "    numbers = []\n",
    "    for line in lines:\n",
    "        for num in line.split(\",\"):\n",
    "            # trim +s\n",
    "            if num[0] == \"+\":\n",
    "                num = num[1:]\n",
    "            numbers.append(int(num))\n",
    "    return numbers\n",
    "\n",
    "\n",
    "test_input = domain_from_input(puzzle.example(0))\n",
    "print(test_input)"
   ],
   "id": "34dd2d43c40af29b",
   "outputs": [
    {
     "name": "stdout",
     "output_type": "stream",
     "text": [
      "[1, -2, 3, 1]\n"
     ]
    }
   ],
   "execution_count": 41
  },
  {
   "metadata": {
    "ExecuteTime": {
     "end_time": "2024-12-26T08:15:11.911754Z",
     "start_time": "2024-12-26T08:15:11.907436Z"
    }
   },
   "cell_type": "code",
   "source": [
    "# test case (part 1)\n",
    "def part_1(reader: InputReader, debug: bool) -> int:\n",
    "    numbers = domain_from_input(reader)\n",
    "    if debug:\n",
    "        print(numbers)\n",
    "    return sum(numbers)\n",
    "\n",
    "\n",
    "result = part_1(puzzle.example(0), True)\n",
    "print(result)\n",
    "assert result == 3"
   ],
   "id": "6d23892a17117fed",
   "outputs": [
    {
     "name": "stdout",
     "output_type": "stream",
     "text": [
      "[1, -2, 3, 1]\n",
      "3\n"
     ]
    }
   ],
   "execution_count": 42
  },
  {
   "metadata": {
    "ExecuteTime": {
     "end_time": "2024-12-26T08:15:11.943612Z",
     "start_time": "2024-12-26T08:15:11.941003Z"
    }
   },
   "cell_type": "code",
   "source": [
    "# real case (part 1)\n",
    "result = part_1(puzzle.input(), False)\n",
    "print(result)\n",
    "assert result == 590"
   ],
   "id": "66cab898e4711d42",
   "outputs": [
    {
     "name": "stdout",
     "output_type": "stream",
     "text": [
      "590\n"
     ]
    }
   ],
   "execution_count": 43
  },
  {
   "metadata": {
    "ExecuteTime": {
     "end_time": "2024-12-26T08:15:11.969784Z",
     "start_time": "2024-12-26T08:15:11.966840Z"
    }
   },
   "cell_type": "code",
   "source": [
    "# test case (part 2)\n",
    "def part_2(reader: InputReader, debug: bool) -> int:\n",
    "    history = set()\n",
    "    numbers = domain_from_input(reader)\n",
    "    current_frequency = 0\n",
    "    history.add(current_frequency)\n",
    "\n",
    "    while True:\n",
    "        for number in numbers:\n",
    "            current_frequency += number\n",
    "            if current_frequency in history:\n",
    "                return current_frequency\n",
    "            history.add(current_frequency)\n",
    "\n",
    "\n",
    "result = part_2(InputReader(\"+1, -1\"), True)\n",
    "print(result)\n",
    "assert result == 0\n",
    "\n",
    "result = part_2(InputReader(\"+3, +3, +4, -2, -4\"), True)\n",
    "print(result)\n",
    "assert result == 10\n",
    "\n",
    "result = part_2(InputReader(\"-6, +3, +8, +5, -6\"), True)\n",
    "print(result)\n",
    "assert result == 5\n",
    "\n",
    "result = part_2(InputReader(\"+7, +7, -2, -7, -4\"), True)\n",
    "print(result)\n",
    "assert result == 14"
   ],
   "id": "d2277c7db8ea0a5e",
   "outputs": [
    {
     "name": "stdout",
     "output_type": "stream",
     "text": [
      "0\n",
      "10\n",
      "5\n",
      "14\n"
     ]
    }
   ],
   "execution_count": 44
  },
  {
   "metadata": {
    "ExecuteTime": {
     "end_time": "2024-12-26T08:15:12.075432Z",
     "start_time": "2024-12-26T08:15:12.054343Z"
    }
   },
   "cell_type": "code",
   "source": [
    "# real case (part 2)\n",
    "result = part_2(puzzle.input(), False)\n",
    "print(result)\n",
    "assert result == 83445"
   ],
   "id": "57c071f7c6d2914",
   "outputs": [
    {
     "name": "stdout",
     "output_type": "stream",
     "text": [
      "83445\n"
     ]
    }
   ],
   "execution_count": 45
  },
  {
   "metadata": {
    "ExecuteTime": {
     "end_time": "2024-12-26T08:15:12.088164Z",
     "start_time": "2024-12-26T08:15:12.083929Z"
    }
   },
   "cell_type": "code",
   "source": [
    "# print easters eggs\n",
    "puzzle.print_easter_eggs()"
   ],
   "id": "44e329cbb6ad2400",
   "outputs": [
    {
     "data": {
      "text/plain": [
       "<IPython.core.display.Markdown object>"
      ],
      "text/markdown": "## Easter Eggs"
     },
     "metadata": {},
     "output_type": "display_data"
    },
    {
     "data": {
      "text/plain": [
       "<IPython.core.display.Markdown object>"
      ],
      "text/markdown": "<span title=\"It's about as big on the inside as you expected.\">Temporal Anomaly Research and Detection Instrument Station</span> (It's about as big on the inside as you expected.)"
     },
     "metadata": {},
     "output_type": "display_data"
    }
   ],
   "execution_count": 46
  }
 ],
 "metadata": {
  "kernelspec": {
   "display_name": "Python 3",
   "language": "python",
   "name": "python3"
  },
  "language_info": {
   "codemirror_mode": {
    "name": "ipython",
    "version": 2
   },
   "file_extension": ".py",
   "mimetype": "text/x-python",
   "name": "python",
   "nbconvert_exporter": "python",
   "pygments_lexer": "ipython2",
   "version": "2.7.6"
  }
 },
 "nbformat": 4,
 "nbformat_minor": 5
}
