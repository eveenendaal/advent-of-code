{
 "cells": [
  {
   "metadata": {
    "ExecuteTime": {
     "end_time": "2024-12-27T20:18:49.062934Z",
     "start_time": "2024-12-27T20:18:49.035604Z"
    }
   },
   "cell_type": "code",
   "source": [
    "import itertools\n",
    "\n",
    "from common.inputreader import InputReader, PuzzleWrapper\n",
    "\n",
    "puzzle = PuzzleWrapper(year=int(\"2021\"), day=int(\"01\"))\n",
    "\n",
    "puzzle.header()"
   ],
   "id": "dec75b3898d7314f",
   "outputs": [
    {
     "data": {
      "text/plain": [
       "<IPython.core.display.Markdown object>"
      ],
      "text/markdown": "# Sonar Sweep"
     },
     "metadata": {},
     "output_type": "display_data"
    },
    {
     "data": {
      "text/plain": [
       "<IPython.core.display.Markdown object>"
      ],
      "text/markdown": "[Open Website](https://adventofcode.com/2021/day/1)"
     },
     "metadata": {},
     "output_type": "display_data"
    }
   ],
   "execution_count": 11
  },
  {
   "metadata": {
    "ExecuteTime": {
     "end_time": "2024-12-27T20:18:49.093242Z",
     "start_time": "2024-12-27T20:18:49.083797Z"
    }
   },
   "cell_type": "code",
   "source": [
    "# helper functions\n",
    "def domain_from_input(input: InputReader) -> list:\n",
    "    lines = input.lines_as_int()\n",
    "\n",
    "    return lines\n",
    "\n",
    "\n",
    "test_input = domain_from_input(puzzle.example(0))\n",
    "print(test_input)"
   ],
   "id": "34dd2d43c40af29b",
   "outputs": [
    {
     "name": "stdout",
     "output_type": "stream",
     "text": [
      "[199, 200, 208, 210, 200, 207, 240, 269, 260, 263]\n"
     ]
    }
   ],
   "execution_count": 12
  },
  {
   "metadata": {
    "ExecuteTime": {
     "end_time": "2024-12-27T20:18:49.111437Z",
     "start_time": "2024-12-27T20:18:49.105619Z"
    }
   },
   "cell_type": "code",
   "source": [
    "import itertools\n",
    "\n",
    "# test case (part 1)\n",
    "def part_1(reader: InputReader, debug: bool) -> int:\n",
    "    increase = 0\n",
    "    lines = domain_from_input(reader)\n",
    "\n",
    "    for next in itertools.pairwise(lines):\n",
    "        if next[0] < next[1]:\n",
    "            increase += 1\n",
    "\n",
    "    if debug:\n",
    "        print(lines)\n",
    "    return increase\n",
    "\n",
    "\n",
    "result = part_1(puzzle.example(0), True)\n",
    "print(result)\n",
    "assert result == 7"
   ],
   "id": "6d23892a17117fed",
   "outputs": [
    {
     "name": "stdout",
     "output_type": "stream",
     "text": [
      "[199, 200, 208, 210, 200, 207, 240, 269, 260, 263]\n",
      "7\n"
     ]
    }
   ],
   "execution_count": 13
  },
  {
   "metadata": {
    "ExecuteTime": {
     "end_time": "2024-12-27T20:18:49.252626Z",
     "start_time": "2024-12-27T20:18:49.223501Z"
    }
   },
   "cell_type": "code",
   "source": [
    "# real case (part 1)\n",
    "result = part_1(puzzle.input(), False)\n",
    "print(result)\n",
    "assert result == 1709"
   ],
   "id": "66cab898e4711d42",
   "outputs": [
    {
     "name": "stdout",
     "output_type": "stream",
     "text": [
      "1709\n"
     ]
    }
   ],
   "execution_count": 14
  },
  {
   "metadata": {
    "ExecuteTime": {
     "end_time": "2024-12-27T20:18:49.403516Z",
     "start_time": "2024-12-27T20:18:49.384822Z"
    }
   },
   "cell_type": "code",
   "source": [
    "# test case (part 2)\n",
    "def part_2(reader: InputReader, debug: bool) -> int:\n",
    "    lines = domain_from_input(reader)\n",
    "    increase = 0\n",
    "\n",
    "    # Calculate the sum of each three-measurement sliding window\n",
    "    window_sums = [sum(lines[i:i+3]) for i in range(len(lines) - 2)]\n",
    "\n",
    "    # Compare each sum with the previous sum\n",
    "    for prev, curr in itertools.pairwise(window_sums):\n",
    "        if curr > prev:\n",
    "            increase += 1\n",
    "\n",
    "    if debug:\n",
    "        print(window_sums)\n",
    "    return increase\n",
    "\n",
    "# Test case (part 2)\n",
    "result = part_2(puzzle.example(0), True)\n",
    "print(result)\n",
    "assert result == 5"
   ],
   "id": "d2277c7db8ea0a5e",
   "outputs": [
    {
     "name": "stdout",
     "output_type": "stream",
     "text": [
      "[607, 618, 618, 617, 647, 716, 769, 792]\n",
      "5\n"
     ]
    }
   ],
   "execution_count": 15
  },
  {
   "metadata": {
    "ExecuteTime": {
     "end_time": "2024-12-27T20:18:49.493294Z",
     "start_time": "2024-12-27T20:18:49.489636Z"
    }
   },
   "cell_type": "code",
   "source": [
    "# real case (part 2)\n",
    "result = part_2(puzzle.input(), False)\n",
    "print(result)\n",
    "assert result == 1761"
   ],
   "id": "57c071f7c6d2914",
   "outputs": [
    {
     "name": "stdout",
     "output_type": "stream",
     "text": [
      "1761\n"
     ]
    }
   ],
   "execution_count": 16
  },
  {
   "metadata": {
    "ExecuteTime": {
     "end_time": "2024-12-27T20:18:49.520817Z",
     "start_time": "2024-12-27T20:18:49.516199Z"
    }
   },
   "cell_type": "code",
   "source": [
    "# print easters eggs\n",
    "puzzle.print_easter_eggs()"
   ],
   "id": "44e329cbb6ad2400",
   "outputs": [
    {
     "data": {
      "text/plain": [
       "<IPython.core.display.Markdown object>"
      ],
      "text/markdown": "## Easter Eggs"
     },
     "metadata": {},
     "output_type": "display_data"
    },
    {
     "data": {
      "text/plain": [
       "<IPython.core.display.Markdown object>"
      ],
      "text/markdown": "<span title=\"Does this premise seem fishy to you?\">carried into deeper water</span> (Does this premise seem fishy to you?)"
     },
     "metadata": {},
     "output_type": "display_data"
    }
   ],
   "execution_count": 17
  }
 ],
 "metadata": {
  "kernelspec": {
   "display_name": "Python 3",
   "language": "python",
   "name": "python3"
  },
  "language_info": {
   "codemirror_mode": {
    "name": "ipython",
    "version": 2
   },
   "file_extension": ".py",
   "mimetype": "text/x-python",
   "name": "python",
   "nbconvert_exporter": "python",
   "pygments_lexer": "ipython2",
   "version": "2.7.6"
  }
 },
 "nbformat": 4,
 "nbformat_minor": 5
}
